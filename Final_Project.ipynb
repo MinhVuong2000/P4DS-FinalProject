{
 "cells": [
  {
   "cell_type": "markdown",
   "id": "287035a1-1430-4590-9def-557592c473a5",
   "metadata": {},
   "source": [
    "# Đồ án cuối kì\n",
    "Thông tin nhóm:\n",
    "1. Lê Hồng Huy - 18120182\n",
    "2. Nguyễn Thị Minh Vượng - 18120265\n",
    "<br/><br/>\n",
    "\n",
    "Github làm việc [tại đây](https://github.com/MinhVuong2000/P4DS-FinalProject)"
   ]
  },
  {
   "cell_type": "markdown",
   "id": "757a2363-3a2f-4c57-bda4-80d2dd9e6747",
   "metadata": {},
   "source": [
    "---"
   ]
  },
  {
   "cell_type": "markdown",
   "id": "573fca16-4d7c-4c47-bfaa-38a7f6e8a1fb",
   "metadata": {},
   "source": [
    "## Môi trường code"
   ]
  },
  {
   "cell_type": "code",
   "execution_count": 20,
   "id": "912f9c6a-aa82-4089-b528-8639fc574cc0",
   "metadata": {},
   "outputs": [
    {
     "data": {
      "text/plain": [
       "'C:\\\\Users\\\\lhong\\\\anaconda3\\\\python.exe'"
      ]
     },
     "execution_count": 20,
     "metadata": {},
     "output_type": "execute_result"
    }
   ],
   "source": [
    "import sys\n",
    "sys.executable"
   ]
  },
  {
   "cell_type": "markdown",
   "id": "2f467bcf-1388-4d9a-bc6f-cf5d8c4a9202",
   "metadata": {},
   "source": [
    "---"
   ]
  },
  {
   "cell_type": "markdown",
   "id": "0a64353f-bb9c-428d-b52b-9c55e810c6e9",
   "metadata": {},
   "source": [
    "## Import các thư viện cần thiết"
   ]
  },
  {
   "cell_type": "code",
   "execution_count": 2,
   "id": "4d2a80d1-3316-427d-9c80-8637cb47aa9e",
   "metadata": {},
   "outputs": [],
   "source": [
    "import pandas as pd\n",
    "import matplotlib.pyplot as plt\n",
    "import numpy as np\n",
    "import os\n",
    "# YOUR CODE HERE (OPTION) "
   ]
  },
  {
   "cell_type": "markdown",
   "id": "35b783e5-ca1a-421e-b55f-2d7141c18ada",
   "metadata": {},
   "source": [
    "---"
   ]
  },
  {
   "cell_type": "markdown",
   "id": "17aed7d8-a427-4d51-89dd-c4694f3edfcd",
   "metadata": {},
   "source": [
    "## Thu thập dữ liệu"
   ]
  },
  {
   "cell_type": "markdown",
   "id": "f8a182e9-c4d6-4ae5-a6f0-c4c2aa7c9c23",
   "metadata": {},
   "source": [
    "- **Dữ liệu**: Dữ liệu được lấy từ Kaggle, là tập [Heart Failure Prediction Dataset](https://www.kaggle.com/fedesoriano/heart-failure-prediction)\n",
    "- **Nguồn**: Bộ dữ liệu này được tạo ra bằng cách kết hợp các bộ dữ liệu khác nhau đã có sẵn độc lập nhưng không được kết hợp trước đó. Trong bộ dữ liệu này, 5 bộ dữ liệu tim được kết hợp gồm 11 thuộc tính chung và 918 dòng, làm cho nó trở thành bộ dữ liệu bệnh tim lớn nhất có sẵn cho đến nay cho mục đích nghiên cứu:\n",
    "    - Cleveland: 303 quan sát\n",
    "    - Hungarian: 294 quan sát\n",
    "    - Switzerland: 123 quan sát\n",
    "    - Long Beach VA: 200 quan sát\n",
    "    - Stalog (Heart) Data Set: 270 quan sát\n",
    "- **Giấy phép**: Open Data Commons Open Database License (ODbL) v1.0\n",
    "\n"
   ]
  },
  {
   "cell_type": "markdown",
   "id": "d255c255-618d-44bb-934c-ed71700b00e1",
   "metadata": {},
   "source": [
    "### Tải dữ liệu "
   ]
  },
  {
   "cell_type": "code",
   "execution_count": 3,
   "id": "50038f32-49c8-497c-b9c5-0dc449b7d288",
   "metadata": {},
   "outputs": [
    {
     "name": "stdout",
     "output_type": "stream",
     "text": [
      "--2022-01-16 21:06:55--  https://gist.githubusercontent.com/MinhVuong2000/8286380838ef575032894dceab5072ed/raw/cc96ec954cc1d94c0548a32f64ff29ba3f8390bf/heart.csv\n",
      "Resolving gist.githubusercontent.com (gist.githubusercontent.com)... 185.199.108.133, 185.199.111.133, 185.199.109.133, ...\n",
      "Connecting to gist.githubusercontent.com (gist.githubusercontent.com)|185.199.108.133|:443... connected.\n",
      "HTTP request sent, awaiting response... 200 OK\n",
      "Length: 35921 (35K) [text/plain]\n",
      "Saving to: ‘data.csv’\n",
      "\n",
      "data.csv            100%[===================>]  35.08K  --.-KB/s    in 0.06s   \n",
      "\n",
      "2022-01-16 21:06:56 (603 KB/s) - ‘data.csv’ saved [35921/35921]\n",
      "\n"
     ]
    }
   ],
   "source": [
    "!wget -O data.csv https://gist.githubusercontent.com/MinhVuong2000/8286380838ef575032894dceab5072ed/raw/cc96ec954cc1d94c0548a32f64ff29ba3f8390bf/heart.csv"
   ]
  },
  {
   "cell_type": "markdown",
   "id": "08229b1d-dd1c-4b8d-a741-2bac17932e7f",
   "metadata": {},
   "source": [
    "### Đọc dữ liệu"
   ]
  },
  {
   "cell_type": "code",
   "execution_count": 4,
   "id": "e14d6e5a-59ef-4a0e-b670-8869804dcd20",
   "metadata": {},
   "outputs": [
    {
     "data": {
      "text/html": [
       "<div>\n",
       "<style scoped>\n",
       "    .dataframe tbody tr th:only-of-type {\n",
       "        vertical-align: middle;\n",
       "    }\n",
       "\n",
       "    .dataframe tbody tr th {\n",
       "        vertical-align: top;\n",
       "    }\n",
       "\n",
       "    .dataframe thead th {\n",
       "        text-align: right;\n",
       "    }\n",
       "</style>\n",
       "<table border=\"1\" class=\"dataframe\">\n",
       "  <thead>\n",
       "    <tr style=\"text-align: right;\">\n",
       "      <th></th>\n",
       "      <th>Age</th>\n",
       "      <th>Sex</th>\n",
       "      <th>ChestPainType</th>\n",
       "      <th>RestingBP</th>\n",
       "      <th>Cholesterol</th>\n",
       "      <th>FastingBS</th>\n",
       "      <th>RestingECG</th>\n",
       "      <th>MaxHR</th>\n",
       "      <th>ExerciseAngina</th>\n",
       "      <th>Oldpeak</th>\n",
       "      <th>ST_Slope</th>\n",
       "      <th>HeartDisease</th>\n",
       "    </tr>\n",
       "  </thead>\n",
       "  <tbody>\n",
       "    <tr>\n",
       "      <th>0</th>\n",
       "      <td>40</td>\n",
       "      <td>M</td>\n",
       "      <td>ATA</td>\n",
       "      <td>140</td>\n",
       "      <td>289</td>\n",
       "      <td>0</td>\n",
       "      <td>Normal</td>\n",
       "      <td>172</td>\n",
       "      <td>N</td>\n",
       "      <td>0.0</td>\n",
       "      <td>Up</td>\n",
       "      <td>0</td>\n",
       "    </tr>\n",
       "    <tr>\n",
       "      <th>1</th>\n",
       "      <td>49</td>\n",
       "      <td>F</td>\n",
       "      <td>NAP</td>\n",
       "      <td>160</td>\n",
       "      <td>180</td>\n",
       "      <td>0</td>\n",
       "      <td>Normal</td>\n",
       "      <td>156</td>\n",
       "      <td>N</td>\n",
       "      <td>1.0</td>\n",
       "      <td>Flat</td>\n",
       "      <td>1</td>\n",
       "    </tr>\n",
       "    <tr>\n",
       "      <th>2</th>\n",
       "      <td>37</td>\n",
       "      <td>M</td>\n",
       "      <td>ATA</td>\n",
       "      <td>130</td>\n",
       "      <td>283</td>\n",
       "      <td>0</td>\n",
       "      <td>ST</td>\n",
       "      <td>98</td>\n",
       "      <td>N</td>\n",
       "      <td>0.0</td>\n",
       "      <td>Up</td>\n",
       "      <td>0</td>\n",
       "    </tr>\n",
       "    <tr>\n",
       "      <th>3</th>\n",
       "      <td>48</td>\n",
       "      <td>F</td>\n",
       "      <td>ASY</td>\n",
       "      <td>138</td>\n",
       "      <td>214</td>\n",
       "      <td>0</td>\n",
       "      <td>Normal</td>\n",
       "      <td>108</td>\n",
       "      <td>Y</td>\n",
       "      <td>1.5</td>\n",
       "      <td>Flat</td>\n",
       "      <td>1</td>\n",
       "    </tr>\n",
       "    <tr>\n",
       "      <th>4</th>\n",
       "      <td>54</td>\n",
       "      <td>M</td>\n",
       "      <td>NAP</td>\n",
       "      <td>150</td>\n",
       "      <td>195</td>\n",
       "      <td>0</td>\n",
       "      <td>Normal</td>\n",
       "      <td>122</td>\n",
       "      <td>N</td>\n",
       "      <td>0.0</td>\n",
       "      <td>Up</td>\n",
       "      <td>0</td>\n",
       "    </tr>\n",
       "  </tbody>\n",
       "</table>\n",
       "</div>"
      ],
      "text/plain": [
       "   Age Sex ChestPainType  RestingBP  Cholesterol  FastingBS RestingECG  MaxHR  \\\n",
       "0   40   M           ATA        140          289          0     Normal    172   \n",
       "1   49   F           NAP        160          180          0     Normal    156   \n",
       "2   37   M           ATA        130          283          0         ST     98   \n",
       "3   48   F           ASY        138          214          0     Normal    108   \n",
       "4   54   M           NAP        150          195          0     Normal    122   \n",
       "\n",
       "  ExerciseAngina  Oldpeak ST_Slope  HeartDisease  \n",
       "0              N      0.0       Up             0  \n",
       "1              N      1.0     Flat             1  \n",
       "2              N      0.0       Up             0  \n",
       "3              Y      1.5     Flat             1  \n",
       "4              N      0.0       Up             0  "
      ]
     },
     "execution_count": 4,
     "metadata": {},
     "output_type": "execute_result"
    }
   ],
   "source": [
    "df = pd.read_csv('data.csv')\n",
    "df.head()"
   ]
  },
  {
   "cell_type": "markdown",
   "id": "9666f0ea",
   "metadata": {},
   "source": [
    "---"
   ]
  },
  {
   "cell_type": "markdown",
   "id": "b547d419-00b2-4792-b208-6b5aa7b62474",
   "metadata": {},
   "source": [
    "## Khám phá dữ liệu\n"
   ]
  },
  {
   "cell_type": "markdown",
   "id": "0a85146d",
   "metadata": {},
   "source": [
    "### Dữ liệu gồm bao nhiêu dòng và bao nhiêu cột ?"
   ]
  },
  {
   "cell_type": "code",
   "execution_count": 5,
   "id": "8a209a04",
   "metadata": {},
   "outputs": [
    {
     "name": "stdout",
     "output_type": "stream",
     "text": [
      "Số dòng là: 918, số cột là: 12\n"
     ]
    }
   ],
   "source": [
    "num_rows, num_cols = df.shape\n",
    "print(f\"Số dòng là: {num_rows}, số cột là: {num_cols}\")"
   ]
  },
  {
   "cell_type": "markdown",
   "id": "d1091f5f-3f29-435e-9f37-156ef37334f8",
   "metadata": {},
   "source": [
    "Như vậy tập dữ liệu có 918 dòng và 12 cột.\n",
    "\n",
    "Số dòng thì đúng rồi, Nhưng trong tài liệu ghi 11 cột? -> Do cột còn lại là nhãn, tức cột HeartDisease"
   ]
  },
  {
   "cell_type": "markdown",
   "id": "f52b12a7",
   "metadata": {},
   "source": [
    "### Mỗi dòng có ý nghĩa gì? Có vấn đề các dòng có ý nghĩa khác nhau không ?"
   ]
  },
  {
   "cell_type": "markdown",
   "id": "70b49ca7",
   "metadata": {},
   "source": [
    "Theo mô tả của dữ liệu thì mỗi dòng sẽ chứa 11 đặc điểm lâm sàng để dự đoán sự kiện bị bệnh tim ở 1 người và theo dữ liệu thì không có dòng nào \"lạc loài\""
   ]
  },
  {
   "cell_type": "markdown",
   "id": "34d6ff3c-27bf-42ce-bba8-03655bbcaa9c",
   "metadata": {},
   "source": [
    "### Dữ liệu có các dòng bị lặp không?"
   ]
  },
  {
   "cell_type": "code",
   "execution_count": 6,
   "id": "3037479c-5cb9-4926-ab1d-7b6d599f55c3",
   "metadata": {},
   "outputs": [
    {
     "name": "stdout",
     "output_type": "stream",
     "text": [
      "Dữ liệu không có dòng nào bị trùng!\n"
     ]
    }
   ],
   "source": [
    "have_duplicated_rows = df.duplicated().sum()\n",
    "if have_duplicated_rows:\n",
    "    print('Dữ liệu có quan sát bị trùng!')\n",
    "else:\n",
    "    print('Dữ liệu không có dòng nào bị trùng!')"
   ]
  },
  {
   "cell_type": "markdown",
   "id": "0ae5c718-c8a4-45cc-bcba-eee76dae5cd9",
   "metadata": {},
   "source": [
    "Như vậy output này là hợp lí. Vì theo trong tài liệu trên Kaggle cũng đã ghi rõ, từ tổng số 1190 quan sát với 272 quan sát trùng, người ta đưa đến tập dữ liệu cuối cùng gồm 918 quan sát."
   ]
  },
  {
   "cell_type": "markdown",
   "id": "15270c61-ca1a-42bb-996e-5edf2500f42d",
   "metadata": {},
   "source": [
    "### Mỗi cột có ý nghĩa gì?"
   ]
  },
  {
   "cell_type": "markdown",
   "id": "bf66e2bc-fa9b-4d88-aa5d-f20138f25075",
   "metadata": {},
   "source": [
    "Dưới đây là mô tả về tập dữ liệu trên Kaggle:\n",
    "- **Age**: tuổi của bệnh nhân [years]\n",
    "- **Sex**: giới tính bệnh nhân [M: Male, F: Female]\n",
    "- **ChestPainType**: kiểu đau ngực [TA: đau nhói ngực điển hình, ATA: đau thắt ngực không điển hình, NAP: đau thắt lưng không điển hình, ASY: Không có triệu chứng]\n",
    "- **RestingBP**: huyết áp lúc nghỉ [mm Hg]\n",
    "- **Cholesterol**: chỉ số cholesterol [mm/dl]\n",
    "- **FastingBS**: chỉ số đường huyết lúc đói có lớn hơn 120mg/dl hay không [1: có, 0: không]\n",
    "- **RestingECG**: kết quả điện tâm đồ lúc nghỉ [Normal: bình thường, ST: có bất thường sóng ST-T (đảo ngược sóng T và/hoặc ST chênh lên hoặc trầm xuống> 0,05 mV), LVH: cho thấy phì đại thất trái có thể xảy ra hoặc xác định theo tiêu chuẩn của Estes]\n",
    "- **MaxHR**: nhịp tim tối đa đạt được [con số giữa 60 và 202]\n",
    "- **ExerciseAngina**: đau thắt ngực do tập thể dục [Y: Có, N: Không]\n",
    "- **Oldpeak**: oldpeak = ST [Giá trị số được đo bằng độ trầm cảm]\n",
    "- **ST_Slope**: độ dốc của bài tập đỉnh cao Đoạn ST [Up: dốc lên, Flat: bằng phẳng, Down: dốc xuống]\n",
    "- **HeartDisease**: nhãn [1: có bệnh, 0: bình thường]"
   ]
  },
  {
   "cell_type": "markdown",
   "id": "c202e5a3-5337-451d-91d5-3c0060683f68",
   "metadata": {},
   "source": [
    "### Mỗi cột hiện đang có kiểu dữ liệu gì? Có cột nào có kiểu dữ liệu chưa phù hợp để có thể xử lý tiếp không?"
   ]
  },
  {
   "cell_type": "code",
   "execution_count": 7,
   "id": "17e566cb-bbbb-436d-ac01-e22ce200426f",
   "metadata": {},
   "outputs": [
    {
     "name": "stdout",
     "output_type": "stream",
     "text": [
      "Kiểu dữ liệu của các cột trong tập dữ liệu:\n"
     ]
    },
    {
     "data": {
      "text/plain": [
       "Age                 int64\n",
       "Sex                object\n",
       "ChestPainType      object\n",
       "RestingBP           int64\n",
       "Cholesterol         int64\n",
       "FastingBS           int64\n",
       "RestingECG         object\n",
       "MaxHR               int64\n",
       "ExerciseAngina     object\n",
       "Oldpeak           float64\n",
       "ST_Slope           object\n",
       "HeartDisease        int64\n",
       "dtype: object"
      ]
     },
     "execution_count": 7,
     "metadata": {},
     "output_type": "execute_result"
    }
   ],
   "source": [
    "print('Kiểu dữ liệu của các cột trong tập dữ liệu:')\n",
    "df.dtypes"
   ]
  },
  {
   "cell_type": "markdown",
   "id": "8b33d7d3",
   "metadata": {},
   "source": [
    "### Với mỗi cột có kiểu dữ liệu dạng numeric, các giá trị được phân bố như thế nào?"
   ]
  },
  {
   "cell_type": "markdown",
   "id": "3ed04a27-144b-4314-b8e3-e0436be646b0",
   "metadata": {},
   "source": [
    "Có 7 cột có kiểu dữ liệu dạng số: Age, RestingBP, Cholesterol, FastingBS, MaxHR, Oldpeak, và HeartDisease. \n",
    "\n",
    "Tuy nhiên, \n",
    "- cột HeartDisease thực chất thuộc loại categorical (trả lời câu hỏi có hay không bị bệnh), \n",
    "- Cột FastingBS cũng là trả lời có hay không cao hơn ngưỡng đưa ra (ở đây là 120mg/dl)\n",
    "\n",
    "Nên ta chỉ xét 5 cột còn lại: Age, Cholesterol, FastingBS, MaxHR, Oldpeak là thực sự thuộc kiểu dữ liệu dạng số "
   ]
  },
  {
   "cell_type": "markdown",
   "id": "135343a0-0fd4-4077-b0e4-2c8da433fbeb",
   "metadata": {},
   "source": [
    "#### Lấy 6 cột vừa nói và xem xét tỉ lệ giá trị thiếu, min max của từng cột"
   ]
  },
  {
   "cell_type": "code",
   "execution_count": 8,
   "id": "b4998d41-c7be-44b2-a124-e0fd6451837f",
   "metadata": {},
   "outputs": [
    {
     "data": {
      "text/html": [
       "<div>\n",
       "<style scoped>\n",
       "    .dataframe tbody tr th:only-of-type {\n",
       "        vertical-align: middle;\n",
       "    }\n",
       "\n",
       "    .dataframe tbody tr th {\n",
       "        vertical-align: top;\n",
       "    }\n",
       "\n",
       "    .dataframe thead th {\n",
       "        text-align: right;\n",
       "    }\n",
       "</style>\n",
       "<table border=\"1\" class=\"dataframe\">\n",
       "  <thead>\n",
       "    <tr style=\"text-align: right;\">\n",
       "      <th></th>\n",
       "      <th>Age</th>\n",
       "      <th>RestingBP</th>\n",
       "      <th>Cholesterol</th>\n",
       "      <th>MaxHR</th>\n",
       "      <th>Oldpeak</th>\n",
       "    </tr>\n",
       "  </thead>\n",
       "  <tbody>\n",
       "    <tr>\n",
       "      <th>missing_ratio</th>\n",
       "      <td>0.0</td>\n",
       "      <td>0.0</td>\n",
       "      <td>0.0</td>\n",
       "      <td>0.0</td>\n",
       "      <td>0.0</td>\n",
       "    </tr>\n",
       "    <tr>\n",
       "      <th>min</th>\n",
       "      <td>28.0</td>\n",
       "      <td>0.0</td>\n",
       "      <td>0.0</td>\n",
       "      <td>60.0</td>\n",
       "      <td>-2.6</td>\n",
       "    </tr>\n",
       "    <tr>\n",
       "      <th>max</th>\n",
       "      <td>77.0</td>\n",
       "      <td>200.0</td>\n",
       "      <td>603.0</td>\n",
       "      <td>202.0</td>\n",
       "      <td>6.2</td>\n",
       "    </tr>\n",
       "  </tbody>\n",
       "</table>\n",
       "</div>"
      ],
      "text/plain": [
       "                Age  RestingBP  Cholesterol  MaxHR  Oldpeak\n",
       "missing_ratio   0.0        0.0          0.0    0.0      0.0\n",
       "min            28.0        0.0          0.0   60.0     -2.6\n",
       "max            77.0      200.0        603.0  202.0      6.2"
      ]
     },
     "execution_count": 8,
     "metadata": {},
     "output_type": "execute_result"
    }
   ],
   "source": [
    "def missing_ratio(col):\n",
    "    return col.isna().mean() * 100\n",
    "\n",
    "nume_col_df = df[['Age', 'RestingBP', 'Cholesterol', 'MaxHR', 'Oldpeak']]\n",
    "nume_col_profiles_df = nume_col_df.agg([missing_ratio , min, max])\n",
    "nume_col_profiles_df"
   ]
  },
  {
   "cell_type": "markdown",
   "id": "682e41f8-268f-45ea-b713-67584230a794",
   "metadata": {},
   "source": [
    "Như vậy, các cột thuộc kiểu numeric không có giá trị thiếu. Min max ta thấy hiện tại cũng chưa có gì bất thường"
   ]
  },
  {
   "cell_type": "markdown",
   "id": "18f5aeb9",
   "metadata": {},
   "source": [
    "### Với mỗi cột có kiểu dữ liệu dạng categorical, các giá trị được phân bố như thế nào? "
   ]
  },
  {
   "cell_type": "markdown",
   "id": "103689b4-6f21-496a-8931-d5bd9adbb65f",
   "metadata": {},
   "source": [
    "Có 7 cột dữ liệu dạng categorical: Sex, ChestPainType, FastingBS, RestingECG, ExerciseAngina, ST_Slope and HeartDisease. "
   ]
  },
  {
   "cell_type": "code",
   "execution_count": 9,
   "id": "9cba8195",
   "metadata": {},
   "outputs": [
    {
     "data": {
      "text/html": [
       "<div>\n",
       "<style scoped>\n",
       "    .dataframe tbody tr th:only-of-type {\n",
       "        vertical-align: middle;\n",
       "    }\n",
       "\n",
       "    .dataframe tbody tr th {\n",
       "        vertical-align: top;\n",
       "    }\n",
       "\n",
       "    .dataframe thead th {\n",
       "        text-align: right;\n",
       "    }\n",
       "</style>\n",
       "<table border=\"1\" class=\"dataframe\">\n",
       "  <thead>\n",
       "    <tr style=\"text-align: right;\">\n",
       "      <th></th>\n",
       "      <th>Sex</th>\n",
       "      <th>ChestPainType</th>\n",
       "      <th>RestingECG</th>\n",
       "      <th>ExerciseAngina</th>\n",
       "      <th>ST_Slope</th>\n",
       "      <th>FastingBS</th>\n",
       "    </tr>\n",
       "  </thead>\n",
       "  <tbody>\n",
       "    <tr>\n",
       "      <th>missing_ratio</th>\n",
       "      <td>0.0</td>\n",
       "      <td>0.0</td>\n",
       "      <td>0.0</td>\n",
       "      <td>0.0</td>\n",
       "      <td>0.0</td>\n",
       "      <td>0.0</td>\n",
       "    </tr>\n",
       "    <tr>\n",
       "      <th>num_diff_vals</th>\n",
       "      <td>2</td>\n",
       "      <td>4</td>\n",
       "      <td>3</td>\n",
       "      <td>2</td>\n",
       "      <td>3</td>\n",
       "      <td>2</td>\n",
       "    </tr>\n",
       "    <tr>\n",
       "      <th>diff_vals</th>\n",
       "      <td>[M, F]</td>\n",
       "      <td>[ATA, NAP, ASY, TA]</td>\n",
       "      <td>[Normal, ST, LVH]</td>\n",
       "      <td>[N, Y]</td>\n",
       "      <td>[Up, Flat, Down]</td>\n",
       "      <td>[0, 1]</td>\n",
       "    </tr>\n",
       "  </tbody>\n",
       "</table>\n",
       "</div>"
      ],
      "text/plain": [
       "                  Sex        ChestPainType         RestingECG ExerciseAngina  \\\n",
       "missing_ratio     0.0                  0.0                0.0            0.0   \n",
       "num_diff_vals       2                    4                  3              2   \n",
       "diff_vals      [M, F]  [ATA, NAP, ASY, TA]  [Normal, ST, LVH]         [N, Y]   \n",
       "\n",
       "                       ST_Slope FastingBS  \n",
       "missing_ratio               0.0       0.0  \n",
       "num_diff_vals                 3         2  \n",
       "diff_vals      [Up, Flat, Down]    [0, 1]  "
      ]
     },
     "execution_count": 9,
     "metadata": {},
     "output_type": "execute_result"
    }
   ],
   "source": [
    "def num_diff_vals(s):\n",
    "    return s.nunique()\n",
    "def diff_vals(s):\n",
    "    return s.dropna().unique()\n",
    "cate_col_profiles_df=df[[\"Sex\", \"ChestPainType\",\n",
    "                             \"RestingECG\", \"ExerciseAngina\", \"ST_Slope\",\"FastingBS\"]]\n",
    "cate_col_profiles_df=cate_col_profiles_df.agg([missing_ratio, num_diff_vals, diff_vals])\n",
    "cate_col_profiles_df"
   ]
  },
  {
   "cell_type": "markdown",
   "id": "ba21c350-cb27-479c-9997-09be934a63de",
   "metadata": {},
   "source": [
    "---"
   ]
  },
  {
   "cell_type": "markdown",
   "id": "2d8fa1f8-cc35-4492-a5e6-8ffbaaaaddfa",
   "metadata": {},
   "source": [
    "## Đặt câu hỏi"
   ]
  },
  {
   "cell_type": "markdown",
   "id": "5bc3af47-8e29-4de4-8a5c-da3a7318cb7c",
   "metadata": {},
   "source": [
    "### Câu hỏi 3: Các nhóm tuổi ảnh hưởng như thế nào đến kết quả bị bệnh tim hay không ?"
   ]
  },
  {
   "cell_type": "markdown",
   "id": "c48e2ca7",
   "metadata": {},
   "source": [
    "#### Nếu giải quyết câu hỏi sẽ: \n",
    "- Biết được tỉ lệ giới tính nào sẽ có nguy cơ cao hơn trong việc mắc các bệnh về tim mạch\n",
    "- Đưa ra các phương án phòng ngừa, tầm soát phù hợp cũng như có kế hoạch dự đoán thích hợp đối với các đối tượng nguy cơ dựa trên giới tính"
   ]
  },
  {
   "cell_type": "markdown",
   "id": "c5dccfe4",
   "metadata": {},
   "source": [
    "Cách bước tiến hành:\n",
    "- **Bước 1**: Tính tỉ lệ mắc bệnh tim giữa các giới tính dựa trên dữ liệu, kết quả được lưu vào dataframe sex_ratio\n",
    "- **Bước 2**: Vẽ biểu đồ cột thể hiện tỉ lệ mắc bệnh tim giữa các giới tính"
   ]
  },
  {
   "cell_type": "markdown",
   "id": "26dad57d",
   "metadata": {},
   "source": [
    "Code bước 1."
   ]
  },
  {
   "cell_type": "code",
   "execution_count": 10,
   "id": "ea974f89",
   "metadata": {},
   "outputs": [],
   "source": [
    "sex_ratio = df.groupby(['Sex','HeartDisease']).size().unstack()/df.shape[0]"
   ]
  },
  {
   "cell_type": "markdown",
   "id": "58ec508f",
   "metadata": {},
   "source": [
    "Code bước 2."
   ]
  },
  {
   "cell_type": "code",
   "execution_count": 11,
   "id": "448d42c4",
   "metadata": {},
   "outputs": [
    {
     "data": {
      "text/plain": [
       "(array([0, 1]), [Text(0, 0, 'F'), Text(1, 0, 'M')])"
      ]
     },
     "execution_count": 11,
     "metadata": {},
     "output_type": "execute_result"
    },
    {
     "data": {
      "image/png": "[encoded data removed]",
      "text/plain": [
       "<Figure size 432x288 with 1 Axes>"
      ]
     },
     "metadata": {
      "needs_background": "light"
     },
     "output_type": "display_data"
    }
   ],
   "source": [
    "sex_ratio.plot.bar(ylabel='Ratio')\n",
    "plt.xticks(rotation=0)"
   ]
  },
  {
   "cell_type": "markdown",
   "id": "afe441af-a1d2-4a68-bc68-728f1d22ca9c",
   "metadata": {},
   "source": [
    "Theo như đồ thị, ta có thể thấy số lượng giới tính nam nhiều hơn so với giới tính nữ trong tập dữ liệu này\n",
    "\n",
    "Như vậy, dựa trên dữ liệu, ta có thể nhận xét sơ bộ tỉ lệ mắc bệnh của nam cao hơn của nữ\n",
    "\n",
    "Tuy nhiên, nhận xét này có vẻ chưa thuyết phục lắm vì do cần phải xem xét độ tuổi và nhiều yếu tố khảo sát khác nữa"
   ]
  },
  {
   "cell_type": "markdown",
   "id": "75ab19f5",
   "metadata": {},
   "source": [
    "### Câu hỏi 2"
   ]
  },
  {
   "cell_type": "markdown",
   "id": "a75619c2-3262-4c76-b2a9-23288105e2c1",
   "metadata": {},
   "source": [
    "- Nội dung: Tuổi và Nhịp tim tối đa ảnh hưởng như thế nào đến việc dễ mắc bệnh tim?\n",
    "- Ý nghĩa: Giúp ta biết được ảnh hưởng của tuổi và nhịp tim tối đa đến bệnh tim\n",
    "\n",
    "Để trả lời cho câu hỏi này, ta tiến hành:\n",
    "- Bước 1: Lấy tập dữ liệu gồm Age, MaxHR, HeartDisease và gom nhóm theo HeartDisease\n",
    "- Bước 2: vẽ biểu đồ cột với:\n",
    "    + trục hoành là Age, \n",
    "    + trục tung là MaxHR, \n",
    "    + phân biệt giá trị theo HeartDisease theo màu và marker"
   ]
  },
  {
   "cell_type": "markdown",
   "id": "b38c87bd-94b5-4a86-a360-066e9c648ae6",
   "metadata": {},
   "source": [
    "Code bước 1"
   ]
  },
  {
   "cell_type": "code",
   "execution_count": 12,
   "id": "c0f066c3-6e75-4184-884b-f5bcf15dbc98",
   "metadata": {},
   "outputs": [],
   "source": [
    "age_maxHR_label = df[['HeartDisease','Age','MaxHR']].groupby('HeartDisease')"
   ]
  },
  {
   "cell_type": "markdown",
   "id": "1f4aea16-25ec-4f36-a13b-803e4e223521",
   "metadata": {},
   "source": [
    "Code bước 2"
   ]
  },
  {
   "cell_type": "code",
   "execution_count": 13,
   "id": "5626c75f-0f07-4c58-a91f-4c88aac983d6",
   "metadata": {},
   "outputs": [
    {
     "data": {
      "image/png": "[encoded data removed]",
      "text/plain": [
       "<Figure size 432x288 with 1 Axes>"
      ]
     },
     "metadata": {
      "needs_background": "light"
     },
     "output_type": "display_data"
    }
   ],
   "source": [
    "fig = plt.figure()\n",
    "ax1 = fig.add_subplot(111)\n",
    "\n",
    "cs = ['b', 'r'] # color by group in data\n",
    "markers = ['s', 'o'] # marker by group in data\n",
    "\n",
    "for key, group in age_maxHR_label:\n",
    "    ax1.scatter(group['Age'], group['MaxHR'], s=10, c=cs[key], marker=markers[key], label='HeartDisease='+str(key))\n",
    "\n",
    "plt.legend(loc='lower left');\n",
    "plt.xlabel('Age')\n",
    "plt.ylabel('MaxHR')\n",
    "plt.title('Effect of Age and MaxHR to Heart Disease')\n",
    "\n",
    "plt.show()"
   ]
  },
  {
   "cell_type": "markdown",
   "id": "c97590a9-4ea3-4dfb-82bc-7c769ee66ff1",
   "metadata": {},
   "source": [
    "Từ hình trên, ta nhận xét rằng những người có tuổi càng cao nhưng nhịp tim tối đa càng thấp thì dễ bị mắc bệnh"
   ]
  },
  {
   "cell_type": "markdown",
   "id": "5f4e1ce2",
   "metadata": {},
   "source": [
    "### Câu hỏi 3: Các nhóm tuổi ảnh hưởng như thế nào đến kết quả bị bệnh tim hay không ?"
   ]
  },
  {
   "cell_type": "markdown",
   "id": "a05a7968",
   "metadata": {},
   "source": [
    "#### Nếu giải quyết câu hỏi sẽ: \n",
    "- Biết được nhóm tuổi nào sẽ có nguy cơ cao hơn trong việc mắc các bệnh về tim mạch\n",
    "- Đưa ra các phương án phòng ngừa, tầm soát phù hợp cũng như có kế hoạch dự đoán thích hợp đối với các đối tượng nguy cơ dựa trên nhóm tuổi"
   ]
  },
  {
   "cell_type": "markdown",
   "id": "4a7f1d10-16d6-4478-8a78-6e39c285c016",
   "metadata": {},
   "source": [
    "#### Tiền xử lý & Phân tích để trả lời câu hỏi\n",
    "- Để tiện cho việc xử lý dữ liệu, tiến hành thêm 1 cột trong dataframe ban đầu là chia cột tuổi thành 3 nhóm `young`, `middle_aged` và `old`"
   ]
  },
  {
   "cell_type": "code",
   "execution_count": 14,
   "id": "93b09025-53d4-4b49-908e-0d9504414587",
   "metadata": {},
   "outputs": [],
   "source": [
    "df[\"Age_group\"] = pd.cut(x=df[\"Age\"], bins=[0,30,60,100], labels=[\"young\",\"middle_aged\",\"old\"])"
   ]
  },
  {
   "cell_type": "markdown",
   "id": "ca2f8062",
   "metadata": {},
   "source": [
    "Tiến hành vẽ dữ liệu theo như câu 1 để xem có gì hay không nhé"
   ]
  },
  {
   "cell_type": "code",
   "execution_count": 15,
   "id": "026e195a",
   "metadata": {},
   "outputs": [
    {
     "data": {
      "text/plain": [
       "<AxesSubplot:xlabel='Age_group', ylabel='Ratio'>"
      ]
     },
     "execution_count": 15,
     "metadata": {},
     "output_type": "execute_result"
    },
    {
     "data": {
      "image/png": "[encoded data removed]",
      "text/plain": [
       "<Figure size 432x288 with 1 Axes>"
      ]
     },
     "metadata": {
      "needs_background": "light"
     },
     "output_type": "display_data"
    }
   ],
   "source": [
    "temp = df.groupby(['Age_group','HeartDisease']).size().unstack()/df.shape[0]\n",
    "temp.plot.bar(ylabel=\"Ratio\", rot=0)"
   ]
  },
  {
   "cell_type": "markdown",
   "id": "092eef24",
   "metadata": {},
   "source": [
    "Oh Wao, ta nhận thấy có vẻ ở nhóm tuổi `middle_aged` thì tỉ lệ bệnh tim và không bệnh tim gần như là bằng nhau vậy thì ở độ tuổi này sẽ có các yếu tố nguy cơ khác ảnh hưởng, vậy làm sao tìm ra đây ? Liệu nếu việc chia tỉ lệ độ tuổi khác nhau có ảnh hưởng hay không ? Cùng thử xem"
   ]
  },
  {
   "cell_type": "code",
   "execution_count": 16,
   "id": "977cfe73",
   "metadata": {},
   "outputs": [
    {
     "data": {
      "text/plain": [
       "<AxesSubplot:xlabel='Age_group_2'>"
      ]
     },
     "execution_count": 16,
     "metadata": {},
     "output_type": "execute_result"
    },
    {
     "data": {
      "image/png": "[encoded data removed]",
      "text/plain": [
       "<Figure size 864x288 with 2 Axes>"
      ]
     },
     "metadata": {
      "needs_background": "light"
     },
     "output_type": "display_data"
    }
   ],
   "source": [
    "df[\"Age_group_1\"] = pd.cut(x=df[\"Age\"], bins=[0,35,55,100], labels=[\"young\",\"middle_aged\",\"old\"])\n",
    "temp1 = df.groupby(['Age_group_1','HeartDisease']).size().unstack()/df.shape[0]\n",
    "\n",
    "df[\"Age_group_2\"] = pd.cut(x=df[\"Age\"], bins=[0,40,65,100], labels=[\"young\",\"middle_aged\",\"old\"])\n",
    "temp2 = df.groupby(['Age_group_2','HeartDisease']).size().unstack()/df.shape[0]\n",
    "\n",
    "fig, axes = plt.subplots(nrows=1, ncols=2)\n",
    "fig.set_figheight(4)\n",
    "fig.set_figwidth(12)\n",
    "temp1.plot.bar(ax=axes[0], rot=0)\n",
    "temp2.plot.bar(ax=axes[1], rot=0)\n"
   ]
  },
  {
   "cell_type": "markdown",
   "id": "3eae47a7",
   "metadata": {},
   "source": [
    "Từ dữ liệu quan sát, ta nhận thấy ở lứa tuổi `middle_aged` ở cả 3 cách chia độ tuổi đều không thể xác định được tỉ lệ bệnh tim ở các độ tuổi này, nhưng riêng với độ tuổi `old` và  `young` ta đều thấy tỉ lệ mắc bệnh tim ở độ tuổi `young ` luôn thấp hơn và `old` luôn cao hơn"
   ]
  },
  {
   "cell_type": "markdown",
   "id": "eb011c48-bc95-4462-8a83-1db3e4258920",
   "metadata": {},
   "source": [
    "### Câu hỏi 4"
   ]
  },
  {
   "cell_type": "markdown",
   "id": "be93ee52-5fda-4edf-bac0-6b0cc4d80d8f",
   "metadata": {},
   "source": [
    "- Nội dung: Chỉ số Choresterol theo giới tính ảnh hưởng như thế nào đến bệnh tim\n",
    "- Ý nghĩa: giúp ta biết hơn về các chỉ số choresterol ở mỗi độ tuổi là tốt hay xấu\n",
    "\n",
    "Để trả lời câu hỏi, ta tiến hành:\n",
    "- Bước 1: gom nhóm dữ liệu gồm các cột: Sex, Choresterol, HeartDisease theo (HeartDisease, Sex)\n",
    "          và lấy mean giá trị rồi chuyển thành dataframe\n",
    "- Bước 2: vẻ biểu đồ cột chồng để thể hiện với trục hoành là giới tính, trục tung là lượng trung bình cholesterol, và được chia theo màu sắc dựa trên nhãn"
   ]
  },
  {
   "cell_type": "markdown",
   "id": "c909b245-92f8-4bf6-8a3d-7493b679cead",
   "metadata": {},
   "source": [
    "Code bước 1"
   ]
  },
  {
   "cell_type": "code",
   "execution_count": 17,
   "id": "e429033d-9938-47d6-90db-0e85ab920c7c",
   "metadata": {},
   "outputs": [],
   "source": [
    "chol_sex_label = df[['Sex', 'Cholesterol', 'HeartDisease']]\n",
    "chol_by_sex_label = chol_sex_label.groupby(['Sex', 'HeartDisease'])\n",
    "mean_chol_by_sex_label = chol_by_sex_label.mean().unstack()"
   ]
  },
  {
   "cell_type": "markdown",
   "id": "66a8e4f3-591b-4ac4-85a6-e70b3d1ec8d9",
   "metadata": {},
   "source": [
    "Code bước 2"
   ]
  },
  {
   "cell_type": "code",
   "execution_count": 18,
   "id": "c943bcbd-dc2d-4e62-98d7-2f9606f7959e",
   "metadata": {},
   "outputs": [
    {
     "data": {
      "image/png": "[encoded data removed]",
      "text/plain": [
       "<Figure size 432x288 with 1 Axes>"
      ]
     },
     "metadata": {
      "needs_background": "light"
     },
     "output_type": "display_data"
    }
   ],
   "source": [
    "mean_chol_by_sex_label.plot.barh(stacked=True, title='Effect of Mean Cholesterol by Sex to Heart Disease')\n",
    "plt.legend(['HeartDisease=0','HeartDisease=1'])\n",
    "plt.xlabel('Mean Cholesterol');"
   ]
  },
  {
   "cell_type": "markdown",
   "id": "a6e57d34-e745-4272-8ada-5fa046853e40",
   "metadata": {},
   "source": [
    "Qua biểu đồ ta thấy lượng cholesterol trung bình của nữ ở mức an toàn(tức không mắc bệnh) là cao hơn của nam"
   ]
  },
  {
   "cell_type": "markdown",
   "id": "872f968c-bd90-48c0-8250-bc23c61a2ea2",
   "metadata": {},
   "source": [
    "---"
   ]
  },
  {
   "cell_type": "markdown",
   "id": "50eb900e-07d0-4d41-8c0f-9f37539b75d4",
   "metadata": {},
   "source": [
    "## Nhìn lại quá trình làm đồ án"
   ]
  },
  {
   "cell_type": "markdown",
   "id": "584e9e3b",
   "metadata": {},
   "source": [
    "### Huy\n",
    "1. **Những khó khăn**: \n",
    "    - Khó khăn đầu tiên là việc lựa chọn data để tiến hành làm đồ án, giữa rất nhiều data được chia sẻ trên mạng, cần tìm ra data phù hợp để tiến hành phân tích và trả lời câu hỏi cũng là khó khăn đầu tiên. Tiếp theo là việc review lại các kiến thức đã được học, các kiến thức được học chủ yếu là nhớ các công việc mà các công cụ có thể làm, việc nhớ cú pháp khá khó khăn.\n",
    "2. **Những điều học được**: \n",
    "    - Học được cách tự giải quyết vấn đề, đồ án tuy làm chung nhóm nhưng vẫn phải chia các branch khác nhau để làm nên vẫn đề cao khả năng làm việc độc lập. Hiểu được thêm về đồng đội trong đồ án, cũng là đồng đội trong luận văn, hiểu nhau nhiều hơn để có thể làm việc cùng nhau tốt hơn."
   ]
  },
  {
   "cell_type": "markdown",
   "id": "1f6c18de",
   "metadata": {},
   "source": [
    "### Vượng\n",
    "1. Những khó khăn gặp phải:\n",
    "    - Do dữ liệu nhóm lấy có nhãn - phục vụ cho bài toán classification, nên các giá trị cũng ảnh hưởng bởi nhãn, do đó các góc nhìn nó có phụ thuộc nhiều vào nhãn\n",
    "    - Dữ liệu khá sạch dẫn đến nhóm không có nhiều bước để tiền xử lý dữ liệu, thấy hơi thiếu thiếu\n",
    "2. Học được điều hữu ích:\n",
    "    - Biết được các thông số liên quan đến bệnh tim\n",
    "    - Biết được các chỉ số như thế nào dễ ảnh hưởng đến bệnh tim (nhờ vào phân tích và kiểm tra lại kết quả thống kê thông qua các tờ báo y khoa và hỏi bạn học y\n"
   ]
  },
  {
   "cell_type": "markdown",
   "id": "35d6c8b6",
   "metadata": {},
   "source": [
    "- **Nếu có thêm thời gian**: Nhóm thấy những phân tích hiện tại đã ổn, nếu có chăng phát triển thì sẽ xây dựng model để học và xem xét feature important để biết được các giá trị ảnh hưởng đến bệnh tim"
   ]
  },
  {
   "cell_type": "markdown",
   "id": "5b83bb2d-3c1a-4dde-95d2-5a543e0252f6",
   "metadata": {},
   "source": [
    "## Tài liệu tham khảo"
   ]
  },
  {
   "cell_type": "markdown",
   "id": "afe35dfe",
   "metadata": {},
   "source": [
    "1. https://www.kaggle.com/fedesoriano/heart-failure-prediction\n",
    "2. Bài tập HW3 của thầy\n",
    "3. https://stackoverflow.com/questions/4270301/matplotlib-multiple-datasets-on-the-same-scatter-plot\n",
    "4. https://pandas.pydata.org/docs/reference/frame.html\n",
    "5. https://opendatacommons.org/licenses/odbl/1-0/"
   ]
  }
 ],
 "metadata": {
  "kernelspec": {
   "display_name": "Python 3 (ipykernel)",
   "language": "python",
   "name": "python3"
  },
  "language_info": {
   "codemirror_mode": {
    "name": "ipython",
    "version": 3
   },
   "file_extension": ".py",
   "mimetype": "text/x-python",
   "name": "python",
   "nbconvert_exporter": "python",
   "pygments_lexer": "ipython3",
   "version": "3.8.8"
  }
 },
 "nbformat": 4,
 "nbformat_minor": 5
}
