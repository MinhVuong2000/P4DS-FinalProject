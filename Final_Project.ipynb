{
 "cells": [
  {
   "cell_type": "markdown",
   "id": "287035a1-1430-4590-9def-557592c473a5",
   "metadata": {},
   "source": [
    "# Đồ án cuối kì\n",
    "Thông tin nhóm:\n",
    "1. Lê Hồng Huy - 18120182\n",
    "2. Nguyễn Thị Minh Vượng - 18120265\n",
    "<br/><br/>\n",
    "\n",
    "Github làm việc [tại đây](https://github.com/MinhVuong2000/P4DS-FinalProject)"
   ]
  },
  {
   "cell_type": "markdown",
   "id": "757a2363-3a2f-4c57-bda4-80d2dd9e6747",
   "metadata": {},
   "source": [
    "---"
   ]
  },
  {
   "cell_type": "markdown",
   "id": "573fca16-4d7c-4c47-bfaa-38a7f6e8a1fb",
   "metadata": {},
   "source": [
    "## Môi trường code"
   ]
  },
  {
   "cell_type": "code",
   "execution_count": 1,
   "id": "912f9c6a-aa82-4089-b528-8639fc574cc0",
   "metadata": {},
   "outputs": [
    {
     "data": {
      "text/plain": [
       "'/Users/vuongnguyenthiminh/opt/anaconda3/envs/min_ds-env/bin/python'"
      ]
     },
     "execution_count": 1,
     "metadata": {},
     "output_type": "execute_result"
    }
   ],
   "source": [
    "import sys\n",
    "sys.executable"
   ]
  },
  {
   "cell_type": "markdown",
   "id": "2f467bcf-1388-4d9a-bc6f-cf5d8c4a9202",
   "metadata": {},
   "source": [
    "---"
   ]
  },
  {
   "cell_type": "markdown",
   "id": "0a64353f-bb9c-428d-b52b-9c55e810c6e9",
   "metadata": {},
   "source": [
    "## Import các thư viện cần thiết"
   ]
  },
  {
   "cell_type": "code",
   "execution_count": 2,
   "id": "4d2a80d1-3316-427d-9c80-8637cb47aa9e",
   "metadata": {},
   "outputs": [],
   "source": [
    "import pandas as pd\n",
    "import matplotlib.pyplot as plt\n",
    "import numpy as np\n",
    "import os\n",
    "# YOUR CODE HERE (OPTION) "
   ]
  },
  {
   "cell_type": "markdown",
   "id": "35b783e5-ca1a-421e-b55f-2d7141c18ada",
   "metadata": {},
   "source": [
    "---"
   ]
  },
  {
   "cell_type": "markdown",
   "id": "17aed7d8-a427-4d51-89dd-c4694f3edfcd",
   "metadata": {},
   "source": [
    "## Thu thập dữ liệu"
   ]
  },
  {
   "cell_type": "markdown",
   "id": "f8a182e9-c4d6-4ae5-a6f0-c4c2aa7c9c23",
   "metadata": {},
   "source": [
    "Dữ liệu được lấy từ Kaggle, là tập [Heart Failure Prediction Dataset](https://www.kaggle.com/fedesoriano/heart-failure-prediction)\n",
    "- Là tập dữ liệu về tim mạch, cụ thể là về bệnh suy tim. Suy tim là một sự kiện phổ biến trong nhóm bệnh tim mạch và tập dữ liệu này có thể được sử dụng để dự đoán bệnh tim có thể xảy ra.\n",
    "- Tập dữ liệu được tạo bằng cách kết hợp của 5 tập dữ liệu khác nhau có sẵn độc lập nhau, để cho ra dữ liệu gồm 11 thuộc tính chung và 918 dòng, giúp nó trở thành lớn nhất trong số các tập dữ liệu về bệnh tim phục vụ cho việc nghiên cứu. "
   ]
  },
  {
   "cell_type": "markdown",
   "id": "d255c255-618d-44bb-934c-ed71700b00e1",
   "metadata": {},
   "source": [
    "### Tải dữ liệu "
   ]
  },
  {
   "cell_type": "code",
   "execution_count": 3,
   "id": "4307f2fd-8f78-45d3-bb27-32751c6eff96",
   "metadata": {},
   "outputs": [
    {
     "name": "stdout",
     "output_type": "stream",
     "text": [
      "--2022-01-12 19:56:01--  https://gist.githubusercontent.com/MinhVuong2000/8286380838ef575032894dceab5072ed/raw/cc96ec954cc1d94c0548a32f64ff29ba3f8390bf/heart.csv\n",
      "Resolving gist.githubusercontent.com (gist.githubusercontent.com)... 185.199.111.133, 185.199.110.133, 185.199.109.133, ...\n",
      "Connecting to gist.githubusercontent.com (gist.githubusercontent.com)|185.199.111.133|:443... connected.\n",
      "HTTP request sent, awaiting response... 200 OK\n",
      "Length: 35921 (35K) [text/plain]\n",
      "Saving to: ‘data.csv’\n",
      "\n",
      "data.csv            100%[===================>]  35.08K  --.-KB/s    in 0.003s  \n",
      "\n",
      "2022-01-12 19:56:03 (13.4 MB/s) - ‘data.csv’ saved [35921/35921]\n",
      "\n"
     ]
    }
   ],
   "source": [
    "!wget -O data.csv https://gist.githubusercontent.com/MinhVuong2000/8286380838ef575032894dceab5072ed/raw/cc96ec954cc1d94c0548a32f64ff29ba3f8390bf/heart.csv"
   ]
  },
  {
   "cell_type": "markdown",
   "id": "08229b1d-dd1c-4b8d-a741-2bac17932e7f",
   "metadata": {},
   "source": [
    "### Đọc dữ liệu"
   ]
  },
  {
   "cell_type": "code",
   "execution_count": 4,
   "id": "e14d6e5a-59ef-4a0e-b670-8869804dcd20",
   "metadata": {},
   "outputs": [
    {
     "data": {
      "text/html": [
       "<div>\n",
       "<style scoped>\n",
       "    .dataframe tbody tr th:only-of-type {\n",
       "        vertical-align: middle;\n",
       "    }\n",
       "\n",
       "    .dataframe tbody tr th {\n",
       "        vertical-align: top;\n",
       "    }\n",
       "\n",
       "    .dataframe thead th {\n",
       "        text-align: right;\n",
       "    }\n",
       "</style>\n",
       "<table border=\"1\" class=\"dataframe\">\n",
       "  <thead>\n",
       "    <tr style=\"text-align: right;\">\n",
       "      <th></th>\n",
       "      <th>Age</th>\n",
       "      <th>Sex</th>\n",
       "      <th>ChestPainType</th>\n",
       "      <th>RestingBP</th>\n",
       "      <th>Cholesterol</th>\n",
       "      <th>FastingBS</th>\n",
       "      <th>RestingECG</th>\n",
       "      <th>MaxHR</th>\n",
       "      <th>ExerciseAngina</th>\n",
       "      <th>Oldpeak</th>\n",
       "      <th>ST_Slope</th>\n",
       "      <th>HeartDisease</th>\n",
       "    </tr>\n",
       "  </thead>\n",
       "  <tbody>\n",
       "    <tr>\n",
       "      <th>0</th>\n",
       "      <td>40</td>\n",
       "      <td>M</td>\n",
       "      <td>ATA</td>\n",
       "      <td>140</td>\n",
       "      <td>289</td>\n",
       "      <td>0</td>\n",
       "      <td>Normal</td>\n",
       "      <td>172</td>\n",
       "      <td>N</td>\n",
       "      <td>0.0</td>\n",
       "      <td>Up</td>\n",
       "      <td>0</td>\n",
       "    </tr>\n",
       "    <tr>\n",
       "      <th>1</th>\n",
       "      <td>49</td>\n",
       "      <td>F</td>\n",
       "      <td>NAP</td>\n",
       "      <td>160</td>\n",
       "      <td>180</td>\n",
       "      <td>0</td>\n",
       "      <td>Normal</td>\n",
       "      <td>156</td>\n",
       "      <td>N</td>\n",
       "      <td>1.0</td>\n",
       "      <td>Flat</td>\n",
       "      <td>1</td>\n",
       "    </tr>\n",
       "    <tr>\n",
       "      <th>2</th>\n",
       "      <td>37</td>\n",
       "      <td>M</td>\n",
       "      <td>ATA</td>\n",
       "      <td>130</td>\n",
       "      <td>283</td>\n",
       "      <td>0</td>\n",
       "      <td>ST</td>\n",
       "      <td>98</td>\n",
       "      <td>N</td>\n",
       "      <td>0.0</td>\n",
       "      <td>Up</td>\n",
       "      <td>0</td>\n",
       "    </tr>\n",
       "    <tr>\n",
       "      <th>3</th>\n",
       "      <td>48</td>\n",
       "      <td>F</td>\n",
       "      <td>ASY</td>\n",
       "      <td>138</td>\n",
       "      <td>214</td>\n",
       "      <td>0</td>\n",
       "      <td>Normal</td>\n",
       "      <td>108</td>\n",
       "      <td>Y</td>\n",
       "      <td>1.5</td>\n",
       "      <td>Flat</td>\n",
       "      <td>1</td>\n",
       "    </tr>\n",
       "    <tr>\n",
       "      <th>4</th>\n",
       "      <td>54</td>\n",
       "      <td>M</td>\n",
       "      <td>NAP</td>\n",
       "      <td>150</td>\n",
       "      <td>195</td>\n",
       "      <td>0</td>\n",
       "      <td>Normal</td>\n",
       "      <td>122</td>\n",
       "      <td>N</td>\n",
       "      <td>0.0</td>\n",
       "      <td>Up</td>\n",
       "      <td>0</td>\n",
       "    </tr>\n",
       "  </tbody>\n",
       "</table>\n",
       "</div>"
      ],
      "text/plain": [
       "   Age Sex ChestPainType  RestingBP  Cholesterol  FastingBS RestingECG  MaxHR  \\\n",
       "0   40   M           ATA        140          289          0     Normal    172   \n",
       "1   49   F           NAP        160          180          0     Normal    156   \n",
       "2   37   M           ATA        130          283          0         ST     98   \n",
       "3   48   F           ASY        138          214          0     Normal    108   \n",
       "4   54   M           NAP        150          195          0     Normal    122   \n",
       "\n",
       "  ExerciseAngina  Oldpeak ST_Slope  HeartDisease  \n",
       "0              N      0.0       Up             0  \n",
       "1              N      1.0     Flat             1  \n",
       "2              N      0.0       Up             0  \n",
       "3              Y      1.5     Flat             1  \n",
       "4              N      0.0       Up             0  "
      ]
     },
     "execution_count": 4,
     "metadata": {},
     "output_type": "execute_result"
    }
   ],
   "source": [
    "df = pd.read_csv('data.csv')\n",
    "df.head()"
   ]
  },
  {
   "cell_type": "markdown",
   "id": "f3fd86af-ea85-4d00-a726-a8975e561555",
   "metadata": {},
   "source": [
    "---"
   ]
  },
  {
   "cell_type": "markdown",
   "id": "b547d419-00b2-4792-b208-6b5aa7b62474",
   "metadata": {},
   "source": [
    "## Khám phá dữ liệu"
   ]
  },
  {
   "cell_type": "markdown",
   "id": "af931b2d-998b-48bd-9948-75fa14ae25da",
   "metadata": {},
   "source": [
    "### Dữ liệu có bao nhiêu dòng và bao nhiêu cột?"
   ]
  },
  {
   "cell_type": "code",
   "execution_count": 5,
   "id": "f0d316d1-5527-4fd8-bc11-57eec942495c",
   "metadata": {},
   "outputs": [
    {
     "data": {
      "text/plain": [
       "(918, 12)"
      ]
     },
     "execution_count": 5,
     "metadata": {},
     "output_type": "execute_result"
    }
   ],
   "source": [
    "df.shape"
   ]
  },
  {
   "cell_type": "markdown",
   "id": "d1091f5f-3f29-435e-9f37-156ef37334f8",
   "metadata": {},
   "source": [
    "Như vậy tập dữ liệu có 918 dòng và 12 cột.\n",
    "\n",
    "Số dòng thì đúng rồi, Nhưng trong tài liệu ghi 11 cột? -> Do cột còn lại là nhãn, tức cột HeartDisease"
   ]
  },
  {
   "cell_type": "markdown",
   "id": "cb02f4d0-3bc9-4312-a7f9-845e20325553",
   "metadata": {},
   "source": [
    "### Mỗi dòng có ý nghĩa gì? Có vấn đề các dòng có ý nghĩa khác nhau không?"
   ]
  },
  {
   "cell_type": "markdown",
   "id": "31bf8fb4-28e3-4207-8df8-e7ee900879b8",
   "metadata": {},
   "source": [
    "Theo như tài liệu, mỗi dòng sẽ là một quan sát chứa số liệu các thuộc tính. Nhìn sơ bộ thì không có gì đặc biệt"
   ]
  },
  {
   "cell_type": "markdown",
   "id": "34d6ff3c-27bf-42ce-bba8-03655bbcaa9c",
   "metadata": {},
   "source": [
    "### Dữ liệu có các dòng bị lặp không?"
   ]
  },
  {
   "cell_type": "code",
   "execution_count": 6,
   "id": "3037479c-5cb9-4926-ab1d-7b6d599f55c3",
   "metadata": {},
   "outputs": [
    {
     "name": "stdout",
     "output_type": "stream",
     "text": [
      "Dữ liệu không có dòng nào bị trùng!\n"
     ]
    }
   ],
   "source": [
    "have_duplicated_rows = df.duplicated().sum()\n",
    "if have_duplicated_rows:\n",
    "    print('Dữ liệu có quan sát bị trùng!')\n",
    "else:\n",
    "    print('Dữ liệu không có dòng nào bị trùng!')"
   ]
  },
  {
   "cell_type": "markdown",
   "id": "0ae5c718-c8a4-45cc-bcba-eee76dae5cd9",
   "metadata": {},
   "source": [
    "Như vậy output này là hợp lí. Vì theo trong tài liệu trên Kaggle cũng đã ghi rõ, từ tổng số 1190 quan sát với 272 quan sát trùng, người ta đưa đến tập dữ liệu cuối cùng gồm 918 quan sát."
   ]
  },
  {
   "cell_type": "markdown",
   "id": "15270c61-ca1a-42bb-996e-5edf2500f42d",
   "metadata": {},
   "source": [
    "### Mỗi cột có ý nghĩa gì?"
   ]
  },
  {
   "cell_type": "markdown",
   "id": "bf66e2bc-fa9b-4d88-aa5d-f20138f25075",
   "metadata": {},
   "source": [
    "Dưới đây là mô tả về tập dữ liệu trên Kaggle:\n",
    "- **Age**: tuổi của bệnh nhân [years]\n",
    "- **Sex**: giới tính bệnh nhân [M: Male, F: Female]\n",
    "- **ChestPainType**: kiểu đau ngực [TA: đau nhói ngực điển hình, ATA: đau thắt ngực không điển hình, NAP: đau thắt lưng không điển hình, ASY: Không có triệu chứng]\n",
    "- **RestingBP**: huyết áp lúc nghỉ [mm Hg]\n",
    "- **Cholesterol**: chỉ số cholesterol [mm/dl]\n",
    "- **FastingBS**: chỉ số đường huyết lúc đói có lớn hơn 120mg/dl hay không [1: có, 0: không]\n",
    "- **RestingECG**: kết quả điện tâm đồ lúc nghỉ [Normal: bình thường, ST: có bất thường sóng ST-T (đảo ngược sóng T và/hoặc ST chênh lên hoặc trầm xuống> 0,05 mV), LVH: cho thấy phì đại thất trái có thể xảy ra hoặc xác định theo tiêu chuẩn của Estes]\n",
    "- **MaxHR**: nhịp tim tối đa đạt được [con số giữa 60 và 202]\n",
    "- **ExerciseAngina**: đau thắt ngực do tập thể dục [Y: Có, N: Không]\n",
    "- **Oldpeak**: oldpeak = ST [Giá trị số được đo bằng độ trầm cảm]\n",
    "- **ST_Slope**: độ dốc của bài tập đỉnh cao Đoạn ST [Up: dốc lên, Flat: bằng phẳng, Down: dốc xuống]\n",
    "- **HeartDisease**: nhãn [1: có bệnh, 0: bình thường]"
   ]
  },
  {
   "cell_type": "markdown",
   "id": "c202e5a3-5337-451d-91d5-3c0060683f68",
   "metadata": {},
   "source": [
    "### Mỗi cột hiện đang có kiểu dữ liệu gì? Có cột nào có kiểu dữ liệu chưa phù hợp để có thể xử lý tiếp không?"
   ]
  },
  {
   "cell_type": "code",
   "execution_count": 7,
   "id": "17e566cb-bbbb-436d-ac01-e22ce200426f",
   "metadata": {},
   "outputs": [
    {
     "name": "stdout",
     "output_type": "stream",
     "text": [
      "Kiểu dữ liệu của các cột trong tập dữ liệu:\n"
     ]
    },
    {
     "data": {
      "text/plain": [
       "Age                 int64\n",
       "Sex                object\n",
       "ChestPainType      object\n",
       "RestingBP           int64\n",
       "Cholesterol         int64\n",
       "FastingBS           int64\n",
       "RestingECG         object\n",
       "MaxHR               int64\n",
       "ExerciseAngina     object\n",
       "Oldpeak           float64\n",
       "ST_Slope           object\n",
       "HeartDisease        int64\n",
       "dtype: object"
      ]
     },
     "execution_count": 7,
     "metadata": {},
     "output_type": "execute_result"
    }
   ],
   "source": [
    "print('Kiểu dữ liệu của các cột trong tập dữ liệu:')\n",
    "df.dtypes"
   ]
  },
  {
   "cell_type": "markdown",
   "id": "4e82ba10-cf70-49e5-9be6-c2efb1dbf5ef",
   "metadata": {},
   "source": [
    "Dựa trên mô tả về các cột, em thấy kiểu dữ liệu hiện tại là hợp lý"
   ]
  },
  {
   "cell_type": "markdown",
   "id": "910ffebb-3ef5-493b-9886-a7db3b5bc9cb",
   "metadata": {},
   "source": [
    "### Với mỗi cột có kiểu dữ liệu dạng số (numerical), các giá trị được phân bố như thế nào?"
   ]
  },
  {
   "cell_type": "markdown",
   "id": "3ed04a27-144b-4314-b8e3-e0436be646b0",
   "metadata": {},
   "source": [
    "Có 7 cột có kiểu dữ liệu dạng số: Age, RestingBP, Cholesterol, FastingBS, MaxHR, Oldpeak, và HeartDisease. \n",
    "\n",
    "Tuy nhiên, \n",
    "- cột HeartDisease thực chất thuộc loại categorical (trả lời câu hỏi có hay không bị bệnh), \n",
    "- Cột FastingBS cũng là trả lời có hay không cao hơn ngưỡng đưa ra (ở đây là 120mg/dl)\n",
    "\n",
    "Nên ta chỉ xét 5 cột còn lại: Age, Cholesterol, FastingBS, MaxHR, Oldpeak là thực sự thuộc kiểu dữ liệu dạng số "
   ]
  },
  {
   "cell_type": "markdown",
   "id": "135343a0-0fd4-4077-b0e4-2c8da433fbeb",
   "metadata": {},
   "source": [
    "#### Lấy 6 cột vừa nói và xem xét tỉ lệ giá trị thiếu, min max của từng cột"
   ]
  },
  {
   "cell_type": "code",
   "execution_count": 8,
   "id": "b4998d41-c7be-44b2-a124-e0fd6451837f",
   "metadata": {},
   "outputs": [
    {
     "data": {
      "text/html": [
       "<div>\n",
       "<style scoped>\n",
       "    .dataframe tbody tr th:only-of-type {\n",
       "        vertical-align: middle;\n",
       "    }\n",
       "\n",
       "    .dataframe tbody tr th {\n",
       "        vertical-align: top;\n",
       "    }\n",
       "\n",
       "    .dataframe thead th {\n",
       "        text-align: right;\n",
       "    }\n",
       "</style>\n",
       "<table border=\"1\" class=\"dataframe\">\n",
       "  <thead>\n",
       "    <tr style=\"text-align: right;\">\n",
       "      <th></th>\n",
       "      <th>Age</th>\n",
       "      <th>RestingBP</th>\n",
       "      <th>Cholesterol</th>\n",
       "      <th>MaxHR</th>\n",
       "      <th>Oldpeak</th>\n",
       "    </tr>\n",
       "  </thead>\n",
       "  <tbody>\n",
       "    <tr>\n",
       "      <th>missing_ratio</th>\n",
       "      <td>0.0</td>\n",
       "      <td>0.0</td>\n",
       "      <td>0.0</td>\n",
       "      <td>0.0</td>\n",
       "      <td>0.0</td>\n",
       "    </tr>\n",
       "    <tr>\n",
       "      <th>min</th>\n",
       "      <td>28.0</td>\n",
       "      <td>0.0</td>\n",
       "      <td>0.0</td>\n",
       "      <td>60.0</td>\n",
       "      <td>-2.6</td>\n",
       "    </tr>\n",
       "    <tr>\n",
       "      <th>max</th>\n",
       "      <td>77.0</td>\n",
       "      <td>200.0</td>\n",
       "      <td>603.0</td>\n",
       "      <td>202.0</td>\n",
       "      <td>6.2</td>\n",
       "    </tr>\n",
       "  </tbody>\n",
       "</table>\n",
       "</div>"
      ],
      "text/plain": [
       "                Age  RestingBP  Cholesterol  MaxHR  Oldpeak\n",
       "missing_ratio   0.0        0.0          0.0    0.0      0.0\n",
       "min            28.0        0.0          0.0   60.0     -2.6\n",
       "max            77.0      200.0        603.0  202.0      6.2"
      ]
     },
     "execution_count": 8,
     "metadata": {},
     "output_type": "execute_result"
    }
   ],
   "source": [
    "def missing_ratio(col):\n",
    "    return col.isna().mean() * 100\n",
    "\n",
    "nume_col_df = df[['Age', 'RestingBP', 'Cholesterol', 'MaxHR', 'Oldpeak']]\n",
    "nume_col_profiles_df = nume_col_df.agg([missing_ratio , min, max])\n",
    "nume_col_profiles_df"
   ]
  },
  {
   "cell_type": "markdown",
   "id": "682e41f8-268f-45ea-b713-67584230a794",
   "metadata": {},
   "source": [
    "Như vậy, các cột thuộc kiểu numeric không có giá trị thiếu. Min max ta thấy hiện tại cũng chưa có gì bất thường"
   ]
  },
  {
   "cell_type": "markdown",
   "id": "6992ceb7-a5ac-4622-8e2c-246828ca6a44",
   "metadata": {},
   "source": [
    "### Với mỗi cột có kiểu dữ liệu dạng phân loại (categorical), các giá trị được phân bố như thế nào?"
   ]
  },
  {
   "cell_type": "markdown",
   "id": "103689b4-6f21-496a-8931-d5bd9adbb65f",
   "metadata": {},
   "source": [
    "Có 7 cột dữ liệu dạng categorical: Sex, ChestPainType, FastingBS, RestingECG, ExerciseAngina, ST_Slope and HeartDisease. "
   ]
  },
  {
   "cell_type": "code",
   "execution_count": null,
   "id": "a02cb4da-68a2-4882-8317-e9f94dc27b91",
   "metadata": {},
   "outputs": [],
   "source": [
    "def unique_non_nan(s):\n",
    "    return s.dropna().unique()\n",
    "\n",
    "cate_col_df = df[['Sex', 'ChestPainType', 'RestingECG', 'ExerciseAngina', 'ST_Slope', 'FastingBS', 'HeartDisease']]\n",
    "cate_col_profiles_df = cate_col_df.agg([missing_ratio, pd.Series.nunique, unique_non_nan])\n",
    "cate_col_profiles_df.index = ['missing_ratio','num_diff_vals','diff_vals']\n",
    "cate_col_profiles_df"
   ]
  },
  {
   "cell_type": "markdown",
   "id": "ba21c350-cb27-479c-9997-09be934a63de",
   "metadata": {},
   "source": [
    "---"
   ]
  },
  {
   "cell_type": "markdown",
   "id": "2d8fa1f8-cc35-4492-a5e6-8ffbaaaaddfa",
   "metadata": {},
   "source": [
    "## Đặt câu hỏi\n",
    "Danh sách câu hỏi\n",
    "\n",
    "với mỗi câu hỏi, nhóm bạn cần trình bày:\n",
    "• Câu hỏi là gì?\n",
    "• Nếu trả lời được câu hỏi thì sẽ có lợi ích gì? (câu hỏi không quá dễ để trả lời - 1 dòng code)"
   ]
  },
  {
   "cell_type": "markdown",
   "id": "8996dc66-777f-4155-8a90-778e14e4fbac",
   "metadata": {},
   "source": [
    "### Câu hỏi 1"
   ]
  },
  {
   "cell_type": "markdown",
   "id": "b7082f13-19bc-4e76-aeec-c8f68833ee45",
   "metadata": {},
   "source": [
    "- Trong tập dữ liệu, nam hay nữ chiếm nhiều quan sát hơn? Tỉ lệ mắc bệnh trên tổng số quan sát của mỗi giới\n",
    "- Câu hỏi này sẽ giúp trả lời cho việc nam hay nữ dễ bị mắc bệnh hơn\n",
    "\n",
    "Để trả lời câu hỏi này, ta tiến hành:\n",
    "- Bước 1: Xem số lượng dòng của mỗi giới tính\n",
    "- Bước 2: Tính tỉ lệ mắc bệnh trong tổng số quan sát ở mỗi giới"
   ]
  },
  {
   "cell_type": "markdown",
   "id": "79519707-401c-49bc-aa46-7a56387caa94",
   "metadata": {},
   "source": [
    "Code bước 1"
   ]
  },
  {
   "cell_type": "code",
   "execution_count": 17,
   "id": "8f65d164-05fc-4636-9b45-424b71eef246",
   "metadata": {},
   "outputs": [
    {
     "data": {
      "image/png": "[encoded data removed]",
      "text/plain": [
       "<Figure size 432x288 with 1 Axes>"
      ]
     },
     "metadata": {
      "needs_background": "light"
     },
     "output_type": "display_data"
    }
   ],
   "source": [
    "density_by_sex = df['Sex'].value_counts() / len(df)\n",
    "density_by_sex.plot.bar(xlabel='Sex', ylabel='Quantity sample / total (%)', title='Density of observations by Sex');\n"
   ]
  },
  {
   "cell_type": "markdown",
   "id": "8e942d54-676e-4129-bfac-e087aef8af71",
   "metadata": {},
   "source": [
    "Như vậy, dữ liệu này khá là chênh lệch về số lượng mẫu quan sát. \n",
    "Do đó, để nhận xét tỉ lệ mắc bệnh, ta sẽ lấy số trường hợp mắc bệnh chia cho số lượng mẫu quan sát ở mỗi giới\n",
    "\n",
    "Code bước 2"
   ]
  },
  {
   "cell_type": "code",
   "execution_count": 29,
   "id": "04aa7a02-a24c-48a2-8b16-4eee9072ee67",
   "metadata": {},
   "outputs": [
    {
     "data": {
      "image/png": "[encoded data removed]",
      "text/plain": [
       "<Figure size 432x288 with 1 Axes>"
      ]
     },
     "metadata": {
      "needs_background": "light"
     },
     "output_type": "display_data"
    }
   ],
   "source": [
    "label_by_sex = df.groupby(['Sex', 'HeartDisease']).size().unstack()\n",
    "ratio_disease_by_sex = label_by_sex[1] / label_by_sex.sum(axis=1)\n",
    "ratio_disease_by_sex.plot.bar(title='Tỉ lệ mắc bệnh theo giới tính', xlabel='Giới tính', ylabel='Tỉ lệ mắc bệnh (%)');"
   ]
  },
  {
   "cell_type": "markdown",
   "id": "afe441af-a1d2-4a68-bc68-728f1d22ca9c",
   "metadata": {},
   "source": [
    "Như vậy, dựa trên dữ liệu, ta có thể nhận xét sơ bộ tỉ lệ mắc bệnh của nam cao hơn của nữ\n",
    "\n",
    "Cụ thể:\n",
    "- 20 người Nữ thì sẽ 5 người mắc bệnh\n",
    "- 10 người Nam thì có 5 người mắc bệnh\n",
    "\n",
    "Tuy nhiên, nhận xét này có vẻ chưa thuyết phục lắm do cần phải xem xét độ tuổi khảo sát nữa"
   ]
  },
  {
   "cell_type": "markdown",
   "id": "5bc3af47-8e29-4de4-8a5c-da3a7318cb7c",
   "metadata": {},
   "source": [
    "### Câu hỏi 2"
   ]
  },
  {
   "cell_type": "markdown",
   "id": "4a7f1d10-16d6-4478-8a78-6e39c285c016",
   "metadata": {},
   "source": [
    "#### Tiền xử lý & Phân tích để trả lời câu hỏi\n",
    "Với mỗi câu hỏi:\n",
    "• Có cần tiền xử lý dữ liệu không và nếu có thì nhóm bạn\n",
    "tiền xử lý như thế nào?\n",
    "• Text: vạch ra các bước thực hiện một cách rõ ràng và dễ\n",
    "hiểu sao cho nếu người đọc không đọc code thì vẫn có\n",
    "thể hiểu được cách bạn tiền xử lý\n",
    "• Code: cài đặt các bước đã vạch ra ở trên. Nhóm bạn\n",
    "cũng cố gắng viết code cho rõ ràng và dễ đọc (chọn tên\n",
    "biến gợi nhớ, comment ở những chỗ mà nên comment,\n",
    "không để một dòng code quá dài)\n",
    "• Nhóm bạn phân tích dữ liệu như thế nào để ra được\n",
    "câu trả lời cho câu hỏi?\n",
    "• Text: tương tự như trên\n",
    "• Code: tương tự như trên\n",
    "• Chart: phát hiện insight từ chart"
   ]
  },
  {
   "cell_type": "code",
   "execution_count": null,
   "id": "93b09025-53d4-4b49-908e-0d9504414587",
   "metadata": {},
   "outputs": [],
   "source": []
  },
  {
   "cell_type": "markdown",
   "id": "eb011c48-bc95-4462-8a83-1db3e4258920",
   "metadata": {},
   "source": [
    "### Câu hỏi 3"
   ]
  },
  {
   "cell_type": "markdown",
   "id": "be93ee52-5fda-4edf-bac0-6b0cc4d80d8f",
   "metadata": {},
   "source": [
    "#### Tiền xử lý & Phân tích để trả lời câu hỏi\n",
    "Với mỗi câu hỏi:\n",
    "• Có cần tiền xử lý dữ liệu không và nếu có thì nhóm bạn\n",
    "tiền xử lý như thế nào?\n",
    "• Text: vạch ra các bước thực hiện một cách rõ ràng và dễ\n",
    "hiểu sao cho nếu người đọc không đọc code thì vẫn có\n",
    "thể hiểu được cách bạn tiền xử lý\n",
    "• Code: cài đặt các bước đã vạch ra ở trên. Nhóm bạn\n",
    "cũng cố gắng viết code cho rõ ràng và dễ đọc (chọn tên\n",
    "biến gợi nhớ, comment ở những chỗ mà nên comment,\n",
    "không để một dòng code quá dài)\n",
    "• Nhóm bạn phân tích dữ liệu như thế nào để ra được\n",
    "câu trả lời cho câu hỏi?\n",
    "• Text: tương tự như trên\n",
    "• Code: tương tự như trên\n",
    "• Chart: phát hiện insight từ chart"
   ]
  },
  {
   "cell_type": "code",
   "execution_count": null,
   "id": "c943bcbd-dc2d-4e62-98d7-2f9606f7959e",
   "metadata": {},
   "outputs": [],
   "source": []
  },
  {
   "cell_type": "markdown",
   "id": "872f968c-bd90-48c0-8250-bc23c61a2ea2",
   "metadata": {},
   "source": [
    "---"
   ]
  },
  {
   "cell_type": "markdown",
   "id": "50eb900e-07d0-4d41-8c0f-9f37539b75d4",
   "metadata": {},
   "source": [
    "## Nhìn lại quá trình làm đồ án\n",
    "Sau bao ngày vất vả làm đồ án thì bây giờ đã kết thúc. Bây\n",
    "giờ là lúc để ngồi uống coffee và tĩnh tâm nhìn lại quãng\n",
    "đường vừa qua\n",
    "• Mỗi thành viên: Đã gặp những khó khăn gì? (Hay mọi\n",
    "chuyện đều thuận lợi)\n",
    "• Mỗi thành viên: Có học được gì hữu ích? (Hay không\n",
    "học được gì)\n",
    "• Nhóm: Nếu có thêm thời gian thì sẽ làm gì?\n",
    "Phần này có sao thì bạn nói vậy thôi, chứ không phải là viết\n",
    "cho có, hoặc tự chế ra để nghe cho hay\n",
    "• Chart: phát hiện insight từ chart"
   ]
  },
  {
   "cell_type": "code",
   "execution_count": null,
   "id": "cceb61e6-537c-4d9e-b019-b61d3f8c3e94",
   "metadata": {},
   "outputs": [],
   "source": []
  },
  {
   "cell_type": "markdown",
   "id": "6707d84c-632a-468f-bddf-7c2e4f74667d",
   "metadata": {},
   "source": [
    "---"
   ]
  },
  {
   "cell_type": "markdown",
   "id": "5b83bb2d-3c1a-4dde-95d2-5a543e0252f6",
   "metadata": {},
   "source": [
    "## Tài liệu tham khảo\n",
    "Để hoàn thành đồ án thì nhóm bạn đã tham khảo những tài liệu nào?"
   ]
  },
  {
   "cell_type": "code",
   "execution_count": null,
   "id": "20802f2d-eb4c-4321-b897-7f2cb9377e66",
   "metadata": {},
   "outputs": [],
   "source": []
  }
 ],
 "metadata": {
  "kernelspec": {
   "display_name": "Python 3 (ipykernel)",
   "language": "python",
   "name": "python3"
  },
  "language_info": {
   "codemirror_mode": {
    "name": "ipython",
    "version": 3
   },
   "file_extension": ".py",
   "mimetype": "text/x-python",
   "name": "python",
   "nbconvert_exporter": "python",
   "pygments_lexer": "ipython3",
   "version": "3.8.8"
  }
 },
 "nbformat": 4,
 "nbformat_minor": 5
}
