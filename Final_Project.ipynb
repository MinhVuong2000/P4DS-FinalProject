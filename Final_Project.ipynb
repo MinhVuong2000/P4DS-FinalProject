{
 "cells": [
  {
   "cell_type": "markdown",
   "id": "287035a1-1430-4590-9def-557592c473a5",
   "metadata": {},
   "source": [
    "# Đồ án cuối kì\n",
    "Thông tin nhóm:\n",
    "1. Lê Hồng Huy - 18120182\n",
    "2. Nguyễn Thị Minh Vượng - 18120265\n",
    "<br/><br/>\n",
    "\n",
    "Github làm việc [tại đây](https://github.com/MinhVuong2000/P4DS-FinalProject)"
   ]
  },
  {
   "cell_type": "markdown",
   "id": "757a2363-3a2f-4c57-bda4-80d2dd9e6747",
   "metadata": {},
   "source": [
    "---"
   ]
  },
  {
   "cell_type": "markdown",
   "id": "573fca16-4d7c-4c47-bfaa-38a7f6e8a1fb",
   "metadata": {},
   "source": [
    "## Môi trường code"
   ]
  },
  {
   "cell_type": "code",
   "execution_count": 1,
   "id": "912f9c6a-aa82-4089-b528-8639fc574cc0",
   "metadata": {},
   "outputs": [
    {
     "data": {
      "text/plain": [
       "'/Users/vuongnguyenthiminh/opt/anaconda3/envs/min_ds-env/bin/python'"
      ]
     },
     "execution_count": 1,
     "metadata": {},
     "output_type": "execute_result"
    }
   ],
   "source": [
    "import sys\n",
    "sys.executable"
   ]
  },
  {
   "cell_type": "markdown",
   "id": "2f467bcf-1388-4d9a-bc6f-cf5d8c4a9202",
   "metadata": {},
   "source": [
    "---"
   ]
  },
  {
   "cell_type": "markdown",
   "id": "0a64353f-bb9c-428d-b52b-9c55e810c6e9",
   "metadata": {},
   "source": [
    "## Import các thư viện cần thiết"
   ]
  },
  {
   "cell_type": "code",
   "execution_count": 1,
   "id": "4d2a80d1-3316-427d-9c80-8637cb47aa9e",
   "metadata": {},
   "outputs": [],
   "source": [
    "import pandas as pd\n",
    "import matplotlib.pyplot as plt\n",
    "import numpy as np\n",
    "import os"
   ]
  },
  {
   "cell_type": "markdown",
   "id": "35b783e5-ca1a-421e-b55f-2d7141c18ada",
   "metadata": {},
   "source": [
    "---"
   ]
  },
  {
   "cell_type": "markdown",
   "id": "17aed7d8-a427-4d51-89dd-c4694f3edfcd",
   "metadata": {},
   "source": [
    "## Thu thập dữ liệu"
   ]
  },
  {
   "cell_type": "markdown",
   "id": "96e848d6",
   "metadata": {},
   "source": [
    "- **Dữ liệu**: https://www.kaggle.com/fedesoriano/heart-failure-prediction\n",
    "- **Nguồn**: Bộ dữ liệu này được tạo ra bằng cách kết hợp các bộ dữ liệu khác nhau đã có sẵn độc lập nhưng không được kết hợp trước đó. Trong bộ dữ liệu này, 5 bộ dữ liệu tim được kết hợp trên 11 tính năng phổ biến làm cho nó trở thành bộ dữ liệu bệnh tim lớn nhất có sẵn cho đến nay cho mục đích nghiên cứu:\n",
    "    - Cleveland: 303 quan sát\n",
    "    - Hungarian: 294 quan sát\n",
    "    - Switzerland: 123 quan sát\n",
    "    - Long Beach VA: 200 quan sát\n",
    "    - Stalog (Heart) Data Set: 270 quan sát\n",
    "- **Giấy phép**: Open Data Commons Open Database License (ODbL) v1.0"
   ]
  },
  {
   "cell_type": "markdown",
   "id": "d255c255-618d-44bb-934c-ed71700b00e1",
   "metadata": {},
   "source": [
    "### Tải dữ liệu "
   ]
  },
  {
   "cell_type": "code",
   "execution_count": 5,
   "id": "4307f2fd-8f78-45d3-bb27-32751c6eff96",
   "metadata": {},
   "outputs": [
    {
     "name": "stderr",
     "output_type": "stream",
     "text": [
      "'wget' is not recognized as an internal or external command,\n",
      "operable program or batch file.\n"
     ]
    }
   ],
   "source": [
    "!wget -O data.csv https://gist.githubusercontent.com/MinhVuong2000/8286380838ef575032894dceab5072ed/raw/cc96ec954cc1d94c0548a32f64ff29ba3f8390bf/heart.csv"
   ]
  },
  {
   "cell_type": "markdown",
   "id": "08229b1d-dd1c-4b8d-a741-2bac17932e7f",
   "metadata": {},
   "source": [
    "### Đọc dữ liệu"
   ]
  },
  {
   "cell_type": "code",
   "execution_count": 2,
   "id": "e14d6e5a-59ef-4a0e-b670-8869804dcd20",
   "metadata": {},
   "outputs": [
    {
     "data": {
      "text/html": [
       "<div>\n",
       "<style scoped>\n",
       "    .dataframe tbody tr th:only-of-type {\n",
       "        vertical-align: middle;\n",
       "    }\n",
       "\n",
       "    .dataframe tbody tr th {\n",
       "        vertical-align: top;\n",
       "    }\n",
       "\n",
       "    .dataframe thead th {\n",
       "        text-align: right;\n",
       "    }\n",
       "</style>\n",
       "<table border=\"1\" class=\"dataframe\">\n",
       "  <thead>\n",
       "    <tr style=\"text-align: right;\">\n",
       "      <th></th>\n",
       "      <th>Age</th>\n",
       "      <th>Sex</th>\n",
       "      <th>ChestPainType</th>\n",
       "      <th>RestingBP</th>\n",
       "      <th>Cholesterol</th>\n",
       "      <th>FastingBS</th>\n",
       "      <th>RestingECG</th>\n",
       "      <th>MaxHR</th>\n",
       "      <th>ExerciseAngina</th>\n",
       "      <th>Oldpeak</th>\n",
       "      <th>ST_Slope</th>\n",
       "      <th>HeartDisease</th>\n",
       "    </tr>\n",
       "  </thead>\n",
       "  <tbody>\n",
       "    <tr>\n",
       "      <th>0</th>\n",
       "      <td>40</td>\n",
       "      <td>M</td>\n",
       "      <td>ATA</td>\n",
       "      <td>140</td>\n",
       "      <td>289</td>\n",
       "      <td>0</td>\n",
       "      <td>Normal</td>\n",
       "      <td>172</td>\n",
       "      <td>N</td>\n",
       "      <td>0.0</td>\n",
       "      <td>Up</td>\n",
       "      <td>0</td>\n",
       "    </tr>\n",
       "    <tr>\n",
       "      <th>1</th>\n",
       "      <td>49</td>\n",
       "      <td>F</td>\n",
       "      <td>NAP</td>\n",
       "      <td>160</td>\n",
       "      <td>180</td>\n",
       "      <td>0</td>\n",
       "      <td>Normal</td>\n",
       "      <td>156</td>\n",
       "      <td>N</td>\n",
       "      <td>1.0</td>\n",
       "      <td>Flat</td>\n",
       "      <td>1</td>\n",
       "    </tr>\n",
       "    <tr>\n",
       "      <th>2</th>\n",
       "      <td>37</td>\n",
       "      <td>M</td>\n",
       "      <td>ATA</td>\n",
       "      <td>130</td>\n",
       "      <td>283</td>\n",
       "      <td>0</td>\n",
       "      <td>ST</td>\n",
       "      <td>98</td>\n",
       "      <td>N</td>\n",
       "      <td>0.0</td>\n",
       "      <td>Up</td>\n",
       "      <td>0</td>\n",
       "    </tr>\n",
       "    <tr>\n",
       "      <th>3</th>\n",
       "      <td>48</td>\n",
       "      <td>F</td>\n",
       "      <td>ASY</td>\n",
       "      <td>138</td>\n",
       "      <td>214</td>\n",
       "      <td>0</td>\n",
       "      <td>Normal</td>\n",
       "      <td>108</td>\n",
       "      <td>Y</td>\n",
       "      <td>1.5</td>\n",
       "      <td>Flat</td>\n",
       "      <td>1</td>\n",
       "    </tr>\n",
       "    <tr>\n",
       "      <th>4</th>\n",
       "      <td>54</td>\n",
       "      <td>M</td>\n",
       "      <td>NAP</td>\n",
       "      <td>150</td>\n",
       "      <td>195</td>\n",
       "      <td>0</td>\n",
       "      <td>Normal</td>\n",
       "      <td>122</td>\n",
       "      <td>N</td>\n",
       "      <td>0.0</td>\n",
       "      <td>Up</td>\n",
       "      <td>0</td>\n",
       "    </tr>\n",
       "  </tbody>\n",
       "</table>\n",
       "</div>"
      ],
      "text/plain": [
       "   Age Sex ChestPainType  RestingBP  Cholesterol  FastingBS RestingECG  MaxHR  \\\n",
       "0   40   M           ATA        140          289          0     Normal    172   \n",
       "1   49   F           NAP        160          180          0     Normal    156   \n",
       "2   37   M           ATA        130          283          0         ST     98   \n",
       "3   48   F           ASY        138          214          0     Normal    108   \n",
       "4   54   M           NAP        150          195          0     Normal    122   \n",
       "\n",
       "  ExerciseAngina  Oldpeak ST_Slope  HeartDisease  \n",
       "0              N      0.0       Up             0  \n",
       "1              N      1.0     Flat             1  \n",
       "2              N      0.0       Up             0  \n",
       "3              Y      1.5     Flat             1  \n",
       "4              N      0.0       Up             0  "
      ]
     },
     "execution_count": 2,
     "metadata": {},
     "output_type": "execute_result"
    }
   ],
   "source": [
    "df = pd.read_csv('heart.csv')\n",
    "df.head()"
   ]
  },
  {
   "cell_type": "code",
   "execution_count": null,
   "id": "61aecfc6-c7a5-4b8b-950f-587b122b83f0",
   "metadata": {},
   "outputs": [],
   "source": []
  },
  {
   "cell_type": "markdown",
   "id": "b547d419-00b2-4792-b208-6b5aa7b62474",
   "metadata": {},
   "source": [
    "## Khám phá dữ liệu\n",
    "Dữ liệu có bao nhiêu dòng và bao nhiêu cột?\n",
    "• Mỗi dòng có ý nghĩa gì? Có vấn đề các dòng có ý nghĩa\n",
    "khác nhau không?\n",
    "• Dữ liệu có các dòng bị lặp không?\n",
    "• Mỗi cột có ý nghĩa gì?\n",
    "• Mỗi cột hiện đang có kiểu dữ liệu gì? Có cột nào có kiểu\n",
    "dữ liệu chưa phù hợp để có thể xử lý tiếp không?\n",
    "• Với mỗi cột có kiểu dữ liệu dạng số (numerical), các giá\n",
    "trị được phân bố như thế nào?\n",
    "• Số-lượng/tỉ-lệ các giá trị thiếu?\n",
    "• Min? max? → Có gì bất thường không?\n",
    "• Với mỗi cột có kiểu dữ liệu dạng phân loại (categorical),\n",
    "các giá trị được phân bố như thế nào?\n",
    "• Số-lượng/tỉ-lệ các giá trị thiếu?\n",
    "• Số lượng các giá trị khác nhau? Show một vài giá trị\n",
    "→ Có gì bất thường không?"
   ]
  },
  {
   "cell_type": "markdown",
   "id": "0a85146d",
   "metadata": {},
   "source": [
    "### Dữ liệu gồm bao nhiêu dòng và bao nhiêu cột ?"
   ]
  },
  {
   "cell_type": "code",
   "execution_count": 5,
   "id": "8a209a04",
   "metadata": {},
   "outputs": [
    {
     "name": "stdout",
     "output_type": "stream",
     "text": [
      "Số dòng là: 918, số cột là: 12\n"
     ]
    }
   ],
   "source": [
    "num_rows, num_cols = df.shape\n",
    "print(f\"Số dòng là: {num_rows}, số cột là: {num_cols}\")"
   ]
  },
  {
   "cell_type": "markdown",
   "id": "f52b12a7",
   "metadata": {},
   "source": [
    "### Mỗi dòng có ý nghĩa gì? Có vấn đề các dòng có ý nghĩa khác nhau không ?"
   ]
  },
  {
   "cell_type": "markdown",
   "id": "70b49ca7",
   "metadata": {},
   "source": [
    "Theo mô tả của dữ liệu thì mỗi dòng sẽ chứa 11 đặc điểm lâm sàng để dự đoán sự kiện bị bệnh tim ở 1 người và theo dữ liệu thì không có dòng nào \"lạc loài\""
   ]
  },
  {
   "cell_type": "markdown",
   "id": "5cae69a4",
   "metadata": {},
   "source": [
    "### Dữ liệu các dòng có bị lặp không ?"
   ]
  },
  {
   "cell_type": "code",
   "execution_count": 6,
   "id": "c6c14728",
   "metadata": {},
   "outputs": [
    {
     "name": "stdout",
     "output_type": "stream",
     "text": [
      "Dữ liệu không có dòng trùng lặp\n"
     ]
    }
   ],
   "source": [
    "if len(df.duplicated().unique())==1:\n",
    "    print(\"Dữ liệu không có dòng trùng lặp\")\n",
    "else:\n",
    "    print(\"Dữ liệu có dòng bị trùng lặp\")"
   ]
  },
  {
   "cell_type": "markdown",
   "id": "b8728c68",
   "metadata": {},
   "source": [
    "### Mỗi cột có ý nghĩa gì ?"
   ]
  },
  {
   "cell_type": "markdown",
   "id": "9b53c268",
   "metadata": {},
   "source": [
    "Dưới đây là phần mô tả của dữ liệu về các cột trong file \"heart.csv\":\n",
    "- **Age**: Tuổi của bệnh nhân\n",
    "- **Sex**: Giới tính của bệnh nhân [M: Nam, F: Nữ]\n",
    "- **ChestPainType**: Loại đau ngực [TA: Đau thắt ngực điển hình, ATA: Đau thắt ngực không điển hình, NAP: Đau không âm đạo, ASY: Không có triệu chứng]\n",
    "- **RestBP**: Huyết áp khi nghỉ ngơi [mm/Hg]\n",
    "- **Cholesterol**: Cholesterol huyết thanh [mm/dl]\n",
    "- **Nhịn ăn**: Lượng đường trong máu lúc đói [1: nếu FastingBS > 120 mg/dl, 0: nếu không]\n",
    "- **RestECG**: Kết quả điện tâm đồ lúc nghỉ ngơi [Normal: Bình thường, ST: có bất thường sóng ST-T (đảo ngược sóng T và / hoặc độ cao ST hoặc trầm cảm > 0,05 mV), LVH: cho thấy phì đại thất trái có thể xảy ra hoặc xác định theo tiêu chí của Estes]\n",
    "- **MaxHR**: Nhịp tim tối đa đạt được [Giá trị số từ 60 đến 202]\n",
    "- **ExerciseAngina**: Đau thắt ngực do tập thể dục [Y: Có, N: Không]\n",
    "- **Oldpeak**: oldpeak = ST [Giá trị số đo được trong trầm cảm]\n",
    "- **ST_Slope**: độ dốc của đoạn ST tập thể dục đỉnh cao [Up: lên, Flat: phẳng, Down: xuống dốc]\n",
    "- **HeartDisease**: lớp đầu ra [1: Bệnh tim, 0: Bình thường]"
   ]
  },
  {
   "cell_type": "markdown",
   "id": "a603bf92",
   "metadata": {},
   "source": [
    "### Mỗi cột hiện đang có kiểu dữ liệu gì? Có cột nào có kiểu dữ liệu chưa phù hợp để có thể xử lý tiếp không?"
   ]
  },
  {
   "cell_type": "code",
   "execution_count": 8,
   "id": "95b92d0a",
   "metadata": {},
   "outputs": [
    {
     "name": "stdout",
     "output_type": "stream",
     "text": [
      "Kiểu dữ liệu của các cột là: \n",
      "Age                 int64\n",
      "Sex                object\n",
      "ChestPainType      object\n",
      "RestingBP           int64\n",
      "Cholesterol         int64\n",
      "FastingBS           int64\n",
      "RestingECG         object\n",
      "MaxHR               int64\n",
      "ExerciseAngina     object\n",
      "Oldpeak           float64\n",
      "ST_Slope           object\n",
      "HeartDisease        int64\n",
      "dtype: object\n"
     ]
    }
   ],
   "source": [
    "col_types = df.dtypes\n",
    "print(\"Kiểu dữ liệu của các cột là: \")\n",
    "print(col_types)"
   ]
  },
  {
   "cell_type": "markdown",
   "id": "23faa1bb",
   "metadata": {},
   "source": [
    "### Nhìn tổng quan dữ liệu của chúng ta"
   ]
  },
  {
   "cell_type": "code",
   "execution_count": null,
   "id": "b68d5684",
   "metadata": {},
   "outputs": [
    {
     "data": {
      "text/html": [
       "<div>\n",
       "<style scoped>\n",
       "    .dataframe tbody tr th:only-of-type {\n",
       "        vertical-align: middle;\n",
       "    }\n",
       "\n",
       "    .dataframe tbody tr th {\n",
       "        vertical-align: top;\n",
       "    }\n",
       "\n",
       "    .dataframe thead th {\n",
       "        text-align: right;\n",
       "    }\n",
       "</style>\n",
       "<table border=\"1\" class=\"dataframe\">\n",
       "  <thead>\n",
       "    <tr style=\"text-align: right;\">\n",
       "      <th></th>\n",
       "      <th>Age</th>\n",
       "      <th>Sex</th>\n",
       "      <th>ChestPainType</th>\n",
       "      <th>RestingBP</th>\n",
       "      <th>Cholesterol</th>\n",
       "      <th>FastingBS</th>\n",
       "      <th>RestingECG</th>\n",
       "      <th>MaxHR</th>\n",
       "      <th>ExerciseAngina</th>\n",
       "      <th>Oldpeak</th>\n",
       "      <th>ST_Slope</th>\n",
       "      <th>HeartDisease</th>\n",
       "    </tr>\n",
       "  </thead>\n",
       "  <tbody>\n",
       "    <tr>\n",
       "      <th>count</th>\n",
       "      <td>918.000000</td>\n",
       "      <td>918</td>\n",
       "      <td>918</td>\n",
       "      <td>918.000000</td>\n",
       "      <td>918.000000</td>\n",
       "      <td>918.000000</td>\n",
       "      <td>918</td>\n",
       "      <td>918.000000</td>\n",
       "      <td>918</td>\n",
       "      <td>918.000000</td>\n",
       "      <td>918</td>\n",
       "      <td>918.000000</td>\n",
       "    </tr>\n",
       "    <tr>\n",
       "      <th>unique</th>\n",
       "      <td>NaN</td>\n",
       "      <td>2</td>\n",
       "      <td>4</td>\n",
       "      <td>NaN</td>\n",
       "      <td>NaN</td>\n",
       "      <td>NaN</td>\n",
       "      <td>3</td>\n",
       "      <td>NaN</td>\n",
       "      <td>2</td>\n",
       "      <td>NaN</td>\n",
       "      <td>3</td>\n",
       "      <td>NaN</td>\n",
       "    </tr>\n",
       "    <tr>\n",
       "      <th>top</th>\n",
       "      <td>NaN</td>\n",
       "      <td>M</td>\n",
       "      <td>ASY</td>\n",
       "      <td>NaN</td>\n",
       "      <td>NaN</td>\n",
       "      <td>NaN</td>\n",
       "      <td>Normal</td>\n",
       "      <td>NaN</td>\n",
       "      <td>N</td>\n",
       "      <td>NaN</td>\n",
       "      <td>Flat</td>\n",
       "      <td>NaN</td>\n",
       "    </tr>\n",
       "    <tr>\n",
       "      <th>freq</th>\n",
       "      <td>NaN</td>\n",
       "      <td>725</td>\n",
       "      <td>496</td>\n",
       "      <td>NaN</td>\n",
       "      <td>NaN</td>\n",
       "      <td>NaN</td>\n",
       "      <td>552</td>\n",
       "      <td>NaN</td>\n",
       "      <td>547</td>\n",
       "      <td>NaN</td>\n",
       "      <td>460</td>\n",
       "      <td>NaN</td>\n",
       "    </tr>\n",
       "    <tr>\n",
       "      <th>mean</th>\n",
       "      <td>53.510893</td>\n",
       "      <td>NaN</td>\n",
       "      <td>NaN</td>\n",
       "      <td>132.396514</td>\n",
       "      <td>198.799564</td>\n",
       "      <td>0.233115</td>\n",
       "      <td>NaN</td>\n",
       "      <td>136.809368</td>\n",
       "      <td>NaN</td>\n",
       "      <td>0.887364</td>\n",
       "      <td>NaN</td>\n",
       "      <td>0.553377</td>\n",
       "    </tr>\n",
       "    <tr>\n",
       "      <th>std</th>\n",
       "      <td>9.432617</td>\n",
       "      <td>NaN</td>\n",
       "      <td>NaN</td>\n",
       "      <td>18.514154</td>\n",
       "      <td>109.384145</td>\n",
       "      <td>0.423046</td>\n",
       "      <td>NaN</td>\n",
       "      <td>25.460334</td>\n",
       "      <td>NaN</td>\n",
       "      <td>1.066570</td>\n",
       "      <td>NaN</td>\n",
       "      <td>0.497414</td>\n",
       "    </tr>\n",
       "    <tr>\n",
       "      <th>min</th>\n",
       "      <td>28.000000</td>\n",
       "      <td>NaN</td>\n",
       "      <td>NaN</td>\n",
       "      <td>0.000000</td>\n",
       "      <td>0.000000</td>\n",
       "      <td>0.000000</td>\n",
       "      <td>NaN</td>\n",
       "      <td>60.000000</td>\n",
       "      <td>NaN</td>\n",
       "      <td>-2.600000</td>\n",
       "      <td>NaN</td>\n",
       "      <td>0.000000</td>\n",
       "    </tr>\n",
       "    <tr>\n",
       "      <th>25%</th>\n",
       "      <td>47.000000</td>\n",
       "      <td>NaN</td>\n",
       "      <td>NaN</td>\n",
       "      <td>120.000000</td>\n",
       "      <td>173.250000</td>\n",
       "      <td>0.000000</td>\n",
       "      <td>NaN</td>\n",
       "      <td>120.000000</td>\n",
       "      <td>NaN</td>\n",
       "      <td>0.000000</td>\n",
       "      <td>NaN</td>\n",
       "      <td>0.000000</td>\n",
       "    </tr>\n",
       "    <tr>\n",
       "      <th>50%</th>\n",
       "      <td>54.000000</td>\n",
       "      <td>NaN</td>\n",
       "      <td>NaN</td>\n",
       "      <td>130.000000</td>\n",
       "      <td>223.000000</td>\n",
       "      <td>0.000000</td>\n",
       "      <td>NaN</td>\n",
       "      <td>138.000000</td>\n",
       "      <td>NaN</td>\n",
       "      <td>0.600000</td>\n",
       "      <td>NaN</td>\n",
       "      <td>1.000000</td>\n",
       "    </tr>\n",
       "    <tr>\n",
       "      <th>75%</th>\n",
       "      <td>60.000000</td>\n",
       "      <td>NaN</td>\n",
       "      <td>NaN</td>\n",
       "      <td>140.000000</td>\n",
       "      <td>267.000000</td>\n",
       "      <td>0.000000</td>\n",
       "      <td>NaN</td>\n",
       "      <td>156.000000</td>\n",
       "      <td>NaN</td>\n",
       "      <td>1.500000</td>\n",
       "      <td>NaN</td>\n",
       "      <td>1.000000</td>\n",
       "    </tr>\n",
       "    <tr>\n",
       "      <th>max</th>\n",
       "      <td>77.000000</td>\n",
       "      <td>NaN</td>\n",
       "      <td>NaN</td>\n",
       "      <td>200.000000</td>\n",
       "      <td>603.000000</td>\n",
       "      <td>1.000000</td>\n",
       "      <td>NaN</td>\n",
       "      <td>202.000000</td>\n",
       "      <td>NaN</td>\n",
       "      <td>6.200000</td>\n",
       "      <td>NaN</td>\n",
       "      <td>1.000000</td>\n",
       "    </tr>\n",
       "  </tbody>\n",
       "</table>\n",
       "</div>"
      ],
      "text/plain": [
       "               Age  Sex ChestPainType   RestingBP  Cholesterol   FastingBS  \\\n",
       "count   918.000000  918           918  918.000000   918.000000  918.000000   \n",
       "unique         NaN    2             4         NaN          NaN         NaN   \n",
       "top            NaN    M           ASY         NaN          NaN         NaN   \n",
       "freq           NaN  725           496         NaN          NaN         NaN   \n",
       "mean     53.510893  NaN           NaN  132.396514   198.799564    0.233115   \n",
       "std       9.432617  NaN           NaN   18.514154   109.384145    0.423046   \n",
       "min      28.000000  NaN           NaN    0.000000     0.000000    0.000000   \n",
       "25%      47.000000  NaN           NaN  120.000000   173.250000    0.000000   \n",
       "50%      54.000000  NaN           NaN  130.000000   223.000000    0.000000   \n",
       "75%      60.000000  NaN           NaN  140.000000   267.000000    0.000000   \n",
       "max      77.000000  NaN           NaN  200.000000   603.000000    1.000000   \n",
       "\n",
       "       RestingECG       MaxHR ExerciseAngina     Oldpeak ST_Slope  \\\n",
       "count         918  918.000000            918  918.000000      918   \n",
       "unique          3         NaN              2         NaN        3   \n",
       "top        Normal         NaN              N         NaN     Flat   \n",
       "freq          552         NaN            547         NaN      460   \n",
       "mean          NaN  136.809368            NaN    0.887364      NaN   \n",
       "std           NaN   25.460334            NaN    1.066570      NaN   \n",
       "min           NaN   60.000000            NaN   -2.600000      NaN   \n",
       "25%           NaN  120.000000            NaN    0.000000      NaN   \n",
       "50%           NaN  138.000000            NaN    0.600000      NaN   \n",
       "75%           NaN  156.000000            NaN    1.500000      NaN   \n",
       "max           NaN  202.000000            NaN    6.200000      NaN   \n",
       "\n",
       "        HeartDisease  \n",
       "count     918.000000  \n",
       "unique           NaN  \n",
       "top              NaN  \n",
       "freq             NaN  \n",
       "mean        0.553377  \n",
       "std         0.497414  \n",
       "min         0.000000  \n",
       "25%         0.000000  \n",
       "50%         1.000000  \n",
       "75%         1.000000  \n",
       "max         1.000000  "
      ]
     },
     "metadata": {},
     "output_type": "display_data"
    }
   ],
   "source": [
    "df.describe(include='all')"
   ]
  },
  {
   "cell_type": "markdown",
   "id": "8b33d7d3",
   "metadata": {},
   "source": [
    "### Với mỗi cột có kiểu dữ liệu dạng numeric, các giá trị được phân bố như thế nào?"
   ]
  },
  {
   "cell_type": "code",
   "execution_count": 10,
   "id": "269e00b4",
   "metadata": {},
   "outputs": [
    {
     "data": {
      "text/html": [
       "<div>\n",
       "<style scoped>\n",
       "    .dataframe tbody tr th:only-of-type {\n",
       "        vertical-align: middle;\n",
       "    }\n",
       "\n",
       "    .dataframe tbody tr th {\n",
       "        vertical-align: top;\n",
       "    }\n",
       "\n",
       "    .dataframe thead th {\n",
       "        text-align: right;\n",
       "    }\n",
       "</style>\n",
       "<table border=\"1\" class=\"dataframe\">\n",
       "  <thead>\n",
       "    <tr style=\"text-align: right;\">\n",
       "      <th></th>\n",
       "      <th>Age</th>\n",
       "      <th>RestingBP</th>\n",
       "      <th>Cholesterol</th>\n",
       "      <th>MaxHR</th>\n",
       "      <th>Oldpeak</th>\n",
       "    </tr>\n",
       "  </thead>\n",
       "  <tbody>\n",
       "    <tr>\n",
       "      <th>missing_ratio</th>\n",
       "      <td>0.0</td>\n",
       "      <td>0.0</td>\n",
       "      <td>0.0</td>\n",
       "      <td>0.0</td>\n",
       "      <td>0.0</td>\n",
       "    </tr>\n",
       "    <tr>\n",
       "      <th>min</th>\n",
       "      <td>28.0</td>\n",
       "      <td>0.0</td>\n",
       "      <td>0.0</td>\n",
       "      <td>60.0</td>\n",
       "      <td>-2.6</td>\n",
       "    </tr>\n",
       "    <tr>\n",
       "      <th>max</th>\n",
       "      <td>77.0</td>\n",
       "      <td>200.0</td>\n",
       "      <td>603.0</td>\n",
       "      <td>202.0</td>\n",
       "      <td>6.2</td>\n",
       "    </tr>\n",
       "  </tbody>\n",
       "</table>\n",
       "</div>"
      ],
      "text/plain": [
       "                Age  RestingBP  Cholesterol  MaxHR  Oldpeak\n",
       "missing_ratio   0.0        0.0          0.0    0.0      0.0\n",
       "min            28.0        0.0          0.0   60.0     -2.6\n",
       "max            77.0      200.0        603.0  202.0      6.2"
      ]
     },
     "execution_count": 10,
     "metadata": {},
     "output_type": "execute_result"
    }
   ],
   "source": [
    "def missing_ratio(s):\n",
    "    return s.isna().mean() * 100\n",
    "nume_col_profiles_df=df[['Age','RestingBP', 'Cholesterol','MaxHR','Oldpeak']]\n",
    "nume_col_profiles_df=nume_col_profiles_df.agg([missing_ratio, pd.Series.min, pd.Series.max])\n",
    "nume_col_profiles_df"
   ]
  },
  {
   "cell_type": "markdown",
   "id": "18f5aeb9",
   "metadata": {},
   "source": [
    "### Với mỗi cột có kiểu dữ liệu dạng categorical, các giá trị được phân bố như thế nào? "
   ]
  },
  {
   "cell_type": "code",
   "execution_count": 11,
   "id": "9cba8195",
   "metadata": {},
   "outputs": [
    {
     "data": {
      "text/html": [
       "<div>\n",
       "<style scoped>\n",
       "    .dataframe tbody tr th:only-of-type {\n",
       "        vertical-align: middle;\n",
       "    }\n",
       "\n",
       "    .dataframe tbody tr th {\n",
       "        vertical-align: top;\n",
       "    }\n",
       "\n",
       "    .dataframe thead th {\n",
       "        text-align: right;\n",
       "    }\n",
       "</style>\n",
       "<table border=\"1\" class=\"dataframe\">\n",
       "  <thead>\n",
       "    <tr style=\"text-align: right;\">\n",
       "      <th></th>\n",
       "      <th>Sex</th>\n",
       "      <th>ChestPainType</th>\n",
       "      <th>RestingECG</th>\n",
       "      <th>ExerciseAngina</th>\n",
       "      <th>ST_Slope</th>\n",
       "      <th>FastingBS</th>\n",
       "    </tr>\n",
       "  </thead>\n",
       "  <tbody>\n",
       "    <tr>\n",
       "      <th>missing_ratio</th>\n",
       "      <td>0</td>\n",
       "      <td>0</td>\n",
       "      <td>0</td>\n",
       "      <td>0</td>\n",
       "      <td>0</td>\n",
       "      <td>0</td>\n",
       "    </tr>\n",
       "    <tr>\n",
       "      <th>num_diff_vals</th>\n",
       "      <td>2</td>\n",
       "      <td>4</td>\n",
       "      <td>3</td>\n",
       "      <td>2</td>\n",
       "      <td>3</td>\n",
       "      <td>2</td>\n",
       "    </tr>\n",
       "    <tr>\n",
       "      <th>diff_vals</th>\n",
       "      <td>[M, F]</td>\n",
       "      <td>[ATA, NAP, ASY, TA]</td>\n",
       "      <td>[Normal, ST, LVH]</td>\n",
       "      <td>[N, Y]</td>\n",
       "      <td>[Up, Flat, Down]</td>\n",
       "      <td>[0, 1]</td>\n",
       "    </tr>\n",
       "  </tbody>\n",
       "</table>\n",
       "</div>"
      ],
      "text/plain": [
       "                  Sex        ChestPainType         RestingECG ExerciseAngina  \\\n",
       "missing_ratio       0                    0                  0              0   \n",
       "num_diff_vals       2                    4                  3              2   \n",
       "diff_vals      [M, F]  [ATA, NAP, ASY, TA]  [Normal, ST, LVH]         [N, Y]   \n",
       "\n",
       "                       ST_Slope FastingBS  \n",
       "missing_ratio                 0         0  \n",
       "num_diff_vals                 3         2  \n",
       "diff_vals      [Up, Flat, Down]    [0, 1]  "
      ]
     },
     "execution_count": 11,
     "metadata": {},
     "output_type": "execute_result"
    }
   ],
   "source": [
    "def num_diff_vals(s):\n",
    "    return s.nunique()\n",
    "def diff_vals(s):\n",
    "    return s.dropna().unique()\n",
    "cate_col_profiles_df=df[[\"Sex\", \"ChestPainType\",\n",
    "                             \"RestingECG\", \"ExerciseAngina\", \"ST_Slope\",\"FastingBS\"]]\n",
    "cate_col_profiles_df=cate_col_profiles_df.agg([missing_ratio, num_diff_vals, diff_vals])\n",
    "cate_col_profiles_df"
   ]
  },
  {
   "cell_type": "markdown",
   "id": "c9469fb7-bada-4166-acdd-57d8595d9421",
   "metadata": {},
   "source": [
    "## Tiền xử lý"
   ]
  },
  {
   "cell_type": "markdown",
   "id": "2d8fa1f8-cc35-4492-a5e6-8ffbaaaaddfa",
   "metadata": {},
   "source": [
    "## Đặt câu hỏi\n",
    "Nhóm bạn nên tập trung vào chất lượng câu hỏi hơn là số lượng câu hỏi\n",
    "Trong file notebook, với mỗi câu hỏi, nhóm bạn cần trình bày:\n",
    "• Câu hỏi là gì?\n",
    "• Nếu trả lời được câu hỏi thì sẽ có lợi ích gì? (câu hỏi không quá dễ để trả lời - 1 dòng code)"
   ]
  },
  {
   "cell_type": "markdown",
   "id": "5bc3af47-8e29-4de4-8a5c-da3a7318cb7c",
   "metadata": {},
   "source": [
    "### Câu hỏi 1: Tỉ lệ giới tính ảnh hưởng như thế nào đối với kết quả bị bệnh tim hay không bị bệnh tim ?"
   ]
  },
  {
   "cell_type": "markdown",
   "id": "c48e2ca7",
   "metadata": {},
   "source": [
    "#### Nếu giải quyết câu hỏi sẽ: \n",
    "- Biết được tỉ lệ giới tính nào sẽ có nguy cơ cao hơn trong việc mắc các bệnh về tim mạch\n",
    "- Đưa ra các phương án phòng ngừa, tầm soát phù hợp cũng như có kế hoạch dự đoán thích hợp đối với các đối tượng nguy cơ dựa trên giới tính"
   ]
  },
  {
   "cell_type": "markdown",
   "id": "c5dccfe4",
   "metadata": {},
   "source": [
    "Cách bước tiến hành:\n",
    "- **Bước 1**: Tính tỉ lệ mắc bệnh tim giữa các giới tính dựa trên dữ liệu, kết quả được lưu vào dataframe sex_ratio\n",
    "- **Bước 2**: Vẽ biểu đồ cột thể hiện tỉ lệ mắc bệnh tim giữa các giới tính"
   ]
  },
  {
   "cell_type": "markdown",
   "id": "26dad57d",
   "metadata": {},
   "source": [
    "Code bước 1."
   ]
  },
  {
   "cell_type": "code",
   "execution_count": 14,
   "id": "ea974f89",
   "metadata": {},
   "outputs": [],
   "source": [
    "sex_ratio = df.groupby(['Sex','HeartDisease']).size().unstack()/df.shape[0]"
   ]
  },
  {
   "cell_type": "markdown",
   "id": "58ec508f",
   "metadata": {},
   "source": [
    "Code bước 2."
   ]
  },
  {
   "cell_type": "code",
   "execution_count": 19,
   "id": "448d42c4",
   "metadata": {},
   "outputs": [
    {
     "data": {
      "text/plain": [
       "(array([0, 1]), [Text(0, 0, 'F'), Text(1, 0, 'M')])"
      ]
     },
     "execution_count": 19,
     "metadata": {},
     "output_type": "execute_result"
    },
    {
     "data": {
      "image/png": "[encoded data removed]",
      "text/plain": [
       "<Figure size 432x288 with 1 Axes>"
      ]
     },
     "metadata": {
      "needs_background": "light"
     },
     "output_type": "display_data"
    }
   ],
   "source": [
    "sex_ratio.plot.bar(ylabel='Ratio')\n",
    "plt.xticks(rotation=0)"
   ]
  },
  {
   "cell_type": "markdown",
   "id": "5bc3af47-8e29-4de4-8a5c-da3a7318cb7c",
   "metadata": {},
   "source": [
    "### Câu hỏi 2: Các nhóm tuổi ảnh hưởng như thế nào đến kết quả bị bệnh tim hay không ?"
   ]
  },
  {
   "cell_type": "markdown",
   "id": "a05a7968",
   "metadata": {},
   "source": [
    "#### Nếu giải quyết câu hỏi sẽ: \n",
    "- Biết được nhóm tuổi nào sẽ có nguy cơ cao hơn trong việc mắc các bệnh về tim mạch\n",
    "- Đưa ra các phương án phòng ngừa, tầm soát phù hợp cũng như có kế hoạch dự đoán thích hợp đối với các đối tượng nguy cơ dựa trên nhóm tuổi"
   ]
  },
  {
   "cell_type": "markdown",
   "id": "4a7f1d10-16d6-4478-8a78-6e39c285c016",
   "metadata": {},
   "source": [
    "#### Tiền xử lý & Phân tích để trả lời câu hỏi\n",
    "- Để tiện cho việc xử lý dữ liệu, tiến hành thêm 1 cột trong dataframe ban đầu là chia cột tuổi thành 3 nhóm `young`, `middle_aged` và `old`"
   ]
  },
  {
   "cell_type": "code",
   "execution_count": 36,
   "id": "93b09025-53d4-4b49-908e-0d9504414587",
   "metadata": {},
   "outputs": [
    {
     "data": {
      "text/plain": [
       "middle_aged    692\n",
       "old            221\n",
       "young            5\n",
       "Name: Age_group, dtype: int64"
      ]
     },
     "execution_count": 36,
     "metadata": {},
     "output_type": "execute_result"
    }
   ],
   "source": [
    "df[\"Age_group\"] = pd.cut(x=df[\"Age\"], bins=[0,30,60,100], labels=[\"young\",\"middle_aged\",\"old\"])"
   ]
  },
  {
   "cell_type": "markdown",
   "id": "ca2f8062",
   "metadata": {},
   "source": [
    "Tiến hành vẽ dữ liệu theo như câu 1 để xem có gì hay không nhé :)"
   ]
  },
  {
   "cell_type": "code",
   "execution_count": 76,
   "id": "026e195a",
   "metadata": {},
   "outputs": [
    {
     "data": {
      "text/plain": [
       "<AxesSubplot:xlabel='Age_group', ylabel='Ratio'>"
      ]
     },
     "execution_count": 76,
     "metadata": {},
     "output_type": "execute_result"
    },
    {
     "data": {
      "image/png": "[encoded data removed]",
      "text/plain": [
       "<Figure size 432x288 with 1 Axes>"
      ]
     },
     "metadata": {
      "needs_background": "light"
     },
     "output_type": "display_data"
    }
   ],
   "source": [
    "temp = df.groupby(['Age_group','HeartDisease']).size().unstack()/df.shape[0]\n",
    "temp.plot.bar(ylabel=\"Ratio\", rot=0)"
   ]
  },
  {
   "cell_type": "markdown",
   "id": "092eef24",
   "metadata": {},
   "source": [
    "Oh Wao, ta nhận thấy có vẻ ở nhóm tuổi `middle_aged` thì tỉ lệ bệnh tim và không bệnh tim gần như là bằng nhau vậy thì ở độ tuổi này sẽ có các yếu tố nguy cơ khác ảnh hưởng, vậy làm sao tìm ra đây ? Liệu nếu việc chia tỉ lệ độ tuổi khác nhau có ảnh hưởng hay không ? Cùng thử xem"
   ]
  },
  {
   "cell_type": "code",
   "execution_count": 75,
   "id": "977cfe73",
   "metadata": {},
   "outputs": [
    {
     "data": {
      "text/plain": [
       "<AxesSubplot:xlabel='Age_group_2'>"
      ]
     },
     "execution_count": 75,
     "metadata": {},
     "output_type": "execute_result"
    },
    {
     "data": {
      "image/png": "[encoded data removed]",
      "text/plain": [
       "<Figure size 864x288 with 2 Axes>"
      ]
     },
     "metadata": {
      "needs_background": "light"
     },
     "output_type": "display_data"
    }
   ],
   "source": [
    "df[\"Age_group_1\"] = pd.cut(x=df[\"Age\"], bins=[0,35,55,100], labels=[\"young\",\"middle_aged\",\"old\"])\n",
    "temp1 = df.groupby(['Age_group_1','HeartDisease']).size().unstack()/df.shape[0]\n",
    "\n",
    "df[\"Age_group_2\"] = pd.cut(x=df[\"Age\"], bins=[0,40,65,100], labels=[\"young\",\"middle_aged\",\"old\"])\n",
    "temp2 = df.groupby(['Age_group_2','HeartDisease']).size().unstack()/df.shape[0]\n",
    "\n",
    "fig, axes = plt.subplots(nrows=1, ncols=2)\n",
    "fig.set_figheight(4)\n",
    "fig.set_figwidth(12)\n",
    "temp1.plot.bar(ax=axes[0], rot=0)\n",
    "temp2.plot.bar(ax=axes[1], rot=0)\n"
   ]
  },
  {
   "cell_type": "markdown",
   "id": "3eae47a7",
   "metadata": {},
   "source": [
    "Từ dữ liệu quan sát, ta nhận thấy ở lứa tuổi `middle_aged` ở cả 3 cách chia độ tuổi đều không thể xác định được tỉ lệ bệnh tim ở các độ tuổi này, nhưng riêng với độ tuổi `old` và  `young` ta đều thấy tỉ lệ mắc bệnh tim ở độ tuổi `young ` luôn thấp hơn và `old` luôn cao hơn"
   ]
  },
  {
   "cell_type": "markdown",
   "id": "50eb900e-07d0-4d41-8c0f-9f37539b75d4",
   "metadata": {},
   "source": [
    "## Nhìn lại quá trình làm đồ án\n",
    "Sau bao ngày vất vả làm đồ án thì bây giờ đã kết thúc. Bây\n",
    "giờ là lúc để ngồi uống coffee và tĩnh tâm nhìn lại quãng\n",
    "đường vừa qua\n",
    "• Mỗi thành viên: Đã gặp những khó khăn gì? (Hay mọi\n",
    "chuyện đều thuận lợi)\n",
    "• Mỗi thành viên: Có học được gì hữu ích? (Hay không\n",
    "học được gì)\n",
    "• Nhóm: Nếu có thêm thời gian thì sẽ làm gì?\n",
    "Phần này có sao thì bạn nói vậy thôi, chứ không phải là viết\n",
    "cho có, hoặc tự chế ra để nghe cho hay\n",
    "• Chart: phát hiện insight từ chart"
   ]
  },
  {
   "cell_type": "markdown",
   "id": "1290e6a1",
   "metadata": {},
   "source": [
    "- **Những khó khăn**: Khó khăn đầu tiên là việc lựa chọn data để tiến hành làm đồ án, giữa rất nhiều data được chia sẻ trên mạng, cần tìm ra data phù hợp để tiến hành phân tích và trả lời câu hỏi cũng là khó khăn đầu tiên. Tiếp theo là việc review lại các kiến thức đã được học, các kiến thức được học chủ yếu là nhớ các công việc mà các công cụ có thể làm, việc nhớ cú pháp khá khó khăn.\n",
    "- **Những điều học được**: Học được cách tự giải quyết vấn đề, đồ án tuy làm chung nhóm nhưng vẫn phải chia các branch khác nhau để làm nên vẫn đề cao khả năng làm việc độc lập. Hiểu được thêm về đồng đội trong đồ án, cũng là đồng đội trong luận văn, hiểu nhau nhiều hơn để có thể làm việc cùng nhau tốt hơn.\n",
    "- **Nếu có thêm thời gian**: Áp dụng các thuật toán học máy để phân tích mức độ ảnh hưởng cũng như dự đoán được bệnh tim dựa trên các feature đã có."
   ]
  },
  {
   "cell_type": "markdown",
   "id": "5b83bb2d-3c1a-4dde-95d2-5a543e0252f6",
   "metadata": {},
   "source": [
    "## Tài liệu tham khảo\n",
    "Để hoàn thành đồ án thì nhóm bạn đã tham khảo những tài liệu nào?"
   ]
  },
  {
   "cell_type": "markdown",
   "id": "ce3156ad",
   "metadata": {},
   "source": [
    "- https://opendatacommons.org/licenses/odbl/1-0/\n",
    "- https://www.kaggle.com/fedesoriano/heart-failure-prediction"
   ]
  }
 ],
 "metadata": {
  "kernelspec": {
   "display_name": "Python 3 (ipykernel)",
   "language": "python",
   "name": "python3"
  },
  "language_info": {
   "codemirror_mode": {
    "name": "ipython",
    "version": 3
   },
   "file_extension": ".py",
   "mimetype": "text/x-python",
   "name": "python",
   "nbconvert_exporter": "python",
   "pygments_lexer": "ipython3",
   "version": "3.8.5"
  }
 },
 "nbformat": 4,
 "nbformat_minor": 5
}
