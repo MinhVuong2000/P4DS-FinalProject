{
 "cells": [
  {
   "cell_type": "markdown",
   "id": "287035a1-1430-4590-9def-557592c473a5",
   "metadata": {},
   "source": [
    "# Đồ án cuối kì\n",
    "Thông tin nhóm:\n",
    "1. Lê Hồng Huy - 18120182\n",
    "2. Nguyễn Thị Minh Vượng - 18120265\n",
    "<br/><br/>\n",
    "\n",
    "Github làm việc [tại đây](https://github.com/MinhVuong2000/P4DS-FinalProject)"
   ]
  },
  {
   "cell_type": "markdown",
   "id": "757a2363-3a2f-4c57-bda4-80d2dd9e6747",
   "metadata": {},
   "source": [
    "---"
   ]
  },
  {
   "cell_type": "markdown",
   "id": "573fca16-4d7c-4c47-bfaa-38a7f6e8a1fb",
   "metadata": {},
   "source": [
    "## Môi trường code"
   ]
  },
  {
   "cell_type": "code",
   "execution_count": 1,
   "id": "912f9c6a-aa82-4089-b528-8639fc574cc0",
   "metadata": {},
   "outputs": [
    {
     "data": {
      "text/plain": [
       "'/Users/vuongnguyenthiminh/opt/anaconda3/envs/min_ds-env/bin/python'"
      ]
     },
     "execution_count": 1,
     "metadata": {},
     "output_type": "execute_result"
    }
   ],
   "source": [
    "import sys\n",
    "sys.executable"
   ]
  },
  {
   "cell_type": "markdown",
   "id": "2f467bcf-1388-4d9a-bc6f-cf5d8c4a9202",
   "metadata": {},
   "source": [
    "---"
   ]
  },
  {
   "cell_type": "markdown",
   "id": "0a64353f-bb9c-428d-b52b-9c55e810c6e9",
   "metadata": {},
   "source": [
    "## Import các thư viện cần thiết"
   ]
  },
  {
   "cell_type": "code",
   "execution_count": 13,
   "id": "4d2a80d1-3316-427d-9c80-8637cb47aa9e",
   "metadata": {},
   "outputs": [],
   "source": [
    "import pandas as pd\n",
    "import matplotlib.pyplot as plt\n",
    "import numpy as np\n",
    "import os"
   ]
  },
  {
   "cell_type": "markdown",
   "id": "35b783e5-ca1a-421e-b55f-2d7141c18ada",
   "metadata": {},
   "source": [
    "---"
   ]
  },
  {
   "cell_type": "markdown",
   "id": "17aed7d8-a427-4d51-89dd-c4694f3edfcd",
   "metadata": {},
   "source": [
    "## Thu thập dữ liệu"
   ]
  },
  {
   "cell_type": "markdown",
   "id": "f8a182e9-c4d6-4ae5-a6f0-c4c2aa7c9c23",
   "metadata": {},
   "source": [
    "https://www.kaggle.com/fedesoriano/heart-failure-prediction\n",
    "Dữ liệu của bạn là về chủ đề gì và bạn lấy từ nguồn nào?\n",
    "• Người ta có cho phép bạn dùng dữ liệu như này không?\n",
    "Ví dụ, bạn có thể xem thử license của dữ liệu là gì\n",
    "• Người ta thu thập dữ liệu như thế nào?\n",
    "\n"
   ]
  },
  {
   "cell_type": "markdown",
   "id": "d255c255-618d-44bb-934c-ed71700b00e1",
   "metadata": {},
   "source": [
    "### Tải dữ liệu "
   ]
  },
  {
   "cell_type": "code",
   "execution_count": 20,
   "id": "4307f2fd-8f78-45d3-bb27-32751c6eff96",
   "metadata": {},
   "outputs": [
    {
     "name": "stdout",
     "output_type": "stream",
     "text": [
      "--2022-01-10 23:09:04--  https://gist.githubusercontent.com/MinhVuong2000/8286380838ef575032894dceab5072ed/raw/cc96ec954cc1d94c0548a32f64ff29ba3f8390bf/heart.csv\n",
      "Resolving gist.githubusercontent.com (gist.githubusercontent.com)... 185.199.110.133, 185.199.108.133, 185.199.109.133, ...\n",
      "Connecting to gist.githubusercontent.com (gist.githubusercontent.com)|185.199.110.133|:443... connected.\n",
      "HTTP request sent, awaiting response... 200 OK\n",
      "Length: 35921 (35K) [text/plain]\n",
      "Saving to: ‘data.csv’\n",
      "\n",
      "data.csv            100%[===================>]  35.08K  --.-KB/s    in 0.01s   \n",
      "\n",
      "2022-01-10 23:09:04 (2.29 MB/s) - ‘data.csv’ saved [35921/35921]\n",
      "\n"
     ]
    }
   ],
   "source": [
    "!wget -O data.csv https://gist.githubusercontent.com/MinhVuong2000/8286380838ef575032894dceab5072ed/raw/cc96ec954cc1d94c0548a32f64ff29ba3f8390bf/heart.csv"
   ]
  },
  {
   "cell_type": "markdown",
   "id": "08229b1d-dd1c-4b8d-a741-2bac17932e7f",
   "metadata": {},
   "source": [
    "### Đọc dữ liệu"
   ]
  },
  {
   "cell_type": "code",
   "execution_count": 22,
   "id": "e14d6e5a-59ef-4a0e-b670-8869804dcd20",
   "metadata": {},
   "outputs": [
    {
     "data": {
      "text/html": [
       "<div>\n",
       "<style scoped>\n",
       "    .dataframe tbody tr th:only-of-type {\n",
       "        vertical-align: middle;\n",
       "    }\n",
       "\n",
       "    .dataframe tbody tr th {\n",
       "        vertical-align: top;\n",
       "    }\n",
       "\n",
       "    .dataframe thead th {\n",
       "        text-align: right;\n",
       "    }\n",
       "</style>\n",
       "<table border=\"1\" class=\"dataframe\">\n",
       "  <thead>\n",
       "    <tr style=\"text-align: right;\">\n",
       "      <th></th>\n",
       "      <th>Age</th>\n",
       "      <th>Sex</th>\n",
       "      <th>ChestPainType</th>\n",
       "      <th>RestingBP</th>\n",
       "      <th>Cholesterol</th>\n",
       "      <th>FastingBS</th>\n",
       "      <th>RestingECG</th>\n",
       "      <th>MaxHR</th>\n",
       "      <th>ExerciseAngina</th>\n",
       "      <th>Oldpeak</th>\n",
       "      <th>ST_Slope</th>\n",
       "      <th>HeartDisease</th>\n",
       "    </tr>\n",
       "  </thead>\n",
       "  <tbody>\n",
       "    <tr>\n",
       "      <th>0</th>\n",
       "      <td>40</td>\n",
       "      <td>M</td>\n",
       "      <td>ATA</td>\n",
       "      <td>140</td>\n",
       "      <td>289</td>\n",
       "      <td>0</td>\n",
       "      <td>Normal</td>\n",
       "      <td>172</td>\n",
       "      <td>N</td>\n",
       "      <td>0.0</td>\n",
       "      <td>Up</td>\n",
       "      <td>0</td>\n",
       "    </tr>\n",
       "    <tr>\n",
       "      <th>1</th>\n",
       "      <td>49</td>\n",
       "      <td>F</td>\n",
       "      <td>NAP</td>\n",
       "      <td>160</td>\n",
       "      <td>180</td>\n",
       "      <td>0</td>\n",
       "      <td>Normal</td>\n",
       "      <td>156</td>\n",
       "      <td>N</td>\n",
       "      <td>1.0</td>\n",
       "      <td>Flat</td>\n",
       "      <td>1</td>\n",
       "    </tr>\n",
       "    <tr>\n",
       "      <th>2</th>\n",
       "      <td>37</td>\n",
       "      <td>M</td>\n",
       "      <td>ATA</td>\n",
       "      <td>130</td>\n",
       "      <td>283</td>\n",
       "      <td>0</td>\n",
       "      <td>ST</td>\n",
       "      <td>98</td>\n",
       "      <td>N</td>\n",
       "      <td>0.0</td>\n",
       "      <td>Up</td>\n",
       "      <td>0</td>\n",
       "    </tr>\n",
       "    <tr>\n",
       "      <th>3</th>\n",
       "      <td>48</td>\n",
       "      <td>F</td>\n",
       "      <td>ASY</td>\n",
       "      <td>138</td>\n",
       "      <td>214</td>\n",
       "      <td>0</td>\n",
       "      <td>Normal</td>\n",
       "      <td>108</td>\n",
       "      <td>Y</td>\n",
       "      <td>1.5</td>\n",
       "      <td>Flat</td>\n",
       "      <td>1</td>\n",
       "    </tr>\n",
       "    <tr>\n",
       "      <th>4</th>\n",
       "      <td>54</td>\n",
       "      <td>M</td>\n",
       "      <td>NAP</td>\n",
       "      <td>150</td>\n",
       "      <td>195</td>\n",
       "      <td>0</td>\n",
       "      <td>Normal</td>\n",
       "      <td>122</td>\n",
       "      <td>N</td>\n",
       "      <td>0.0</td>\n",
       "      <td>Up</td>\n",
       "      <td>0</td>\n",
       "    </tr>\n",
       "  </tbody>\n",
       "</table>\n",
       "</div>"
      ],
      "text/plain": [
       "   Age Sex ChestPainType  RestingBP  Cholesterol  FastingBS RestingECG  MaxHR  \\\n",
       "0   40   M           ATA        140          289          0     Normal    172   \n",
       "1   49   F           NAP        160          180          0     Normal    156   \n",
       "2   37   M           ATA        130          283          0         ST     98   \n",
       "3   48   F           ASY        138          214          0     Normal    108   \n",
       "4   54   M           NAP        150          195          0     Normal    122   \n",
       "\n",
       "  ExerciseAngina  Oldpeak ST_Slope  HeartDisease  \n",
       "0              N      0.0       Up             0  \n",
       "1              N      1.0     Flat             1  \n",
       "2              N      0.0       Up             0  \n",
       "3              Y      1.5     Flat             1  \n",
       "4              N      0.0       Up             0  "
      ]
     },
     "execution_count": 22,
     "metadata": {},
     "output_type": "execute_result"
    }
   ],
   "source": [
    "df = pd.read_csv('data.csv')\n",
    "df.head()"
   ]
  },
  {
   "cell_type": "code",
   "execution_count": null,
   "id": "61aecfc6-c7a5-4b8b-950f-587b122b83f0",
   "metadata": {},
   "outputs": [],
   "source": []
  },
  {
   "cell_type": "markdown",
   "id": "b547d419-00b2-4792-b208-6b5aa7b62474",
   "metadata": {},
   "source": [
    "## Khám phá dữ liệu\n",
    "Dữ liệu có bao nhiêu dòng và bao nhiêu cột?\n",
    "• Mỗi dòng có ý nghĩa gì? Có vấn đề các dòng có ý nghĩa\n",
    "khác nhau không?\n",
    "• Dữ liệu có các dòng bị lặp không?\n",
    "• Mỗi cột có ý nghĩa gì?\n",
    "• Mỗi cột hiện đang có kiểu dữ liệu gì? Có cột nào có kiểu\n",
    "dữ liệu chưa phù hợp để có thể xử lý tiếp không?\n",
    "• Với mỗi cột có kiểu dữ liệu dạng số (numerical), các giá\n",
    "trị được phân bố như thế nào?\n",
    "• Số-lượng/tỉ-lệ các giá trị thiếu?\n",
    "• Min? max? → Có gì bất thường không?\n",
    "• Với mỗi cột có kiểu dữ liệu dạng phân loại (categorical),\n",
    "các giá trị được phân bố như thế nào?\n",
    "• Số-lượng/tỉ-lệ các giá trị thiếu?\n",
    "• Số lượng các giá trị khác nhau? Show một vài giá trị\n",
    "→ Có gì bất thường không?"
   ]
  },
  {
   "cell_type": "code",
   "execution_count": null,
   "id": "a02cb4da-68a2-4882-8317-e9f94dc27b91",
   "metadata": {},
   "outputs": [],
   "source": []
  },
  {
   "cell_type": "markdown",
   "id": "c9469fb7-bada-4166-acdd-57d8595d9421",
   "metadata": {},
   "source": [
    "## Tiền xử lý"
   ]
  },
  {
   "cell_type": "code",
   "execution_count": null,
   "id": "55f67cdc-ea8b-4512-b98c-895afb1619b9",
   "metadata": {},
   "outputs": [],
   "source": []
  },
  {
   "cell_type": "markdown",
   "id": "2d8fa1f8-cc35-4492-a5e6-8ffbaaaaddfa",
   "metadata": {},
   "source": [
    "## Đặt câu hỏi\n",
    "Nhóm bạn nên tập trung vào chất lượng câu hỏi hơn là số lượng câu hỏi\n",
    "Trong file notebook, với mỗi câu hỏi, nhóm bạn cần trình bày:\n",
    "• Câu hỏi là gì?\n",
    "• Nếu trả lời được câu hỏi thì sẽ có lợi ích gì? (câu hỏi không quá dễ để trả lời - 1 dòng code)"
   ]
  },
  {
   "cell_type": "markdown",
   "id": "8996dc66-777f-4155-8a90-778e14e4fbac",
   "metadata": {},
   "source": [
    "### Câu hỏi 1"
   ]
  },
  {
   "cell_type": "markdown",
   "id": "00061c35-0f3a-4bd5-94a8-1c2916663206",
   "metadata": {},
   "source": [
    "#### Tiền xử lý & Phân tích để trả lời câu hỏi\n",
    "Với mỗi câu hỏi:\n",
    "• Có cần tiền xử lý dữ liệu không và nếu có thì nhóm bạn\n",
    "tiền xử lý như thế nào?\n",
    "• Text: vạch ra các bước thực hiện một cách rõ ràng và dễ\n",
    "hiểu sao cho nếu người đọc không đọc code thì vẫn có\n",
    "thể hiểu được cách bạn tiền xử lý\n",
    "• Code: cài đặt các bước đã vạch ra ở trên. Nhóm bạn\n",
    "cũng cố gắng viết code cho rõ ràng và dễ đọc (chọn tên\n",
    "biến gợi nhớ, comment ở những chỗ mà nên comment,\n",
    "không để một dòng code quá dài)\n",
    "• Nhóm bạn phân tích dữ liệu như thế nào để ra được\n",
    "câu trả lời cho câu hỏi?\n",
    "• Text: tương tự như trên\n",
    "• Code: tương tự như trên\n",
    "• Chart: phát hiện insight từ chart"
   ]
  },
  {
   "cell_type": "code",
   "execution_count": null,
   "id": "d8da9602-81b8-4680-ae74-1cc537d84d0b",
   "metadata": {},
   "outputs": [],
   "source": []
  },
  {
   "cell_type": "markdown",
   "id": "5bc3af47-8e29-4de4-8a5c-da3a7318cb7c",
   "metadata": {},
   "source": [
    "### Câu hỏi 2"
   ]
  },
  {
   "cell_type": "markdown",
   "id": "4a7f1d10-16d6-4478-8a78-6e39c285c016",
   "metadata": {},
   "source": [
    "#### Tiền xử lý & Phân tích để trả lời câu hỏi\n",
    "Với mỗi câu hỏi:\n",
    "• Có cần tiền xử lý dữ liệu không và nếu có thì nhóm bạn\n",
    "tiền xử lý như thế nào?\n",
    "• Text: vạch ra các bước thực hiện một cách rõ ràng và dễ\n",
    "hiểu sao cho nếu người đọc không đọc code thì vẫn có\n",
    "thể hiểu được cách bạn tiền xử lý\n",
    "• Code: cài đặt các bước đã vạch ra ở trên. Nhóm bạn\n",
    "cũng cố gắng viết code cho rõ ràng và dễ đọc (chọn tên\n",
    "biến gợi nhớ, comment ở những chỗ mà nên comment,\n",
    "không để một dòng code quá dài)\n",
    "• Nhóm bạn phân tích dữ liệu như thế nào để ra được\n",
    "câu trả lời cho câu hỏi?\n",
    "• Text: tương tự như trên\n",
    "• Code: tương tự như trên\n",
    "• Chart: phát hiện insight từ chart"
   ]
  },
  {
   "cell_type": "code",
   "execution_count": null,
   "id": "93b09025-53d4-4b49-908e-0d9504414587",
   "metadata": {},
   "outputs": [],
   "source": []
  },
  {
   "cell_type": "markdown",
   "id": "eb011c48-bc95-4462-8a83-1db3e4258920",
   "metadata": {},
   "source": [
    "### Câu hỏi 3"
   ]
  },
  {
   "cell_type": "markdown",
   "id": "be93ee52-5fda-4edf-bac0-6b0cc4d80d8f",
   "metadata": {},
   "source": [
    "#### Tiền xử lý & Phân tích để trả lời câu hỏi\n",
    "Với mỗi câu hỏi:\n",
    "• Có cần tiền xử lý dữ liệu không và nếu có thì nhóm bạn\n",
    "tiền xử lý như thế nào?\n",
    "• Text: vạch ra các bước thực hiện một cách rõ ràng và dễ\n",
    "hiểu sao cho nếu người đọc không đọc code thì vẫn có\n",
    "thể hiểu được cách bạn tiền xử lý\n",
    "• Code: cài đặt các bước đã vạch ra ở trên. Nhóm bạn\n",
    "cũng cố gắng viết code cho rõ ràng và dễ đọc (chọn tên\n",
    "biến gợi nhớ, comment ở những chỗ mà nên comment,\n",
    "không để một dòng code quá dài)\n",
    "• Nhóm bạn phân tích dữ liệu như thế nào để ra được\n",
    "câu trả lời cho câu hỏi?\n",
    "• Text: tương tự như trên\n",
    "• Code: tương tự như trên\n",
    "• Chart: phát hiện insight từ chart"
   ]
  },
  {
   "cell_type": "code",
   "execution_count": null,
   "id": "c943bcbd-dc2d-4e62-98d7-2f9606f7959e",
   "metadata": {},
   "outputs": [],
   "source": []
  },
  {
   "cell_type": "markdown",
   "id": "50eb900e-07d0-4d41-8c0f-9f37539b75d4",
   "metadata": {},
   "source": [
    "## Nhìn lại quá trình làm đồ án\n",
    "Sau bao ngày vất vả làm đồ án thì bây giờ đã kết thúc. Bây\n",
    "giờ là lúc để ngồi uống coffee và tĩnh tâm nhìn lại quãng\n",
    "đường vừa qua\n",
    "• Mỗi thành viên: Đã gặp những khó khăn gì? (Hay mọi\n",
    "chuyện đều thuận lợi)\n",
    "• Mỗi thành viên: Có học được gì hữu ích? (Hay không\n",
    "học được gì)\n",
    "• Nhóm: Nếu có thêm thời gian thì sẽ làm gì?\n",
    "Phần này có sao thì bạn nói vậy thôi, chứ không phải là viết\n",
    "cho có, hoặc tự chế ra để nghe cho hay\n",
    "• Chart: phát hiện insight từ chart"
   ]
  },
  {
   "cell_type": "code",
   "execution_count": null,
   "id": "cceb61e6-537c-4d9e-b019-b61d3f8c3e94",
   "metadata": {},
   "outputs": [],
   "source": []
  },
  {
   "cell_type": "markdown",
   "id": "5b83bb2d-3c1a-4dde-95d2-5a543e0252f6",
   "metadata": {},
   "source": [
    "## Tài liệu tham khảo\n",
    "Để hoàn thành đồ án thì nhóm bạn đã tham khảo những tài liệu nào?"
   ]
  },
  {
   "cell_type": "code",
   "execution_count": null,
   "id": "20802f2d-eb4c-4321-b897-7f2cb9377e66",
   "metadata": {},
   "outputs": [],
   "source": []
  }
 ],
 "metadata": {
  "kernelspec": {
   "display_name": "Python 3 (ipykernel)",
   "language": "python",
   "name": "python3"
  },
  "language_info": {
   "codemirror_mode": {
    "name": "ipython",
    "version": 3
   },
   "file_extension": ".py",
   "mimetype": "text/x-python",
   "name": "python",
   "nbconvert_exporter": "python",
   "pygments_lexer": "ipython3",
   "version": "3.8.8"
  }
 },
 "nbformat": 4,
 "nbformat_minor": 5
}
