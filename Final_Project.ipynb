{
 "cells": [
  {
   "cell_type": "markdown",
   "id": "287035a1-1430-4590-9def-557592c473a5",
   "metadata": {},
   "source": [
    "# Đồ án cuối kì\n",
    "Thông tin nhóm:\n",
    "1. Lê Hồng Huy - 18120182\n",
    "2. Nguyễn Thị Minh Vượng - 18120265\n",
    "<br/><br/>\n",
    "\n",
    "Github làm việc [tại đây](https://github.com/MinhVuong2000/P4DS-FinalProject)"
   ]
  },
  {
   "cell_type": "markdown",
   "id": "757a2363-3a2f-4c57-bda4-80d2dd9e6747",
   "metadata": {},
   "source": [
    "---"
   ]
  },
  {
   "cell_type": "markdown",
   "id": "573fca16-4d7c-4c47-bfaa-38a7f6e8a1fb",
   "metadata": {},
   "source": [
    "## Môi trường code"
   ]
  },
  {
   "cell_type": "code",
   "execution_count": 1,
   "id": "912f9c6a-aa82-4089-b528-8639fc574cc0",
   "metadata": {},
   "outputs": [
    {
     "data": {
      "text/plain": [
       "'/Users/vuongnguyenthiminh/opt/anaconda3/envs/min_ds-env/bin/python'"
      ]
     },
     "execution_count": 1,
     "metadata": {},
     "output_type": "execute_result"
    }
   ],
   "source": [
    "import sys\n",
    "sys.executable"
   ]
  },
  {
   "cell_type": "markdown",
   "id": "2f467bcf-1388-4d9a-bc6f-cf5d8c4a9202",
   "metadata": {},
   "source": [
    "---"
   ]
  },
  {
   "cell_type": "markdown",
   "id": "0a64353f-bb9c-428d-b52b-9c55e810c6e9",
   "metadata": {},
   "source": [
    "## Import các thư viện cần thiết"
   ]
  },
  {
   "cell_type": "code",
   "execution_count": 2,
   "id": "4d2a80d1-3316-427d-9c80-8637cb47aa9e",
   "metadata": {},
   "outputs": [],
   "source": [
    "import pandas as pd\n",
    "import matplotlib.pyplot as plt\n",
    "import numpy as np\n",
    "import os"
   ]
  },
  {
   "cell_type": "markdown",
   "id": "35b783e5-ca1a-421e-b55f-2d7141c18ada",
   "metadata": {},
   "source": [
    "---"
   ]
  },
  {
   "cell_type": "markdown",
   "id": "17aed7d8-a427-4d51-89dd-c4694f3edfcd",
   "metadata": {},
   "source": [
    "## Thu thập dữ liệu"
   ]
  },
  {
   "cell_type": "markdown",
   "id": "f8a182e9-c4d6-4ae5-a6f0-c4c2aa7c9c23",
   "metadata": {},
   "source": [
    "- **Dữ liệu**: Dữ liệu được lấy từ Kaggle, là tập [Heart Failure Prediction Dataset](https://www.kaggle.com/fedesoriano/heart-failure-prediction)\n",
    "- **Nguồn**: Bộ dữ liệu này được tạo ra bằng cách kết hợp các bộ dữ liệu khác nhau đã có sẵn độc lập nhưng không được kết hợp trước đó. Trong bộ dữ liệu này, 5 bộ dữ liệu tim được kết hợp gồm 11 thuộc tính chung và 918 dòng, làm cho nó trở thành bộ dữ liệu bệnh tim lớn nhất có sẵn cho đến nay cho mục đích nghiên cứu:\n",
    "    - Cleveland: 303 quan sát\n",
    "    - Hungarian: 294 quan sát\n",
    "    - Switzerland: 123 quan sát\n",
    "    - Long Beach VA: 200 quan sát\n",
    "    - Stalog (Heart) Data Set: 270 quan sát\n",
    "- **Giấy phép**: Open Data Commons Open Database License (ODbL) v1.0\n",
    "\n"
   ]
  },
  {
   "cell_type": "markdown",
   "id": "d255c255-618d-44bb-934c-ed71700b00e1",
   "metadata": {},
   "source": [
    "### Tải dữ liệu "
   ]
  },
  {
   "cell_type": "code",
   "execution_count": 3,
   "id": "50038f32-49c8-497c-b9c5-0dc449b7d288",
   "metadata": {},
   "outputs": [
    {
     "name": "stdout",
     "output_type": "stream",
     "text": [
      "--2022-01-21 12:11:48--  https://gist.githubusercontent.com/MinhVuong2000/8286380838ef575032894dceab5072ed/raw/cc96ec954cc1d94c0548a32f64ff29ba3f8390bf/heart.csv\n",
      "Resolving gist.githubusercontent.com (gist.githubusercontent.com)... 185.199.108.133, 185.199.111.133, 185.199.110.133, ...\n",
      "Connecting to gist.githubusercontent.com (gist.githubusercontent.com)|185.199.108.133|:443... connected.\n",
      "HTTP request sent, awaiting response... 200 OK\n",
      "Length: 35921 (35K) [text/plain]\n",
      "Saving to: ‘data.csv’\n",
      "\n",
      "data.csv            100%[===================>]  35.08K  --.-KB/s    in 0.004s  \n",
      "\n",
      "2022-01-21 12:11:49 (8.08 MB/s) - ‘data.csv’ saved [35921/35921]\n",
      "\n"
     ]
    }
   ],
   "source": [
    "!wget -O data.csv https://gist.githubusercontent.com/MinhVuong2000/8286380838ef575032894dceab5072ed/raw/cc96ec954cc1d94c0548a32f64ff29ba3f8390bf/heart.csv"
   ]
  },
  {
   "cell_type": "markdown",
   "id": "08229b1d-dd1c-4b8d-a741-2bac17932e7f",
   "metadata": {},
   "source": [
    "### Đọc dữ liệu"
   ]
  },
  {
   "cell_type": "code",
   "execution_count": 4,
   "id": "e14d6e5a-59ef-4a0e-b670-8869804dcd20",
   "metadata": {},
   "outputs": [
    {
     "data": {
      "text/html": [
       "<div>\n",
       "<style scoped>\n",
       "    .dataframe tbody tr th:only-of-type {\n",
       "        vertical-align: middle;\n",
       "    }\n",
       "\n",
       "    .dataframe tbody tr th {\n",
       "        vertical-align: top;\n",
       "    }\n",
       "\n",
       "    .dataframe thead th {\n",
       "        text-align: right;\n",
       "    }\n",
       "</style>\n",
       "<table border=\"1\" class=\"dataframe\">\n",
       "  <thead>\n",
       "    <tr style=\"text-align: right;\">\n",
       "      <th></th>\n",
       "      <th>Age</th>\n",
       "      <th>Sex</th>\n",
       "      <th>ChestPainType</th>\n",
       "      <th>RestingBP</th>\n",
       "      <th>Cholesterol</th>\n",
       "      <th>FastingBS</th>\n",
       "      <th>RestingECG</th>\n",
       "      <th>MaxHR</th>\n",
       "      <th>ExerciseAngina</th>\n",
       "      <th>Oldpeak</th>\n",
       "      <th>ST_Slope</th>\n",
       "      <th>HeartDisease</th>\n",
       "    </tr>\n",
       "  </thead>\n",
       "  <tbody>\n",
       "    <tr>\n",
       "      <th>0</th>\n",
       "      <td>40</td>\n",
       "      <td>M</td>\n",
       "      <td>ATA</td>\n",
       "      <td>140</td>\n",
       "      <td>289</td>\n",
       "      <td>0</td>\n",
       "      <td>Normal</td>\n",
       "      <td>172</td>\n",
       "      <td>N</td>\n",
       "      <td>0.0</td>\n",
       "      <td>Up</td>\n",
       "      <td>0</td>\n",
       "    </tr>\n",
       "    <tr>\n",
       "      <th>1</th>\n",
       "      <td>49</td>\n",
       "      <td>F</td>\n",
       "      <td>NAP</td>\n",
       "      <td>160</td>\n",
       "      <td>180</td>\n",
       "      <td>0</td>\n",
       "      <td>Normal</td>\n",
       "      <td>156</td>\n",
       "      <td>N</td>\n",
       "      <td>1.0</td>\n",
       "      <td>Flat</td>\n",
       "      <td>1</td>\n",
       "    </tr>\n",
       "    <tr>\n",
       "      <th>2</th>\n",
       "      <td>37</td>\n",
       "      <td>M</td>\n",
       "      <td>ATA</td>\n",
       "      <td>130</td>\n",
       "      <td>283</td>\n",
       "      <td>0</td>\n",
       "      <td>ST</td>\n",
       "      <td>98</td>\n",
       "      <td>N</td>\n",
       "      <td>0.0</td>\n",
       "      <td>Up</td>\n",
       "      <td>0</td>\n",
       "    </tr>\n",
       "    <tr>\n",
       "      <th>3</th>\n",
       "      <td>48</td>\n",
       "      <td>F</td>\n",
       "      <td>ASY</td>\n",
       "      <td>138</td>\n",
       "      <td>214</td>\n",
       "      <td>0</td>\n",
       "      <td>Normal</td>\n",
       "      <td>108</td>\n",
       "      <td>Y</td>\n",
       "      <td>1.5</td>\n",
       "      <td>Flat</td>\n",
       "      <td>1</td>\n",
       "    </tr>\n",
       "    <tr>\n",
       "      <th>4</th>\n",
       "      <td>54</td>\n",
       "      <td>M</td>\n",
       "      <td>NAP</td>\n",
       "      <td>150</td>\n",
       "      <td>195</td>\n",
       "      <td>0</td>\n",
       "      <td>Normal</td>\n",
       "      <td>122</td>\n",
       "      <td>N</td>\n",
       "      <td>0.0</td>\n",
       "      <td>Up</td>\n",
       "      <td>0</td>\n",
       "    </tr>\n",
       "  </tbody>\n",
       "</table>\n",
       "</div>"
      ],
      "text/plain": [
       "   Age Sex ChestPainType  RestingBP  Cholesterol  FastingBS RestingECG  MaxHR  \\\n",
       "0   40   M           ATA        140          289          0     Normal    172   \n",
       "1   49   F           NAP        160          180          0     Normal    156   \n",
       "2   37   M           ATA        130          283          0         ST     98   \n",
       "3   48   F           ASY        138          214          0     Normal    108   \n",
       "4   54   M           NAP        150          195          0     Normal    122   \n",
       "\n",
       "  ExerciseAngina  Oldpeak ST_Slope  HeartDisease  \n",
       "0              N      0.0       Up             0  \n",
       "1              N      1.0     Flat             1  \n",
       "2              N      0.0       Up             0  \n",
       "3              Y      1.5     Flat             1  \n",
       "4              N      0.0       Up             0  "
      ]
     },
     "execution_count": 4,
     "metadata": {},
     "output_type": "execute_result"
    }
   ],
   "source": [
    "df = pd.read_csv('data.csv')\n",
    "df.head()"
   ]
  },
  {
   "cell_type": "markdown",
   "id": "9666f0ea",
   "metadata": {},
   "source": [
    "---"
   ]
  },
  {
   "cell_type": "markdown",
   "id": "b547d419-00b2-4792-b208-6b5aa7b62474",
   "metadata": {},
   "source": [
    "## Khám phá dữ liệu\n"
   ]
  },
  {
   "cell_type": "markdown",
   "id": "0a85146d",
   "metadata": {},
   "source": [
    "### Dữ liệu gồm bao nhiêu dòng và bao nhiêu cột ?"
   ]
  },
  {
   "cell_type": "code",
   "execution_count": 5,
   "id": "8a209a04",
   "metadata": {},
   "outputs": [
    {
     "name": "stdout",
     "output_type": "stream",
     "text": [
      "Số dòng là: 918, số cột là: 12\n"
     ]
    }
   ],
   "source": [
    "num_rows, num_cols = df.shape\n",
    "print(f\"Số dòng là: {num_rows}, số cột là: {num_cols}\")"
   ]
  },
  {
   "cell_type": "markdown",
   "id": "d1091f5f-3f29-435e-9f37-156ef37334f8",
   "metadata": {},
   "source": [
    "Như vậy tập dữ liệu có 918 dòng và 12 cột.\n",
    "\n",
    "Số dòng thì đúng rồi, Nhưng trong tài liệu ghi 11 cột? -> Do cột còn lại là nhãn, tức cột HeartDisease"
   ]
  },
  {
   "cell_type": "markdown",
   "id": "f52b12a7",
   "metadata": {},
   "source": [
    "### Mỗi dòng có ý nghĩa gì? Có vấn đề các dòng có ý nghĩa khác nhau không ?"
   ]
  },
  {
   "cell_type": "markdown",
   "id": "70b49ca7",
   "metadata": {},
   "source": [
    "Theo mô tả của dữ liệu thì mỗi dòng sẽ chứa 11 đặc điểm lâm sàng để dự đoán sự kiện bị bệnh tim ở 1 người và theo dữ liệu thì không có dòng nào \"lạc loài\""
   ]
  },
  {
   "cell_type": "markdown",
   "id": "34d6ff3c-27bf-42ce-bba8-03655bbcaa9c",
   "metadata": {},
   "source": [
    "### Dữ liệu có các dòng bị lặp không?"
   ]
  },
  {
   "cell_type": "code",
   "execution_count": 6,
   "id": "3037479c-5cb9-4926-ab1d-7b6d599f55c3",
   "metadata": {},
   "outputs": [
    {
     "name": "stdout",
     "output_type": "stream",
     "text": [
      "Dữ liệu không có dòng nào bị trùng!\n"
     ]
    }
   ],
   "source": [
    "have_duplicated_rows = df.duplicated().sum()\n",
    "if have_duplicated_rows:\n",
    "    print('Dữ liệu có quan sát bị trùng!')\n",
    "else:\n",
    "    print('Dữ liệu không có dòng nào bị trùng!')"
   ]
  },
  {
   "cell_type": "markdown",
   "id": "0ae5c718-c8a4-45cc-bcba-eee76dae5cd9",
   "metadata": {},
   "source": [
    "Như vậy output này là hợp lí. Vì theo trong tài liệu trên Kaggle cũng đã ghi rõ, từ tổng số 1190 quan sát với 272 quan sát trùng, người ta đưa đến tập dữ liệu cuối cùng gồm 918 quan sát."
   ]
  },
  {
   "cell_type": "markdown",
   "id": "15270c61-ca1a-42bb-996e-5edf2500f42d",
   "metadata": {},
   "source": [
    "### Mỗi cột có ý nghĩa gì?"
   ]
  },
  {
   "cell_type": "markdown",
   "id": "bf66e2bc-fa9b-4d88-aa5d-f20138f25075",
   "metadata": {},
   "source": [
    "Dưới đây là mô tả về tập dữ liệu trên Kaggle được nhóm chuyển sang tiếng Việt:\n",
    "- **Age**: tuổi của bệnh nhân [years]\n",
    "- **Sex**: giới tính bệnh nhân [M: Male, F: Female]\n",
    "- **ChestPainType**: kiểu đau ngực [TA: đau nhói ngực điển hình, ATA: đau thắt ngực không điển hình, NAP: đau thắt lưng không điển hình, ASY: Không có triệu chứng]\n",
    "- **RestingBP**: huyết áp lúc nghỉ [mm Hg]\n",
    "- **Cholesterol**: chỉ số cholesterol [mm/dl]\n",
    "- **FastingBS**: chỉ số đường huyết lúc đói có lớn hơn 120mg/dl hay không [1: có, 0: không]\n",
    "- **RestingECG**: kết quả điện tâm đồ lúc nghỉ [Normal: bình thường, ST: có bất thường sóng ST-T (đảo ngược sóng T và/hoặc ST chênh lên hoặc trầm xuống> 0,05 mV), LVH: cho thấy phì đại thất trái có thể xảy ra hoặc xác định theo tiêu chuẩn của Estes]\n",
    "- **MaxHR**: nhịp tim tối đa đạt được [con số giữa 60 và 202]\n",
    "- **ExerciseAngina**: đau thắt ngực do tập thể dục [Y: Có, N: Không]\n",
    "- **Oldpeak**: oldpeak = ST [Giá trị số được đo bằng độ trầm cảm]\n",
    "- **ST_Slope**: độ dốc của bài tập đỉnh cao Đoạn ST [Up: dốc lên, Flat: bằng phẳng, Down: dốc xuống]\n",
    "- **HeartDisease**: nhãn [1: có bệnh, 0: bình thường]"
   ]
  },
  {
   "cell_type": "markdown",
   "id": "c202e5a3-5337-451d-91d5-3c0060683f68",
   "metadata": {},
   "source": [
    "### Mỗi cột hiện đang có kiểu dữ liệu gì? Có cột nào có kiểu dữ liệu chưa phù hợp để có thể xử lý tiếp không?"
   ]
  },
  {
   "cell_type": "code",
   "execution_count": 7,
   "id": "17e566cb-bbbb-436d-ac01-e22ce200426f",
   "metadata": {},
   "outputs": [
    {
     "name": "stdout",
     "output_type": "stream",
     "text": [
      "Kiểu dữ liệu của các cột trong tập dữ liệu:\n"
     ]
    },
    {
     "data": {
      "text/plain": [
       "Age                 int64\n",
       "Sex                object\n",
       "ChestPainType      object\n",
       "RestingBP           int64\n",
       "Cholesterol         int64\n",
       "FastingBS           int64\n",
       "RestingECG         object\n",
       "MaxHR               int64\n",
       "ExerciseAngina     object\n",
       "Oldpeak           float64\n",
       "ST_Slope           object\n",
       "HeartDisease        int64\n",
       "dtype: object"
      ]
     },
     "execution_count": 7,
     "metadata": {},
     "output_type": "execute_result"
    }
   ],
   "source": [
    "print('Kiểu dữ liệu của các cột trong tập dữ liệu:')\n",
    "df.dtypes"
   ]
  },
  {
   "cell_type": "markdown",
   "id": "8b33d7d3",
   "metadata": {},
   "source": [
    "### Với mỗi cột có kiểu dữ liệu dạng numeric, các giá trị được phân bố như thế nào?"
   ]
  },
  {
   "cell_type": "markdown",
   "id": "3ed04a27-144b-4314-b8e3-e0436be646b0",
   "metadata": {},
   "source": [
    "Có 7 cột có kiểu dữ liệu dạng số: Age, RestingBP, Cholesterol, FastingBS, MaxHR, Oldpeak, và HeartDisease. \n",
    "\n",
    "Tuy nhiên, \n",
    "- cột HeartDisease thực chất thuộc loại categorical (trả lời câu hỏi có hay không bị bệnh), \n",
    "- Cột FastingBS cũng là trả lời có hay không cao hơn ngưỡng đưa ra (ở đây là 120mg/dl)\n",
    "\n",
    "Nên ta chỉ xét 5 cột còn lại: Age, Cholesterol, FastingBS, MaxHR, Oldpeak là thực sự thuộc kiểu dữ liệu dạng số "
   ]
  },
  {
   "cell_type": "markdown",
   "id": "135343a0-0fd4-4077-b0e4-2c8da433fbeb",
   "metadata": {},
   "source": [
    "#### Lấy 5 cột vừa nói và xem xét tỉ lệ giá trị thiếu, min max, quantitle, mean và std của từng cột"
   ]
  },
  {
   "cell_type": "code",
   "execution_count": 8,
   "id": "b4998d41-c7be-44b2-a124-e0fd6451837f",
   "metadata": {},
   "outputs": [
    {
     "data": {
      "text/html": [
       "<div>\n",
       "<style scoped>\n",
       "    .dataframe tbody tr th:only-of-type {\n",
       "        vertical-align: middle;\n",
       "    }\n",
       "\n",
       "    .dataframe tbody tr th {\n",
       "        vertical-align: top;\n",
       "    }\n",
       "\n",
       "    .dataframe thead th {\n",
       "        text-align: right;\n",
       "    }\n",
       "</style>\n",
       "<table border=\"1\" class=\"dataframe\">\n",
       "  <thead>\n",
       "    <tr style=\"text-align: right;\">\n",
       "      <th></th>\n",
       "      <th>Age</th>\n",
       "      <th>RestingBP</th>\n",
       "      <th>Cholesterol</th>\n",
       "      <th>MaxHR</th>\n",
       "      <th>Oldpeak</th>\n",
       "    </tr>\n",
       "  </thead>\n",
       "  <tbody>\n",
       "    <tr>\n",
       "      <th>missing_ratio</th>\n",
       "      <td>0.000000</td>\n",
       "      <td>0.000000</td>\n",
       "      <td>0.000000</td>\n",
       "      <td>0.000000</td>\n",
       "      <td>0.000000</td>\n",
       "    </tr>\n",
       "    <tr>\n",
       "      <th>mean</th>\n",
       "      <td>53.510893</td>\n",
       "      <td>132.396514</td>\n",
       "      <td>198.799564</td>\n",
       "      <td>136.809368</td>\n",
       "      <td>0.887364</td>\n",
       "    </tr>\n",
       "    <tr>\n",
       "      <th>std</th>\n",
       "      <td>9.432617</td>\n",
       "      <td>18.514154</td>\n",
       "      <td>109.384145</td>\n",
       "      <td>25.460334</td>\n",
       "      <td>1.066570</td>\n",
       "    </tr>\n",
       "    <tr>\n",
       "      <th>min</th>\n",
       "      <td>28.000000</td>\n",
       "      <td>0.000000</td>\n",
       "      <td>0.000000</td>\n",
       "      <td>60.000000</td>\n",
       "      <td>-2.600000</td>\n",
       "    </tr>\n",
       "    <tr>\n",
       "      <th>25%</th>\n",
       "      <td>47.000000</td>\n",
       "      <td>120.000000</td>\n",
       "      <td>173.250000</td>\n",
       "      <td>120.000000</td>\n",
       "      <td>0.000000</td>\n",
       "    </tr>\n",
       "    <tr>\n",
       "      <th>50%</th>\n",
       "      <td>54.000000</td>\n",
       "      <td>130.000000</td>\n",
       "      <td>223.000000</td>\n",
       "      <td>138.000000</td>\n",
       "      <td>0.600000</td>\n",
       "    </tr>\n",
       "    <tr>\n",
       "      <th>75%</th>\n",
       "      <td>60.000000</td>\n",
       "      <td>140.000000</td>\n",
       "      <td>267.000000</td>\n",
       "      <td>156.000000</td>\n",
       "      <td>1.500000</td>\n",
       "    </tr>\n",
       "    <tr>\n",
       "      <th>max</th>\n",
       "      <td>77.000000</td>\n",
       "      <td>200.000000</td>\n",
       "      <td>603.000000</td>\n",
       "      <td>202.000000</td>\n",
       "      <td>6.200000</td>\n",
       "    </tr>\n",
       "  </tbody>\n",
       "</table>\n",
       "</div>"
      ],
      "text/plain": [
       "                     Age   RestingBP  Cholesterol       MaxHR   Oldpeak\n",
       "missing_ratio   0.000000    0.000000     0.000000    0.000000  0.000000\n",
       "mean           53.510893  132.396514   198.799564  136.809368  0.887364\n",
       "std             9.432617   18.514154   109.384145   25.460334  1.066570\n",
       "min            28.000000    0.000000     0.000000   60.000000 -2.600000\n",
       "25%            47.000000  120.000000   173.250000  120.000000  0.000000\n",
       "50%            54.000000  130.000000   223.000000  138.000000  0.600000\n",
       "75%            60.000000  140.000000   267.000000  156.000000  1.500000\n",
       "max            77.000000  200.000000   603.000000  202.000000  6.200000"
      ]
     },
     "execution_count": 8,
     "metadata": {},
     "output_type": "execute_result"
    }
   ],
   "source": [
    "def missing_ratio(col):\n",
    "    return col.isna().mean() * 100\n",
    "\n",
    "def percentile(n):\n",
    "    def percentile_(x):\n",
    "        return x.quantile(n)\n",
    "    percentile_.__name__ = f'{int(n*100)}%'\n",
    "    return percentile_\n",
    "\n",
    "\n",
    "nume_col_df = df[['Age', 'RestingBP', 'Cholesterol', 'MaxHR', 'Oldpeak']]\n",
    "nume_col_profiles_df = nume_col_df.agg([missing_ratio , \n",
    "                                        np.mean, np.std, \n",
    "                                        min, \n",
    "                                        percentile(0.25),\n",
    "                                        percentile(0.50),\n",
    "                                        percentile(0.75),\n",
    "                                        max])\n",
    "nume_col_profiles_df"
   ]
  },
  {
   "cell_type": "markdown",
   "id": "682e41f8-268f-45ea-b713-67584230a794",
   "metadata": {},
   "source": [
    "Như vậy, \n",
    "- Các cột thuộc kiểu numeric không có giá trị thiếu. \n",
    "- Xem xét mean và std, ta thấy cột Cholesterol và Oldpeak có độ phân tán giá trị khá là lớn, nhìn xuống các mốc percentile ta cũng có thể thấy rằng giá trị min, max so với mốc 75% là khá xa nhau. Do đó, ta sẽ phân tích chi tiết hơn phân bố giá trị của chúng"
   ]
  },
  {
   "cell_type": "markdown",
   "id": "b8b4dbb5-98d8-44a1-b7ec-ec7138eb867f",
   "metadata": {},
   "source": [
    "#### Xem phân bố giá trị"
   ]
  },
  {
   "cell_type": "markdown",
   "id": "c616a11d-0275-40f5-8003-6d804e4d51af",
   "metadata": {},
   "source": [
    "##### Age"
   ]
  },
  {
   "cell_type": "code",
   "execution_count": 13,
   "id": "a180966e-dbc2-49d6-a91b-7890a83b9fbf",
   "metadata": {},
   "outputs": [
    {
     "data": {
      "image/png": "[encoded data removed]",
      "text/plain": [
       "<Figure size 432x288 with 1 Axes>"
      ]
     },
     "metadata": {
      "needs_background": "light"
     },
     "output_type": "display_data"
    }
   ],
   "source": [
    "col = 'Age'\n",
    "nume_col_df[col].plot.hist(bins=20)\n",
    "plt.xlabel(col);"
   ]
  },
  {
   "cell_type": "markdown",
   "id": "5a7163e2-b3bb-4382-8d7a-af8ca3c74741",
   "metadata": {},
   "source": [
    "Phân bố tuổi trong tập dữ liệu tạm ổn"
   ]
  },
  {
   "cell_type": "markdown",
   "id": "d9aa5cd0-cb2c-4e68-b6f9-0e4808b0beb5",
   "metadata": {},
   "source": [
    "##### RestingBP"
   ]
  },
  {
   "cell_type": "code",
   "execution_count": 19,
   "id": "020bd345-d492-4956-bb93-5c22cebc5430",
   "metadata": {},
   "outputs": [
    {
     "data": {
      "image/png": "[encoded data removed]",
      "text/plain": [
       "<Figure size 432x288 with 1 Axes>"
      ]
     },
     "metadata": {
      "needs_background": "light"
     },
     "output_type": "display_data"
    }
   ],
   "source": [
    "col = 'RestingBP'\n",
    "nume_col_df[col].plot.hist(bins=20)\n",
    "plt.xlabel(col);"
   ]
  },
  {
   "cell_type": "markdown",
   "id": "6a1089c7-5b75-40ee-a311-3c6ff0a3c68d",
   "metadata": {},
   "source": [
    "Uầy, có các giá trị RestingBP bằng 0, ngoại lệ so với hầu hết tập dữ liệu. Vậy ta sẽ xem thử các dòng có giá trị `RestingBP=0` có gì đặc biệt không"
   ]
  },
  {
   "cell_type": "code",
   "execution_count": 21,
   "id": "162f9ab0-7b09-4459-8599-ff4b8793654c",
   "metadata": {},
   "outputs": [
    {
     "data": {
      "text/html": [
       "<div>\n",
       "<style scoped>\n",
       "    .dataframe tbody tr th:only-of-type {\n",
       "        vertical-align: middle;\n",
       "    }\n",
       "\n",
       "    .dataframe tbody tr th {\n",
       "        vertical-align: top;\n",
       "    }\n",
       "\n",
       "    .dataframe thead th {\n",
       "        text-align: right;\n",
       "    }\n",
       "</style>\n",
       "<table border=\"1\" class=\"dataframe\">\n",
       "  <thead>\n",
       "    <tr style=\"text-align: right;\">\n",
       "      <th></th>\n",
       "      <th>Age</th>\n",
       "      <th>Sex</th>\n",
       "      <th>ChestPainType</th>\n",
       "      <th>RestingBP</th>\n",
       "      <th>Cholesterol</th>\n",
       "      <th>FastingBS</th>\n",
       "      <th>RestingECG</th>\n",
       "      <th>MaxHR</th>\n",
       "      <th>ExerciseAngina</th>\n",
       "      <th>Oldpeak</th>\n",
       "      <th>ST_Slope</th>\n",
       "      <th>HeartDisease</th>\n",
       "    </tr>\n",
       "  </thead>\n",
       "  <tbody>\n",
       "    <tr>\n",
       "      <th>449</th>\n",
       "      <td>55</td>\n",
       "      <td>M</td>\n",
       "      <td>NAP</td>\n",
       "      <td>0</td>\n",
       "      <td>0</td>\n",
       "      <td>0</td>\n",
       "      <td>Normal</td>\n",
       "      <td>155</td>\n",
       "      <td>N</td>\n",
       "      <td>1.5</td>\n",
       "      <td>Flat</td>\n",
       "      <td>1</td>\n",
       "    </tr>\n",
       "  </tbody>\n",
       "</table>\n",
       "</div>"
      ],
      "text/plain": [
       "     Age Sex ChestPainType  RestingBP  Cholesterol  FastingBS RestingECG  \\\n",
       "449   55   M           NAP          0            0          0     Normal   \n",
       "\n",
       "     MaxHR ExerciseAngina  Oldpeak ST_Slope  HeartDisease  \n",
       "449    155              N      1.5     Flat             1  "
      ]
     },
     "execution_count": 21,
     "metadata": {},
     "output_type": "execute_result"
    }
   ],
   "source": [
    "df[nume_col_df[col]==0]"
   ]
  },
  {
   "cell_type": "markdown",
   "id": "a4ebf45a-dd32-46d8-94eb-73ab93a24279",
   "metadata": {},
   "source": [
    "Chỉ có một quan sát có RestingBP=0, nhưng thật kì lạ, huyết áp sao lại có thể là 0, rất có thể dữ liệu này là rỗng, sau khi tác giả gộp lại thì chuyển đổi ra thành 0. Nhưng đây chỉ là suy nghĩ của nhóm, không có cơ sở để chứng minh."
   ]
  },
  {
   "cell_type": "markdown",
   "id": "5ed01e72-12ba-4f59-9608-846b4167d461",
   "metadata": {},
   "source": [
    "##### Cholesterol"
   ]
  },
  {
   "cell_type": "code",
   "execution_count": 47,
   "id": "fad1adf7-ef52-4ec2-9140-37abe9d36405",
   "metadata": {},
   "outputs": [
    {
     "data": {
      "image/png": "[encoded data removed]",
      "text/plain": [
       "<Figure size 432x288 with 1 Axes>"
      ]
     },
     "metadata": {
      "needs_background": "light"
     },
     "output_type": "display_data"
    }
   ],
   "source": [
    "col = 'Cholesterol'\n",
    "nume_col_df[col].plot.hist(bins=20)\n",
    "plt.xlabel(col);"
   ]
  },
  {
   "cell_type": "markdown",
   "id": "6a626193-f6a6-4562-81f8-2ef19be310be",
   "metadata": {},
   "source": [
    "Ta sẽ tiến hành xem xét outlier của cột `Cholesterol`. Cách xác định outlier, nhóm sử dụng thuật toán Turkey:\n",
    "- Q1, Q3 là tứ phân vị thứ nhất và tứ phân vị thứ 3\n",
    "- IQR(Interquartile Range) là khoảng tứ phân vị, có công thức $$IQR = Q1 - Q3$$\n",
    "- Các giá trị Outlier là các giá trị nằm ngoài khoảng $$(Q1-1.5*IQR, Q3+1.5*IQR)$$"
   ]
  },
  {
   "cell_type": "code",
   "execution_count": 48,
   "id": "6fee2004-ce49-48cd-bb52-089ac64ca3a2",
   "metadata": {},
   "outputs": [
    {
     "name": "stdout",
     "output_type": "stream",
     "text": [
      "Số lượng outlier của cột Cholesterol: 183\n",
      "Chiếm 0.2%\n"
     ]
    }
   ],
   "source": [
    "Q1 = nume_col_df[col].quantile(0.25)\n",
    "Q3 = nume_col_df[col].quantile(0.75)\n",
    "IQR = Q3 - Q1\n",
    "low = Q1 - 1.5*IQR\n",
    "high = Q3 + 1.5*IQR\n",
    "outlier_cholesterol = df[(df[col]<low) | (df[col]>high)]\n",
    "print(\"Số lượng outlier của cột Cholesterol:\", len(outlier_cholesterol))\n",
    "print(\"Chiếm {}%\".format(round(len(outlier_cholesterol)/len(df),2)))"
   ]
  },
  {
   "cell_type": "markdown",
   "id": "392f2a12-9127-4b63-82d0-bb73497dfc97",
   "metadata": {},
   "source": [
    "Ta sẽ xem xét xem các giá trị outlier đó là gì, và nó có nhãn bị bệnh tim hay không"
   ]
  },
  {
   "cell_type": "code",
   "execution_count": 49,
   "id": "f5ad4649-8661-41fb-adbf-a2d8c8d27655",
   "metadata": {},
   "outputs": [
    {
     "data": {
      "text/plain": [
       "Cholesterol  HeartDisease\n",
       "0            1               152\n",
       "             0                20\n",
       "409          1                 1\n",
       "412          0                 1\n",
       "417          0                 1\n",
       "458          0                 1\n",
       "466          1                 1\n",
       "468          0                 1\n",
       "491          1                 1\n",
       "518          1                 1\n",
       "529          1                 1\n",
       "564          0                 1\n",
       "603          1                 1\n",
       "dtype: int64"
      ]
     },
     "execution_count": 49,
     "metadata": {},
     "output_type": "execute_result"
    }
   ],
   "source": [
    "outlier_cholesterol[[col,'HeartDisease']].value_counts()"
   ]
  },
  {
   "cell_type": "markdown",
   "id": "c00983c9-539e-46db-ad9e-ad405a7eaa47",
   "metadata": {},
   "source": [
    "Như vậy, hầu như các outlier bên Cholesterol là giá trị 0, mà đối với số 0 ở cột số, ta không chắc chắn được là giá trị đúng, hay chỉ điền cho những giá trị rỗng. Tuy nhiên ở giới hạn dataset này, nhóm không thể phân tích gì thêm"
   ]
  },
  {
   "cell_type": "markdown",
   "id": "9983e521-23db-474b-a392-2a49225b9cf1",
   "metadata": {},
   "source": [
    "##### MaxHR"
   ]
  },
  {
   "cell_type": "code",
   "execution_count": 16,
   "id": "ad5ec34c-b6a1-488a-b801-8e12db18ed8f",
   "metadata": {},
   "outputs": [
    {
     "data": {
      "image/png": "[encoded data removed]",
      "text/plain": [
       "<Figure size 432x288 with 1 Axes>"
      ]
     },
     "metadata": {
      "needs_background": "light"
     },
     "output_type": "display_data"
    }
   ],
   "source": [
    "col = 'MaxHR'\n",
    "nume_col_df[col].plot.hist(bins=20)\n",
    "plt.xlabel(col);"
   ]
  },
  {
   "cell_type": "markdown",
   "id": "0eecf82e-023c-4ff5-8ba8-16cbb44d8ad0",
   "metadata": {},
   "source": [
    "Phân bố ở cột MaxHR tạm ổn"
   ]
  },
  {
   "cell_type": "markdown",
   "id": "b6202170-dd36-4aec-9ae0-cdb546bcfac5",
   "metadata": {},
   "source": [
    "##### Oldpeak"
   ]
  },
  {
   "cell_type": "code",
   "execution_count": 50,
   "id": "8cbe4b15-9668-4f39-89f0-beee57824a92",
   "metadata": {},
   "outputs": [
    {
     "data": {
      "image/png": "[encoded data removed]",
      "text/plain": [
       "<Figure size 432x288 with 1 Axes>"
      ]
     },
     "metadata": {
      "needs_background": "light"
     },
     "output_type": "display_data"
    }
   ],
   "source": [
    "col = 'Oldpeak'\n",
    "nume_col_df[col].plot.hist(bins=20)\n",
    "plt.xlabel(col);"
   ]
  },
  {
   "cell_type": "markdown",
   "id": "21e57bad-6293-49ba-9b37-e83f0898b374",
   "metadata": {},
   "source": [
    "Ta thấy phân bố này trải dài, nên ta sẽ xem xét outlier của cột này, cách làm tương tự như đã làm ở cột `Cholesterol`"
   ]
  },
  {
   "cell_type": "code",
   "execution_count": 51,
   "id": "d50097ee-feea-4a81-9f32-29452722d654",
   "metadata": {},
   "outputs": [
    {
     "name": "stdout",
     "output_type": "stream",
     "text": [
      "Số lượng outlier của cột Oldpeak: 16\n",
      "Chiếm 0.02%\n"
     ]
    }
   ],
   "source": [
    "Q1 = nume_col_df[col].quantile(0.25)\n",
    "Q3 = nume_col_df[col].quantile(0.75)\n",
    "IQR = Q3 - Q1\n",
    "low = Q1 - 1.5*IQR\n",
    "high = Q3 + 1.5*IQR\n",
    "outlier_oldpeak = df[(df[col]<low) | (df[col]>high)]\n",
    "print(\"Số lượng outlier của cột Oldpeak:\", len(outlier_oldpeak))\n",
    "print(\"Chiếm {}%\".format(round(len(outlier_oldpeak)/len(df),2)))"
   ]
  },
  {
   "cell_type": "code",
   "execution_count": 53,
   "id": "53565a1c-be38-4384-a3ab-5d69840198fd",
   "metadata": {},
   "outputs": [
    {
     "data": {
      "text/plain": [
       "Oldpeak  HeartDisease\n",
       "-2.6     1               1\n",
       " 3.8     1               1\n",
       " 4.0     1               8\n",
       " 4.2     0               1\n",
       "         1               1\n",
       " 4.4     1               1\n",
       " 5.0     1               1\n",
       " 5.6     1               1\n",
       " 6.2     1               1\n",
       "dtype: int64"
      ]
     },
     "execution_count": 53,
     "metadata": {},
     "output_type": "execute_result"
    }
   ],
   "source": [
    "outlier_oldpeak[[col,'HeartDisease']].value_counts().sort_index()"
   ]
  },
  {
   "cell_type": "markdown",
   "id": "1c3e2d44-9145-498a-890a-f8275ae529e0",
   "metadata": {},
   "source": [
    "Như vậy có thể thấy, gần như tất các giá trị outlier này đều có dương tính với bệnh.\n",
    "Điều này cũng là dễ hiểu\n",
    "\n",
    "Cũng từ đây, ta có thể thấy được các giá trị của chỉ số Oldpeak có nguy cơ mắc bệnh cao, tuy nhiên với số lượng 918 quan sát này thì quá ít để kết luận được số liệu cụ thể"
   ]
  },
  {
   "cell_type": "markdown",
   "id": "18f5aeb9",
   "metadata": {},
   "source": [
    "### Với mỗi cột có kiểu dữ liệu dạng categorical, các giá trị được phân bố như thế nào? "
   ]
  },
  {
   "cell_type": "markdown",
   "id": "103689b4-6f21-496a-8931-d5bd9adbb65f",
   "metadata": {},
   "source": [
    "Có 7 cột dữ liệu dạng categorical: Sex, ChestPainType, FastingBS, RestingECG, ExerciseAngina, ST_Slope and HeartDisease. "
   ]
  },
  {
   "cell_type": "code",
   "execution_count": 40,
   "id": "9cba8195",
   "metadata": {},
   "outputs": [
    {
     "data": {
      "text/html": [
       "<div>\n",
       "<style scoped>\n",
       "    .dataframe tbody tr th:only-of-type {\n",
       "        vertical-align: middle;\n",
       "    }\n",
       "\n",
       "    .dataframe tbody tr th {\n",
       "        vertical-align: top;\n",
       "    }\n",
       "\n",
       "    .dataframe thead th {\n",
       "        text-align: right;\n",
       "    }\n",
       "</style>\n",
       "<table border=\"1\" class=\"dataframe\">\n",
       "  <thead>\n",
       "    <tr style=\"text-align: right;\">\n",
       "      <th></th>\n",
       "      <th>Sex</th>\n",
       "      <th>ChestPainType</th>\n",
       "      <th>RestingECG</th>\n",
       "      <th>ExerciseAngina</th>\n",
       "      <th>ST_Slope</th>\n",
       "      <th>FastingBS</th>\n",
       "      <th>HeartDisease</th>\n",
       "    </tr>\n",
       "  </thead>\n",
       "  <tbody>\n",
       "    <tr>\n",
       "      <th>missing_ratio</th>\n",
       "      <td>0.0</td>\n",
       "      <td>0.0</td>\n",
       "      <td>0.0</td>\n",
       "      <td>0.0</td>\n",
       "      <td>0.0</td>\n",
       "      <td>0.0</td>\n",
       "      <td>0.0</td>\n",
       "    </tr>\n",
       "    <tr>\n",
       "      <th>num_diff_vals</th>\n",
       "      <td>2</td>\n",
       "      <td>4</td>\n",
       "      <td>3</td>\n",
       "      <td>2</td>\n",
       "      <td>3</td>\n",
       "      <td>2</td>\n",
       "      <td>2</td>\n",
       "    </tr>\n",
       "    <tr>\n",
       "      <th>diff_vals</th>\n",
       "      <td>{'M': 0.79, 'F': 0.21}</td>\n",
       "      <td>{'ASY': 0.54, 'NAP': 0.22, 'ATA': 0.19, 'TA': ...</td>\n",
       "      <td>{'Normal': 0.6, 'LVH': 0.2, 'ST': 0.19}</td>\n",
       "      <td>{'N': 0.6, 'Y': 0.4}</td>\n",
       "      <td>{'Flat': 0.5, 'Up': 0.43, 'Down': 0.07}</td>\n",
       "      <td>{0: 0.77, 1: 0.23}</td>\n",
       "      <td>{1: 0.55, 0: 0.45}</td>\n",
       "    </tr>\n",
       "  </tbody>\n",
       "</table>\n",
       "</div>"
      ],
      "text/plain": [
       "                                  Sex  \\\n",
       "missing_ratio                     0.0   \n",
       "num_diff_vals                       2   \n",
       "diff_vals      {'M': 0.79, 'F': 0.21}   \n",
       "\n",
       "                                                   ChestPainType  \\\n",
       "missing_ratio                                                0.0   \n",
       "num_diff_vals                                                  4   \n",
       "diff_vals      {'ASY': 0.54, 'NAP': 0.22, 'ATA': 0.19, 'TA': ...   \n",
       "\n",
       "                                            RestingECG        ExerciseAngina  \\\n",
       "missing_ratio                                      0.0                   0.0   \n",
       "num_diff_vals                                        3                     2   \n",
       "diff_vals      {'Normal': 0.6, 'LVH': 0.2, 'ST': 0.19}  {'N': 0.6, 'Y': 0.4}   \n",
       "\n",
       "                                              ST_Slope           FastingBS  \\\n",
       "missing_ratio                                      0.0                 0.0   \n",
       "num_diff_vals                                        3                   2   \n",
       "diff_vals      {'Flat': 0.5, 'Up': 0.43, 'Down': 0.07}  {0: 0.77, 1: 0.23}   \n",
       "\n",
       "                     HeartDisease  \n",
       "missing_ratio                 0.0  \n",
       "num_diff_vals                   2  \n",
       "diff_vals      {1: 0.55, 0: 0.45}  "
      ]
     },
     "execution_count": 40,
     "metadata": {},
     "output_type": "execute_result"
    }
   ],
   "source": [
    "def num_diff_vals(s):\n",
    "    return s.nunique()\n",
    "\n",
    "def diff_vals(s):\n",
    "    value_counts = s.value_counts()\n",
    "    percent_value_counts = round(value_counts / value_counts.sum(),2)\n",
    "    dict_percent = percent_value_counts.to_dict()\n",
    "    return dict_percent\n",
    "\n",
    "cate_cols_df = df[[\"Sex\", \"ChestPainType\",\n",
    "                         \"RestingECG\", \"ExerciseAngina\", \n",
    "                         \"ST_Slope\",\"FastingBS\",\n",
    "                          'HeartDisease']]\n",
    "cate_col_profiles_df = cate_cols_df.agg([missing_ratio, \n",
    "                                                 num_diff_vals, \n",
    "                                                 diff_vals])\n",
    "cate_col_profiles_df"
   ]
  },
  {
   "cell_type": "markdown",
   "id": "e3c16d30-01cd-4600-8f79-53dbb4016fef",
   "metadata": {},
   "source": [
    "Như vậy,\n",
    "- Tỉ lệ nam chiếm đa số trong tập dữ liệu\n",
    "- Các chỉ số bình thường chiếm tỉ lệ cao hơn nếu xét riêng từng cột nhưng tỉ lệ có bệnh thì cao hơn. \n",
    "\n",
    "Lý giải điều này: có thể là ở cột này chỉ số là bình thường nhưng cột khác chỉ số thì không bình thường."
   ]
  },
  {
   "cell_type": "markdown",
   "id": "ba21c350-cb27-479c-9997-09be934a63de",
   "metadata": {},
   "source": [
    "---"
   ]
  },
  {
   "cell_type": "markdown",
   "id": "2d8fa1f8-cc35-4492-a5e6-8ffbaaaaddfa",
   "metadata": {},
   "source": [
    "## Đặt câu hỏi"
   ]
  },
  {
   "cell_type": "markdown",
   "id": "5bc3af47-8e29-4de4-8a5c-da3a7318cb7c",
   "metadata": {},
   "source": [
    "### Câu hỏi 1: Giới tính nào có nguy cơ mắc bệnh về tim cao hơn?"
   ]
  },
  {
   "cell_type": "markdown",
   "id": "c48e2ca7",
   "metadata": {},
   "source": [
    "#### Nếu giải quyết câu hỏi sẽ: \n",
    "- Biết được tỉ lệ giới tính nào sẽ có nguy cơ cao hơn trong việc mắc các bệnh về tim mạch\n",
    "- Đưa ra các phương án phòng ngừa, tầm soát phù hợp cũng như có kế hoạch dự đoán thích hợp đối với các đối tượng nguy cơ dựa trên giới tính"
   ]
  },
  {
   "cell_type": "markdown",
   "id": "c5dccfe4",
   "metadata": {},
   "source": [
    "#### Các bước tiến hành\n",
    "- **Bước 1**: Tính tỉ lệ mắc hay không bệnh tim giữa các giới tính so với tổng số quan sát, kết quả được lưu vào dataframe sex_ratio\n",
    "- **Bước 2**: Vẽ biểu đồ cột thể hiện tỉ lệ mắc bệnh tim giữa các giới tính"
   ]
  },
  {
   "cell_type": "markdown",
   "id": "26dad57d",
   "metadata": {},
   "source": [
    "Code bước 1."
   ]
  },
  {
   "cell_type": "code",
   "execution_count": 42,
   "id": "ea974f89",
   "metadata": {},
   "outputs": [],
   "source": [
    "sex_ratio = df.groupby(['Sex','HeartDisease']).size().unstack()/df.shape[0]"
   ]
  },
  {
   "cell_type": "markdown",
   "id": "58ec508f",
   "metadata": {},
   "source": [
    "Code bước 2."
   ]
  },
  {
   "cell_type": "code",
   "execution_count": 43,
   "id": "448d42c4",
   "metadata": {},
   "outputs": [
    {
     "data": {
      "image/png": "[encoded data removed]",
      "text/plain": [
       "<Figure size 432x288 with 1 Axes>"
      ]
     },
     "metadata": {
      "needs_background": "light"
     },
     "output_type": "display_data"
    }
   ],
   "source": [
    "sex_ratio.plot.bar(ylabel='Ratio', title='Percentage of Heart Disease by Sex')\n",
    "plt.xticks(rotation=0);"
   ]
  },
  {
   "cell_type": "markdown",
   "id": "afe441af-a1d2-4a68-bc68-728f1d22ca9c",
   "metadata": {},
   "source": [
    "Theo như đồ thị, ta có thể thấy số lượng giới tính nam nhiều hơn so với giới tính nữ trong tập dữ liệu này. (như đã nói ở trên)\n",
    "\n",
    "Dựa trên đồ thị, ta thấy cột xanh cao hơn cột cam bên nữ, nhưng điều đó là ngược lại với nam. Ta có thể nhận xét sơ bộ tỉ lệ mắc bệnh của nam cao hơn của nữ\n",
    "\n",
    "Tuy nhiên, nhận xét này có vẻ chưa thuyết phục lắm vì do cần phải xem xét độ tuổi và nhiều yếu tố khảo sát khác nữa"
   ]
  },
  {
   "cell_type": "markdown",
   "id": "75ab19f5",
   "metadata": {},
   "source": [
    "### Câu hỏi 2: Tuổi và Nhịp tim tối đa ảnh hưởng như thế nào đến việc dễ mắc bệnh tim?"
   ]
  },
  {
   "cell_type": "markdown",
   "id": "a75619c2-3262-4c76-b2a9-23288105e2c1",
   "metadata": {},
   "source": [
    "#### Ý nghĩa\n",
    "Giúp ta biết được ảnh hưởng của tuổi và nhịp tim tối đa đến bệnh tim. Từ đó sau khi chẩn đoán và có lời khuyên cho bệnh nhân"
   ]
  },
  {
   "cell_type": "markdown",
   "id": "efde8253-e3d8-4d9f-9cc9-db23799196a8",
   "metadata": {},
   "source": [
    "#### Các bước tiến hành\n",
    "- Bước 1: Lấy tập dữ liệu gồm Age, MaxHR, HeartDisease và gom nhóm theo HeartDisease\n",
    "- Bước 2: vẽ biểu đồ phân tán với:\n",
    "    + trục hoành là Age, \n",
    "    + trục tung là MaxHR, \n",
    "    + phân biệt điểm theo HeartDisease theo màu và marker"
   ]
  },
  {
   "cell_type": "markdown",
   "id": "b38c87bd-94b5-4a86-a360-066e9c648ae6",
   "metadata": {},
   "source": [
    "Code bước 1"
   ]
  },
  {
   "cell_type": "code",
   "execution_count": 45,
   "id": "c0f066c3-6e75-4184-884b-f5bcf15dbc98",
   "metadata": {},
   "outputs": [],
   "source": [
    "age_maxHR_label = df[['HeartDisease','Age','MaxHR']].groupby('HeartDisease')"
   ]
  },
  {
   "cell_type": "markdown",
   "id": "1f4aea16-25ec-4f36-a13b-803e4e223521",
   "metadata": {},
   "source": [
    "Code bước 2"
   ]
  },
  {
   "cell_type": "code",
   "execution_count": 48,
   "id": "5626c75f-0f07-4c58-a91f-4c88aac983d6",
   "metadata": {},
   "outputs": [
    {
     "data": {
      "image/png": "[encoded data removed]",
      "text/plain": [
       "<Figure size 432x288 with 1 Axes>"
      ]
     },
     "metadata": {
      "needs_background": "light"
     },
     "output_type": "display_data"
    }
   ],
   "source": [
    "fig = plt.figure()\n",
    "ax1 = fig.add_subplot(111)\n",
    "\n",
    "cs = ['b', 'r'] # color by group in data\n",
    "markers = ['s', 'o'] # marker by group in data\n",
    "\n",
    "for key, group in age_maxHR_label:\n",
    "    ax1.scatter(group['Age'], group['MaxHR'], \n",
    "                s=10, c=cs[key], \n",
    "                marker=markers[key], \n",
    "                label='HeartDisease='+str(key))\n",
    "\n",
    "plt.legend(loc='lower left');\n",
    "plt.xlabel('Age')\n",
    "plt.ylabel('MaxHR')\n",
    "plt.title('Effect of Age and MaxHR to Heart Disease')\n",
    "\n",
    "plt.show()"
   ]
  },
  {
   "cell_type": "markdown",
   "id": "c97590a9-4ea3-4dfb-82bc-7c769ee66ff1",
   "metadata": {},
   "source": [
    "Từ hình trên, ta nhận xét rằng những người có tuổi càng cao nhưng nhịp tim tối đa càng thấp thì khả năng mắc bệnh sẽ cao hơn"
   ]
  },
  {
   "cell_type": "markdown",
   "id": "5f4e1ce2",
   "metadata": {},
   "source": [
    "### Câu hỏi 3: Các nhóm tuổi ảnh hưởng như thế nào đến kết quả bị bệnh tim?"
   ]
  },
  {
   "cell_type": "markdown",
   "id": "a05a7968",
   "metadata": {},
   "source": [
    "#### Nếu giải quyết câu hỏi sẽ: \n",
    "- Biết được nhóm tuổi nào sẽ có nguy cơ cao hơn trong việc mắc các bệnh về tim mạch\n",
    "- Đưa ra các phương án phòng ngừa, tầm soát phù hợp cũng như có kế hoạch dự đoán thích hợp đối với các đối tượng nguy cơ dựa trên nhóm tuổi"
   ]
  },
  {
   "cell_type": "markdown",
   "id": "4a7f1d10-16d6-4478-8a78-6e39c285c016",
   "metadata": {},
   "source": [
    "#### Tiền xử lý & Phân tích để trả lời câu hỏi\n",
    "- Để tiện cho việc xử lý dữ liệu, tiến hành thêm 1 cột trong dataframe ban đầu là chia cột tuổi thành 3 nhóm `young`, `middle_aged` và `old`"
   ]
  },
  {
   "cell_type": "code",
   "execution_count": 53,
   "id": "93b09025-53d4-4b49-908e-0d9504414587",
   "metadata": {},
   "outputs": [],
   "source": [
    "df[\"Age_group\"] = pd.cut(x=df[\"Age\"], \n",
    "                         bins=[0,30,60,100], \n",
    "                         labels=[\"young(0-30)\",\"middle_aged(30-60)\",\"old(60-100)\"])"
   ]
  },
  {
   "cell_type": "markdown",
   "id": "ca2f8062",
   "metadata": {},
   "source": [
    "Tiến hành vẽ dữ liệu theo như câu 1 để xem có gì hay không nhé"
   ]
  },
  {
   "cell_type": "code",
   "execution_count": 54,
   "id": "026e195a",
   "metadata": {},
   "outputs": [
    {
     "data": {
      "image/png": "[encoded data removed]",
      "text/plain": [
       "<Figure size 432x288 with 1 Axes>"
      ]
     },
     "metadata": {
      "needs_background": "light"
     },
     "output_type": "display_data"
    }
   ],
   "source": [
    "temp = df.groupby(['Age_group','HeartDisease']).size().unstack()/df.shape[0]\n",
    "temp.plot.bar(ylabel=\"Ratio\", xlabel='Age Group',\n",
    "              rot=0, \n",
    "              title='Percentage of Heart Disease by Age Group');"
   ]
  },
  {
   "cell_type": "markdown",
   "id": "092eef24",
   "metadata": {},
   "source": [
    "Oh Wao, ta nhận thấy có vẻ ở nhóm tuổi `middle_aged` thì tỉ lệ bệnh tim và không bệnh tim gần như là bằng nhau vậy thì ở độ tuổi này sẽ có các yếu tố nguy cơ khác ảnh hưởng, vậy làm sao tìm ra đây ? Liệu nếu việc chia tỉ lệ độ tuổi khác nhau có ảnh hưởng hay không ? Cùng thử xem"
   ]
  },
  {
   "cell_type": "code",
   "execution_count": 61,
   "id": "977cfe73",
   "metadata": {},
   "outputs": [
    {
     "data": {
      "image/png": "[encoded data removed]",
      "text/plain": [
       "<Figure size 864x288 with 2 Axes>"
      ]
     },
     "metadata": {
      "needs_background": "light"
     },
     "output_type": "display_data"
    }
   ],
   "source": [
    "df[\"Age_group_1\"] = pd.cut(x=df[\"Age\"], bins=[0,35,55,100], labels=[\"young(0-35)\",\"middle_aged(35-55)\",\"old(55-100)\"])\n",
    "temp1 = df.groupby(['Age_group_1','HeartDisease']).size().unstack()/df.shape[0]\n",
    "\n",
    "df[\"Age_group_2\"] = pd.cut(x=df[\"Age\"], bins=[0,40,65,100], labels=[\"young(0-40)\",\"middle_aged(40-65)\",\"old(65-100)\"])\n",
    "temp2 = df.groupby(['Age_group_2','HeartDisease']).size().unstack()/df.shape[0]\n",
    "\n",
    "fig, axes = plt.subplots(nrows=1, ncols=2)\n",
    "fig.set_figheight(4)\n",
    "fig.set_figwidth(12)\n",
    "temp1.plot.bar(ax=axes[0], rot=0, ylabel='Ratio')\n",
    "temp2.plot.bar(ax=axes[1], rot=0, ylabel='Ratio');"
   ]
  },
  {
   "cell_type": "markdown",
   "id": "3eae47a7",
   "metadata": {},
   "source": [
    "Từ dữ liệu quan sát, ta nhận thấy ở lứa tuổi `middle_aged` ở cả 3 cách chia độ tuổi đều không thể xác định được tỉ lệ bệnh tim ở các độ tuổi này, nhưng riêng với độ tuổi `old` và  `young` ta đều thấy tỉ lệ mắc bệnh tim ở độ tuổi `young ` luôn thấp hơn và `old` luôn cao hơn"
   ]
  },
  {
   "cell_type": "markdown",
   "id": "eb011c48-bc95-4462-8a83-1db3e4258920",
   "metadata": {},
   "source": [
    "### Câu hỏi 4: Chỉ số Choresterol theo giới tính ảnh hưởng như thế nào đến bệnh tim"
   ]
  },
  {
   "cell_type": "markdown",
   "id": "be93ee52-5fda-4edf-bac0-6b0cc4d80d8f",
   "metadata": {},
   "source": [
    "#### Ý nghĩa: \n",
    "giúp ta biết hơn về các chỉ số choresterol ở mỗi giới tính là tốt hay xấu"
   ]
  },
  {
   "cell_type": "markdown",
   "id": "125600f0-f7eb-4846-ab8c-07a41db76906",
   "metadata": {},
   "source": [
    "#### Cách tiến hành\n",
    "- Bước 1: gom nhóm dữ liệu gồm các cột: Sex, Choresterol, HeartDisease theo (HeartDisease, Sex) và lấy mean giá trị rồi chuyển thành dataframe\n",
    "- Bước 2: vẽ biểu đồ cột chồng để thể hiện với trục hoành là giới tính, trục tung là lượng trung bình cholesterol, và được chia theo màu sắc dựa trên nhãn"
   ]
  },
  {
   "cell_type": "markdown",
   "id": "c909b245-92f8-4bf6-8a3d-7493b679cead",
   "metadata": {},
   "source": [
    "Code bước 1"
   ]
  },
  {
   "cell_type": "code",
   "execution_count": 17,
   "id": "e429033d-9938-47d6-90db-0e85ab920c7c",
   "metadata": {},
   "outputs": [],
   "source": [
    "chol_sex_label = df[['Sex', 'Cholesterol', 'HeartDisease']]\n",
    "chol_by_sex_label = chol_sex_label.groupby(['Sex', 'HeartDisease'])\n",
    "mean_chol_by_sex_label = chol_by_sex_label.mean().unstack()"
   ]
  },
  {
   "cell_type": "markdown",
   "id": "66a8e4f3-591b-4ac4-85a6-e70b3d1ec8d9",
   "metadata": {},
   "source": [
    "Code bước 2"
   ]
  },
  {
   "cell_type": "code",
   "execution_count": 18,
   "id": "c943bcbd-dc2d-4e62-98d7-2f9606f7959e",
   "metadata": {},
   "outputs": [
    {
     "data": {
      "image/png": "[encoded data removed]",
      "text/plain": [
       "<Figure size 432x288 with 1 Axes>"
      ]
     },
     "metadata": {
      "needs_background": "light"
     },
     "output_type": "display_data"
    }
   ],
   "source": [
    "mean_chol_by_sex_label.plot.barh(stacked=True, title='Effect of Mean Cholesterol by Sex to Heart Disease')\n",
    "plt.legend(['HeartDisease=0','HeartDisease=1'])\n",
    "plt.xlabel('Mean Cholesterol');"
   ]
  },
  {
   "cell_type": "markdown",
   "id": "a6e57d34-e745-4272-8ada-5fa046853e40",
   "metadata": {},
   "source": [
    "Qua biểu đồ ta thấy lượng cholesterol trung bình của nữ ở mức an toàn(tức không mắc bệnh) là cao hơn của nam"
   ]
  },
  {
   "cell_type": "markdown",
   "id": "872f968c-bd90-48c0-8250-bc23c61a2ea2",
   "metadata": {},
   "source": [
    "---"
   ]
  },
  {
   "cell_type": "markdown",
   "id": "50eb900e-07d0-4d41-8c0f-9f37539b75d4",
   "metadata": {},
   "source": [
    "## Nhìn lại quá trình làm đồ án"
   ]
  },
  {
   "cell_type": "markdown",
   "id": "584e9e3b",
   "metadata": {},
   "source": [
    "### Huy\n",
    "1. **Những khó khăn**: \n",
    "    - Khó khăn đầu tiên là việc lựa chọn data để tiến hành làm đồ án, giữa rất nhiều data được chia sẻ trên mạng, cần tìm ra data phù hợp để tiến hành phân tích và trả lời câu hỏi cũng là khó khăn đầu tiên. Tiếp theo là việc review lại các kiến thức đã được học, các kiến thức được học chủ yếu là nhớ các công việc mà các công cụ có thể làm, việc nhớ cú pháp khá khó khăn.\n",
    "2. **Những điều học được**: \n",
    "    - Học được cách tự giải quyết vấn đề, đồ án tuy làm chung nhóm nhưng vẫn phải chia các branch khác nhau để làm nên vẫn đề cao khả năng làm việc độc lập. Hiểu được thêm về đồng đội trong đồ án, cũng là đồng đội trong luận văn, hiểu nhau nhiều hơn để có thể làm việc cùng nhau tốt hơn."
   ]
  },
  {
   "cell_type": "markdown",
   "id": "1f6c18de",
   "metadata": {},
   "source": [
    "### Vượng\n",
    "1. Những khó khăn gặp phải:\n",
    "    - Do dữ liệu nhóm lấy có nhãn - phục vụ cho bài toán classification, nên các giá trị cũng ảnh hưởng bởi nhãn, do đó các góc nhìn nó có phụ thuộc nhiều vào nhãn\n",
    "    - Dữ liệu khá sạch dẫn đến nhóm không có nhiều bước để tiền xử lý dữ liệu, thấy hơi thiếu thiếu\n",
    "2. Học được điều hữu ích:\n",
    "    - Biết được các thông số liên quan đến bệnh tim\n",
    "    - Biết được các chỉ số như thế nào dễ ảnh hưởng đến bệnh tim (nhờ vào phân tích và kiểm tra lại kết quả thống kê thông qua các tờ báo y khoa và hỏi bạn học y\n"
   ]
  },
  {
   "cell_type": "markdown",
   "id": "35d6c8b6",
   "metadata": {},
   "source": [
    "- **Nếu có thêm thời gian**: Nhóm thấy những phân tích hiện tại đã ổn, nếu có chăng phát triển thì sẽ xây dựng model để học và xem xét feature important để biết được các giá trị ảnh hưởng đến bệnh tim"
   ]
  },
  {
   "cell_type": "markdown",
   "id": "5b83bb2d-3c1a-4dde-95d2-5a543e0252f6",
   "metadata": {},
   "source": [
    "## Tài liệu tham khảo"
   ]
  },
  {
   "cell_type": "markdown",
   "id": "afe35dfe",
   "metadata": {},
   "source": [
    "1. https://www.kaggle.com/fedesoriano/heart-failure-prediction\n",
    "2. Bài tập HW3 của thầy\n",
    "3. https://stackoverflow.com/questions/4270301/matplotlib-multiple-datasets-on-the-same-scatter-plot\n",
    "4. https://pandas.pydata.org/docs/reference/frame.html\n",
    "5. https://opendatacommons.org/licenses/odbl/1-0/"
   ]
  }
 ],
 "metadata": {
  "kernelspec": {
   "display_name": "Python 3 (ipykernel)",
   "language": "python",
   "name": "python3"
  },
  "language_info": {
   "codemirror_mode": {
    "name": "ipython",
    "version": 3
   },
   "file_extension": ".py",
   "mimetype": "text/x-python",
   "name": "python",
   "nbconvert_exporter": "python",
   "pygments_lexer": "ipython3",
   "version": "3.8.8"
  }
 },
 "nbformat": 4,
 "nbformat_minor": 5
}
